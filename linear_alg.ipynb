{
 "cells": [
  {
   "cell_type": "code",
   "execution_count": 5,
   "id": "impossible-consent",
   "metadata": {},
   "outputs": [
    {
     "data": {
      "text/plain": [
       "array([[-1. ,  2.3,  5. ],\n",
       "       [-1.2,  3. , -4.5],\n",
       "       [ 1. ,  4. ,  6. ]])"
      ]
     },
     "execution_count": 5,
     "metadata": {},
     "output_type": "execute_result"
    }
   ],
   "source": [
    "import numpy as np\n",
    "a=np.array(([-1,2.3,5],[-1.2,3,-4.5],[1,4,6]))\n",
    "a"
   ]
  },
  {
   "cell_type": "code",
   "execution_count": 7,
   "id": "growing-discipline",
   "metadata": {},
   "outputs": [
    {
     "data": {
      "text/plain": [
       "array([-1. ,  2.3,  5. , -1.2,  3. , -4.5,  1. ,  4. ,  6. ])"
      ]
     },
     "execution_count": 7,
     "metadata": {},
     "output_type": "execute_result"
    }
   ],
   "source": [
    "a[(a<2)|(a>1)]"
   ]
  },
  {
   "cell_type": "code",
   "execution_count": 8,
   "id": "racial-projection",
   "metadata": {},
   "outputs": [
    {
     "data": {
      "text/plain": [
       "array([[1. , 2.3, 5. ],\n",
       "       [1.2, 3. , 4.5],\n",
       "       [1. , 4. , 6. ]])"
      ]
     },
     "execution_count": 8,
     "metadata": {},
     "output_type": "execute_result"
    }
   ],
   "source": [
    "np.where(a>0,a,-a)"
   ]
  },
  {
   "cell_type": "code",
   "execution_count": 9,
   "id": "imported-grace",
   "metadata": {},
   "outputs": [
    {
     "data": {
      "text/plain": [
       "array([[ 1. ,  3.4, -5. ],\n",
       "       [-3.4,  7. ,  8. ],\n",
       "       [ 1. ,  4. ,  5. ]])"
      ]
     },
     "execution_count": 9,
     "metadata": {},
     "output_type": "execute_result"
    }
   ],
   "source": [
    "b=np.array([[1,3.4,-5],[-3.4,7,8],[1,4,5]])\n",
    "b"
   ]
  },
  {
   "cell_type": "code",
   "execution_count": 10,
   "id": "canadian-cathedral",
   "metadata": {},
   "outputs": [
    {
     "data": {
      "text/plain": [
       "array([[ -3.82,  32.7 ,  48.4 ],\n",
       "       [-15.9 ,  -1.08,   7.5 ],\n",
       "       [ -6.6 ,  55.4 ,  57.  ]])"
      ]
     },
     "execution_count": 10,
     "metadata": {},
     "output_type": "execute_result"
    }
   ],
   "source": [
    "a@b"
   ]
  },
  {
   "cell_type": "code",
   "execution_count": 11,
   "id": "married-johns",
   "metadata": {},
   "outputs": [
    {
     "data": {
      "text/plain": [
       "array([[-1. , -1.2,  1. ],\n",
       "       [ 2.3,  3. ,  4. ],\n",
       "       [ 5. , -4.5,  6. ]])"
      ]
     },
     "execution_count": 11,
     "metadata": {},
     "output_type": "execute_result"
    }
   ],
   "source": [
    "a.T"
   ]
  },
  {
   "cell_type": "code",
   "execution_count": 12,
   "id": "compressed-think",
   "metadata": {},
   "outputs": [
    {
     "data": {
      "text/plain": [
       "array([[False, False, False],\n",
       "       [False, False, False],\n",
       "       [ True,  True, False]])"
      ]
     },
     "execution_count": 12,
     "metadata": {},
     "output_type": "execute_result"
    }
   ],
   "source": [
    "a==b"
   ]
  },
  {
   "cell_type": "code",
   "execution_count": 13,
   "id": "understood-bibliography",
   "metadata": {},
   "outputs": [
    {
     "data": {
      "text/plain": [
       "array([[-1. ,  2.3,  5. ],\n",
       "       [-1.2,  3. , -4.5],\n",
       "       [ 1. ,  4. ,  6. ]])"
      ]
     },
     "execution_count": 13,
     "metadata": {},
     "output_type": "execute_result"
    }
   ],
   "source": [
    "a"
   ]
  },
  {
   "cell_type": "code",
   "execution_count": 23,
   "id": "turned-albuquerque",
   "metadata": {},
   "outputs": [
    {
     "data": {
      "text/plain": [
       "array([2.3, 3. , 4. ])"
      ]
     },
     "execution_count": 23,
     "metadata": {},
     "output_type": "execute_result"
    }
   ],
   "source": [
    "a[:,1]"
   ]
  },
  {
   "cell_type": "code",
   "execution_count": 20,
   "id": "confused-circuit",
   "metadata": {},
   "outputs": [
    {
     "data": {
      "text/plain": [
       "array([[-1. ,  4.6, 10. ],\n",
       "       [-1.2,  6. , -4.5],\n",
       "       [ 2. ,  8. , 12. ]])"
      ]
     },
     "execution_count": 20,
     "metadata": {},
     "output_type": "execute_result"
    }
   ],
   "source": [
    "np.where(a<0,a,2*a)"
   ]
  },
  {
   "cell_type": "code",
   "execution_count": 26,
   "id": "broad-surname",
   "metadata": {},
   "outputs": [
    {
     "data": {
      "text/plain": [
       "array([[-1. ,  5. ],\n",
       "       [-1.2, -4.5]])"
      ]
     },
     "execution_count": 26,
     "metadata": {},
     "output_type": "execute_result"
    }
   ],
   "source": [
    "a[:2:,0:3:2]"
   ]
  },
  {
   "cell_type": "code",
   "execution_count": 27,
   "id": "separate-thunder",
   "metadata": {},
   "outputs": [
    {
     "data": {
      "text/plain": [
       "(3, 3)"
      ]
     },
     "execution_count": 27,
     "metadata": {},
     "output_type": "execute_result"
    }
   ],
   "source": [
    "np.shape(a)"
   ]
  },
  {
   "cell_type": "code",
   "execution_count": 28,
   "id": "saved-transsexual",
   "metadata": {},
   "outputs": [
    {
     "data": {
      "text/plain": [
       "2"
      ]
     },
     "execution_count": 28,
     "metadata": {},
     "output_type": "execute_result"
    }
   ],
   "source": [
    "np.ndim(a)"
   ]
  },
  {
   "cell_type": "code",
   "execution_count": 34,
   "id": "unique-ozone",
   "metadata": {},
   "outputs": [
    {
     "data": {
      "text/plain": [
       "array([ 1. ,  3.4, -5. , -3.4,  7. ,  8. ,  1. ,  4. ,  5. ])"
      ]
     },
     "execution_count": 34,
     "metadata": {},
     "output_type": "execute_result"
    }
   ],
   "source": [
    "np.reshape(b,(9))"
   ]
  },
  {
   "cell_type": "code",
   "execution_count": 35,
   "id": "structured-arnold",
   "metadata": {},
   "outputs": [
    {
     "data": {
      "text/plain": [
       "9"
      ]
     },
     "execution_count": 35,
     "metadata": {},
     "output_type": "execute_result"
    }
   ],
   "source": [
    "np.size(a)"
   ]
  },
  {
   "cell_type": "code",
   "execution_count": 36,
   "id": "satisfied-saudi",
   "metadata": {},
   "outputs": [
    {
     "data": {
      "text/plain": [
       "array([[1., 0.],\n",
       "       [0., 1.]])"
      ]
     },
     "execution_count": 36,
     "metadata": {},
     "output_type": "execute_result"
    }
   ],
   "source": [
    "np.identity(2)"
   ]
  },
  {
   "cell_type": "code",
   "execution_count": 37,
   "id": "extra-spank",
   "metadata": {},
   "outputs": [
    {
     "data": {
      "text/plain": [
       "-68.78999999999998"
      ]
     },
     "execution_count": 37,
     "metadata": {},
     "output_type": "execute_result"
    }
   ],
   "source": [
    "np.linalg.det(a)"
   ]
  },
  {
   "cell_type": "code",
   "execution_count": 44,
   "id": "formed-influence",
   "metadata": {},
   "outputs": [
    {
     "data": {
      "text/plain": [
       "array([[ 1.00000000e+00,  2.22044605e-16,  1.11022302e-16],\n",
       "       [ 0.00000000e+00,  1.00000000e+00,  0.00000000e+00],\n",
       "       [ 4.77048956e-18, -8.67361738e-18,  1.00000000e+00]])"
      ]
     },
     "execution_count": 44,
     "metadata": {},
     "output_type": "execute_result"
    }
   ],
   "source": [
    "c=np.linalg.inv(a)\n",
    "c@a"
   ]
  },
  {
   "cell_type": "code",
   "execution_count": 39,
   "id": "another-hygiene",
   "metadata": {},
   "outputs": [
    {
     "name": "stdout",
     "output_type": "stream",
     "text": [
      "['LinAlgError', '__builtins__', '__cached__', '__doc__', '__file__', '__loader__', '__name__', '__package__', '__path__', '__spec__', '_umath_linalg', 'cholesky', 'cond', 'det', 'eig', 'eigh', 'eigvals', 'eigvalsh', 'inv', 'lapack_lite', 'linalg', 'lstsq', 'matrix_power', 'matrix_rank', 'multi_dot', 'norm', 'pinv', 'qr', 'slogdet', 'solve', 'svd', 'tensorinv', 'tensorsolve', 'test']\n"
     ]
    }
   ],
   "source": [
    "print(dir(np.linalg))"
   ]
  },
  {
   "cell_type": "code",
   "execution_count": 42,
   "id": "emerging-folder",
   "metadata": {},
   "outputs": [
    {
     "data": {
      "text/plain": [
       "array([[ -18.11 ,  139.852,   -6.6  ],\n",
       "       [ -25.488, -237.15 , -260.58 ],\n",
       "       [ -23.16 ,  207.36 ,  -33.35 ]])"
      ]
     },
     "execution_count": 42,
     "metadata": {},
     "output_type": "execute_result"
    }
   ],
   "source": [
    "np.linalg.matrix_power(a,n=3)"
   ]
  },
  {
   "cell_type": "code",
   "execution_count": 52,
   "id": "raised-costume",
   "metadata": {},
   "outputs": [
    {
     "data": {
      "text/plain": [
       "array([-5.,  3.])"
      ]
     },
     "execution_count": 52,
     "metadata": {},
     "output_type": "execute_result"
    }
   ],
   "source": [
    "A=np.array([[3,-9],[2,4]])\n",
    "B=np.array([-42,2])\n",
    "np.linalg.solve(A,B)"
   ]
  },
  {
   "cell_type": "code",
   "execution_count": 58,
   "id": "contained-consistency",
   "metadata": {},
   "outputs": [
    {
     "name": "stdout",
     "output_type": "stream",
     "text": [
      "[2. 4. 3.]\n"
     ]
    }
   ],
   "source": [
    "import numpy as np\n",
    "from scipy.optimize import fsolve\n",
    "\n",
    "def myFunction(z):\n",
    "    x = z[0]\n",
    "    y = z[1]\n",
    "    w = z[2]\n",
    "\n",
    "    F = np.empty((3))\n",
    "    F[0] = x**2+y**2-20\n",
    "    F[1] = y - x**2\n",
    "    F[2] = w + 5 - x*y\n",
    "    return F\n",
    "\n",
    "zGuess = np.array([2,9,3])\n",
    "z = fsolve(myFunction,zGuess)\n",
    "print(z)"
   ]
  },
  {
   "cell_type": "code",
   "execution_count": 59,
   "id": "gothic-tours",
   "metadata": {},
   "outputs": [
    {
     "data": {
      "text/plain": [
       "array([1.42350984e-316, 0.00000000e+000, 6.92940690e-310, 6.92935026e-310,\n",
       "       2.37151510e-322])"
      ]
     },
     "execution_count": 59,
     "metadata": {},
     "output_type": "execute_result"
    }
   ],
   "source": [
    "np.empty(5)"
   ]
  },
  {
   "cell_type": "code",
   "execution_count": 63,
   "id": "stone-subcommittee",
   "metadata": {},
   "outputs": [
    {
     "data": {
      "text/plain": [
       "[<matplotlib.lines.Line2D at 0x7f8edd63c5b0>]"
      ]
     },
     "execution_count": 63,
     "metadata": {},
     "output_type": "execute_result"
    },
    {
     "data": {
      "image/png": "[encoded data removed]",
      "text/plain": [
       "<Figure size 432x288 with 1 Axes>"
      ]
     },
     "metadata": {
      "needs_background": "light"
     },
     "output_type": "display_data"
    }
   ],
   "source": [
    "from matplotlib import pyplot as plt\n",
    "x=np.linspace(0,10,10)\n",
    "plt.plot(x,np.sin(x))"
   ]
  },
  {
   "cell_type": "code",
   "execution_count": 64,
   "id": "fifth-pound",
   "metadata": {},
   "outputs": [
    {
     "data": {
      "image/png": "[encoded data removed]",
      "text/plain": [
       "<Figure size 1080x432 with 6 Axes>"
      ]
     },
     "metadata": {
      "needs_background": "light"
     },
     "output_type": "display_data"
    }
   ],
   "source": [
    "plt.figure(figsize=(15,6))\n",
    "plt.subplot(2, 3, 1)\n",
    "plt.plot(x, np.sin(x) + 0, 'g')\n",
    "plt.subplot(2, 3, 2)\n",
    "plt.plot(x, np.sin(x) + 0, '--b')\n",
    "plt.subplot(2, 3, 3)\n",
    "plt.plot(x, np.sin(x) + 0, ':r')\n",
    "plt.subplot(2, 3, 4)\n",
    "plt.plot(x, np.sin(x) + 0, ':.k')\n",
    "plt.subplot(2, 3, 5)\n",
    "plt.plot(x, np.sin(x) + 0, '.c')\n",
    "plt.subplot(2, 3, 6)\n",
    "plt.plot(x, np.sin(x) + 0, '>y');"
   ]
  },
  {
   "cell_type": "code",
   "execution_count": null,
   "id": "judicial-election",
   "metadata": {},
   "outputs": [],
   "source": []
  }
 ],
 "metadata": {
  "kernelspec": {
   "display_name": "Python 3",
   "language": "python",
   "name": "python3"
  },
  "language_info": {
   "codemirror_mode": {
    "name": "ipython",
    "version": 3
   },
   "file_extension": ".py",
   "mimetype": "text/x-python",
   "name": "python",
   "nbconvert_exporter": "python",
   "pygments_lexer": "ipython3",
   "version": "3.9.2"
  }
 },
 "nbformat": 4,
 "nbformat_minor": 5
}
