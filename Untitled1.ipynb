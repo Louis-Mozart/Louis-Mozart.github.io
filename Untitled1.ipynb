{
 "cells": [
  {
   "cell_type": "markdown",
   "id": "sensitive-drive",
   "metadata": {},
   "source": [
    "### Data Driven part"
   ]
  },
  {
   "cell_type": "code",
   "execution_count": 2,
   "id": "usual-audio",
   "metadata": {},
   "outputs": [],
   "source": [
    "import pandas as pd\n",
    "import numpy as np\n",
    "import matplotlib.pyplot as plt"
   ]
  },
  {
   "cell_type": "code",
   "execution_count": 2,
   "id": "ultimate-genetics",
   "metadata": {},
   "outputs": [
    {
     "data": {
      "text/html": [
       "<div>\n",
       "<style scoped>\n",
       "    .dataframe tbody tr th:only-of-type {\n",
       "        vertical-align: middle;\n",
       "    }\n",
       "\n",
       "    .dataframe tbody tr th {\n",
       "        vertical-align: top;\n",
       "    }\n",
       "\n",
       "    .dataframe thead th {\n",
       "        text-align: right;\n",
       "    }\n",
       "</style>\n",
       "<table border=\"1\" class=\"dataframe\">\n",
       "  <thead>\n",
       "    <tr style=\"text-align: right;\">\n",
       "      <th></th>\n",
       "      <th>Unnamed: 0</th>\n",
       "      <th>MSSubClass</th>\n",
       "      <th>LotFrontage</th>\n",
       "      <th>LotArea</th>\n",
       "      <th>OverallQual</th>\n",
       "      <th>OverallCond</th>\n",
       "      <th>YearBuilt</th>\n",
       "      <th>YearRemodAdd</th>\n",
       "      <th>MasVnrArea</th>\n",
       "      <th>BsmtFinSF1</th>\n",
       "      <th>...</th>\n",
       "      <th>SaleType_New</th>\n",
       "      <th>SaleType_Oth</th>\n",
       "      <th>SaleType_WD</th>\n",
       "      <th>SaleCondition_Abnorml</th>\n",
       "      <th>SaleCondition_AdjLand</th>\n",
       "      <th>SaleCondition_Alloca</th>\n",
       "      <th>SaleCondition_Family</th>\n",
       "      <th>SaleCondition_Normal</th>\n",
       "      <th>SaleCondition_Partial</th>\n",
       "      <th>SalePrice</th>\n",
       "    </tr>\n",
       "  </thead>\n",
       "  <tbody>\n",
       "    <tr>\n",
       "      <th>0</th>\n",
       "      <td>0</td>\n",
       "      <td>4.110874</td>\n",
       "      <td>4.189655</td>\n",
       "      <td>9.042040</td>\n",
       "      <td>7</td>\n",
       "      <td>5</td>\n",
       "      <td>2003</td>\n",
       "      <td>2003</td>\n",
       "      <td>5.283204</td>\n",
       "      <td>6.561031</td>\n",
       "      <td>...</td>\n",
       "      <td>0</td>\n",
       "      <td>0</td>\n",
       "      <td>1</td>\n",
       "      <td>0</td>\n",
       "      <td>0</td>\n",
       "      <td>0</td>\n",
       "      <td>0</td>\n",
       "      <td>1</td>\n",
       "      <td>0</td>\n",
       "      <td>12.247699</td>\n",
       "    </tr>\n",
       "    <tr>\n",
       "      <th>1</th>\n",
       "      <td>1</td>\n",
       "      <td>3.044522</td>\n",
       "      <td>4.394449</td>\n",
       "      <td>9.169623</td>\n",
       "      <td>6</td>\n",
       "      <td>8</td>\n",
       "      <td>1976</td>\n",
       "      <td>1976</td>\n",
       "      <td>0.000000</td>\n",
       "      <td>6.886532</td>\n",
       "      <td>...</td>\n",
       "      <td>0</td>\n",
       "      <td>0</td>\n",
       "      <td>1</td>\n",
       "      <td>0</td>\n",
       "      <td>0</td>\n",
       "      <td>0</td>\n",
       "      <td>0</td>\n",
       "      <td>1</td>\n",
       "      <td>0</td>\n",
       "      <td>12.109016</td>\n",
       "    </tr>\n",
       "    <tr>\n",
       "      <th>2</th>\n",
       "      <td>2</td>\n",
       "      <td>4.110874</td>\n",
       "      <td>4.234107</td>\n",
       "      <td>9.328212</td>\n",
       "      <td>7</td>\n",
       "      <td>5</td>\n",
       "      <td>2001</td>\n",
       "      <td>2002</td>\n",
       "      <td>5.093750</td>\n",
       "      <td>6.188264</td>\n",
       "      <td>...</td>\n",
       "      <td>0</td>\n",
       "      <td>0</td>\n",
       "      <td>1</td>\n",
       "      <td>0</td>\n",
       "      <td>0</td>\n",
       "      <td>0</td>\n",
       "      <td>0</td>\n",
       "      <td>1</td>\n",
       "      <td>0</td>\n",
       "      <td>12.317171</td>\n",
       "    </tr>\n",
       "    <tr>\n",
       "      <th>3</th>\n",
       "      <td>3</td>\n",
       "      <td>4.262680</td>\n",
       "      <td>4.110874</td>\n",
       "      <td>9.164401</td>\n",
       "      <td>7</td>\n",
       "      <td>5</td>\n",
       "      <td>1915</td>\n",
       "      <td>1970</td>\n",
       "      <td>0.000000</td>\n",
       "      <td>5.379897</td>\n",
       "      <td>...</td>\n",
       "      <td>0</td>\n",
       "      <td>0</td>\n",
       "      <td>1</td>\n",
       "      <td>1</td>\n",
       "      <td>0</td>\n",
       "      <td>0</td>\n",
       "      <td>0</td>\n",
       "      <td>0</td>\n",
       "      <td>0</td>\n",
       "      <td>11.849405</td>\n",
       "    </tr>\n",
       "    <tr>\n",
       "      <th>4</th>\n",
       "      <td>4</td>\n",
       "      <td>4.110874</td>\n",
       "      <td>4.442651</td>\n",
       "      <td>9.565284</td>\n",
       "      <td>8</td>\n",
       "      <td>5</td>\n",
       "      <td>2000</td>\n",
       "      <td>2000</td>\n",
       "      <td>5.860786</td>\n",
       "      <td>6.486161</td>\n",
       "      <td>...</td>\n",
       "      <td>0</td>\n",
       "      <td>0</td>\n",
       "      <td>1</td>\n",
       "      <td>0</td>\n",
       "      <td>0</td>\n",
       "      <td>0</td>\n",
       "      <td>0</td>\n",
       "      <td>1</td>\n",
       "      <td>0</td>\n",
       "      <td>12.429220</td>\n",
       "    </tr>\n",
       "    <tr>\n",
       "      <th>...</th>\n",
       "      <td>...</td>\n",
       "      <td>...</td>\n",
       "      <td>...</td>\n",
       "      <td>...</td>\n",
       "      <td>...</td>\n",
       "      <td>...</td>\n",
       "      <td>...</td>\n",
       "      <td>...</td>\n",
       "      <td>...</td>\n",
       "      <td>...</td>\n",
       "      <td>...</td>\n",
       "      <td>...</td>\n",
       "      <td>...</td>\n",
       "      <td>...</td>\n",
       "      <td>...</td>\n",
       "      <td>...</td>\n",
       "      <td>...</td>\n",
       "      <td>...</td>\n",
       "      <td>...</td>\n",
       "      <td>...</td>\n",
       "      <td>...</td>\n",
       "    </tr>\n",
       "    <tr>\n",
       "      <th>1455</th>\n",
       "      <td>1455</td>\n",
       "      <td>4.110874</td>\n",
       "      <td>4.143135</td>\n",
       "      <td>8.976894</td>\n",
       "      <td>6</td>\n",
       "      <td>5</td>\n",
       "      <td>1999</td>\n",
       "      <td>2000</td>\n",
       "      <td>0.000000</td>\n",
       "      <td>0.000000</td>\n",
       "      <td>...</td>\n",
       "      <td>0</td>\n",
       "      <td>0</td>\n",
       "      <td>1</td>\n",
       "      <td>0</td>\n",
       "      <td>0</td>\n",
       "      <td>0</td>\n",
       "      <td>0</td>\n",
       "      <td>1</td>\n",
       "      <td>0</td>\n",
       "      <td>12.072547</td>\n",
       "    </tr>\n",
       "    <tr>\n",
       "      <th>1456</th>\n",
       "      <td>1456</td>\n",
       "      <td>3.044522</td>\n",
       "      <td>4.454347</td>\n",
       "      <td>9.486152</td>\n",
       "      <td>6</td>\n",
       "      <td>6</td>\n",
       "      <td>1978</td>\n",
       "      <td>1988</td>\n",
       "      <td>4.787492</td>\n",
       "      <td>6.673298</td>\n",
       "      <td>...</td>\n",
       "      <td>0</td>\n",
       "      <td>0</td>\n",
       "      <td>1</td>\n",
       "      <td>0</td>\n",
       "      <td>0</td>\n",
       "      <td>0</td>\n",
       "      <td>0</td>\n",
       "      <td>1</td>\n",
       "      <td>0</td>\n",
       "      <td>12.254868</td>\n",
       "    </tr>\n",
       "    <tr>\n",
       "      <th>1457</th>\n",
       "      <td>1457</td>\n",
       "      <td>4.262680</td>\n",
       "      <td>4.204693</td>\n",
       "      <td>9.109746</td>\n",
       "      <td>7</td>\n",
       "      <td>9</td>\n",
       "      <td>1941</td>\n",
       "      <td>2006</td>\n",
       "      <td>0.000000</td>\n",
       "      <td>5.620401</td>\n",
       "      <td>...</td>\n",
       "      <td>0</td>\n",
       "      <td>0</td>\n",
       "      <td>1</td>\n",
       "      <td>0</td>\n",
       "      <td>0</td>\n",
       "      <td>0</td>\n",
       "      <td>0</td>\n",
       "      <td>1</td>\n",
       "      <td>0</td>\n",
       "      <td>12.493133</td>\n",
       "    </tr>\n",
       "    <tr>\n",
       "      <th>1458</th>\n",
       "      <td>1458</td>\n",
       "      <td>3.044522</td>\n",
       "      <td>4.234107</td>\n",
       "      <td>9.181735</td>\n",
       "      <td>5</td>\n",
       "      <td>6</td>\n",
       "      <td>1950</td>\n",
       "      <td>1996</td>\n",
       "      <td>0.000000</td>\n",
       "      <td>3.912023</td>\n",
       "      <td>...</td>\n",
       "      <td>0</td>\n",
       "      <td>0</td>\n",
       "      <td>1</td>\n",
       "      <td>0</td>\n",
       "      <td>0</td>\n",
       "      <td>0</td>\n",
       "      <td>0</td>\n",
       "      <td>1</td>\n",
       "      <td>0</td>\n",
       "      <td>11.864469</td>\n",
       "    </tr>\n",
       "    <tr>\n",
       "      <th>1459</th>\n",
       "      <td>1459</td>\n",
       "      <td>3.044522</td>\n",
       "      <td>4.330733</td>\n",
       "      <td>9.204121</td>\n",
       "      <td>5</td>\n",
       "      <td>6</td>\n",
       "      <td>1965</td>\n",
       "      <td>1965</td>\n",
       "      <td>0.000000</td>\n",
       "      <td>6.722630</td>\n",
       "      <td>...</td>\n",
       "      <td>0</td>\n",
       "      <td>0</td>\n",
       "      <td>1</td>\n",
       "      <td>0</td>\n",
       "      <td>0</td>\n",
       "      <td>0</td>\n",
       "      <td>0</td>\n",
       "      <td>1</td>\n",
       "      <td>0</td>\n",
       "      <td>11.901590</td>\n",
       "    </tr>\n",
       "  </tbody>\n",
       "</table>\n",
       "<p>1460 rows × 302 columns</p>\n",
       "</div>"
      ],
      "text/plain": [
       "      Unnamed: 0  MSSubClass  LotFrontage   LotArea  OverallQual  OverallCond  \\\n",
       "0              0    4.110874     4.189655  9.042040            7            5   \n",
       "1              1    3.044522     4.394449  9.169623            6            8   \n",
       "2              2    4.110874     4.234107  9.328212            7            5   \n",
       "3              3    4.262680     4.110874  9.164401            7            5   \n",
       "4              4    4.110874     4.442651  9.565284            8            5   \n",
       "...          ...         ...          ...       ...          ...          ...   \n",
       "1455        1455    4.110874     4.143135  8.976894            6            5   \n",
       "1456        1456    3.044522     4.454347  9.486152            6            6   \n",
       "1457        1457    4.262680     4.204693  9.109746            7            9   \n",
       "1458        1458    3.044522     4.234107  9.181735            5            6   \n",
       "1459        1459    3.044522     4.330733  9.204121            5            6   \n",
       "\n",
       "      YearBuilt  YearRemodAdd  MasVnrArea  BsmtFinSF1  ...  SaleType_New  \\\n",
       "0          2003          2003    5.283204    6.561031  ...             0   \n",
       "1          1976          1976    0.000000    6.886532  ...             0   \n",
       "2          2001          2002    5.093750    6.188264  ...             0   \n",
       "3          1915          1970    0.000000    5.379897  ...             0   \n",
       "4          2000          2000    5.860786    6.486161  ...             0   \n",
       "...         ...           ...         ...         ...  ...           ...   \n",
       "1455       1999          2000    0.000000    0.000000  ...             0   \n",
       "1456       1978          1988    4.787492    6.673298  ...             0   \n",
       "1457       1941          2006    0.000000    5.620401  ...             0   \n",
       "1458       1950          1996    0.000000    3.912023  ...             0   \n",
       "1459       1965          1965    0.000000    6.722630  ...             0   \n",
       "\n",
       "      SaleType_Oth  SaleType_WD  SaleCondition_Abnorml  SaleCondition_AdjLand  \\\n",
       "0                0            1                      0                      0   \n",
       "1                0            1                      0                      0   \n",
       "2                0            1                      0                      0   \n",
       "3                0            1                      1                      0   \n",
       "4                0            1                      0                      0   \n",
       "...            ...          ...                    ...                    ...   \n",
       "1455             0            1                      0                      0   \n",
       "1456             0            1                      0                      0   \n",
       "1457             0            1                      0                      0   \n",
       "1458             0            1                      0                      0   \n",
       "1459             0            1                      0                      0   \n",
       "\n",
       "      SaleCondition_Alloca  SaleCondition_Family  SaleCondition_Normal  \\\n",
       "0                        0                     0                     1   \n",
       "1                        0                     0                     1   \n",
       "2                        0                     0                     1   \n",
       "3                        0                     0                     0   \n",
       "4                        0                     0                     1   \n",
       "...                    ...                   ...                   ...   \n",
       "1455                     0                     0                     1   \n",
       "1456                     0                     0                     1   \n",
       "1457                     0                     0                     1   \n",
       "1458                     0                     0                     1   \n",
       "1459                     0                     0                     1   \n",
       "\n",
       "      SaleCondition_Partial  SalePrice  \n",
       "0                         0  12.247699  \n",
       "1                         0  12.109016  \n",
       "2                         0  12.317171  \n",
       "3                         0  11.849405  \n",
       "4                         0  12.429220  \n",
       "...                     ...        ...  \n",
       "1455                      0  12.072547  \n",
       "1456                      0  12.254868  \n",
       "1457                      0  12.493133  \n",
       "1458                      0  11.864469  \n",
       "1459                      0  11.901590  \n",
       "\n",
       "[1460 rows x 302 columns]"
      ]
     },
     "execution_count": 2,
     "metadata": {},
     "output_type": "execute_result"
    }
   ],
   "source": [
    "data=pd.read_csv('HousePricesTrainClean.csv')\n",
    "data"
   ]
  },
  {
   "cell_type": "code",
   "execution_count": 3,
   "id": "posted-facility",
   "metadata": {},
   "outputs": [
    {
     "data": {
      "text/plain": [
       "Index(['Unnamed: 0', 'MSSubClass', 'LotFrontage', 'LotArea', 'OverallQual',\n",
       "       'OverallCond', 'YearBuilt', 'YearRemodAdd', 'MasVnrArea', 'BsmtFinSF1',\n",
       "       ...\n",
       "       'SaleType_New', 'SaleType_Oth', 'SaleType_WD', 'SaleCondition_Abnorml',\n",
       "       'SaleCondition_AdjLand', 'SaleCondition_Alloca', 'SaleCondition_Family',\n",
       "       'SaleCondition_Normal', 'SaleCondition_Partial', 'SalePrice'],\n",
       "      dtype='object', length=302)"
      ]
     },
     "execution_count": 3,
     "metadata": {},
     "output_type": "execute_result"
    }
   ],
   "source": [
    "data.columns"
   ]
  },
  {
   "cell_type": "code",
   "execution_count": 4,
   "id": "thorough-container",
   "metadata": {},
   "outputs": [
    {
     "data": {
      "text/plain": [
       "(1460, 19)"
      ]
     },
     "execution_count": 4,
     "metadata": {},
     "output_type": "execute_result"
    }
   ],
   "source": [
    "feat1=data[['LotFrontage','LotArea','YearBuilt','BsmtUnfSF','TotalBsmtSF','1stFlrSF'\n",
    "            ,'2ndFlrSF','LowQualFinSF'\n",
    "            ,'GrLivArea','FullBath','HalfBath','BedroomAbvGr'\n",
    "           ,'KitchenAbvGr','TotRmsAbvGrd','GarageCars',\n",
    "           'GarageArea','PoolArea','MoSold','YrSold']].values\n",
    "feat1.shape"
   ]
  },
  {
   "cell_type": "code",
   "execution_count": 5,
   "id": "social-female",
   "metadata": {},
   "outputs": [
    {
     "data": {
      "text/plain": [
       "(1460,)"
      ]
     },
     "execution_count": 5,
     "metadata": {},
     "output_type": "execute_result"
    }
   ],
   "source": [
    "feat1.shape\n",
    "I=np.ones(1460)\n",
    "I.shape"
   ]
  },
  {
   "cell_type": "code",
   "execution_count": 6,
   "id": "cellular-horse",
   "metadata": {},
   "outputs": [
    {
     "data": {
      "text/plain": [
       "(1460, 20)"
      ]
     },
     "execution_count": 6,
     "metadata": {},
     "output_type": "execute_result"
    }
   ],
   "source": [
    "A=np.insert(feat1,0,I,axis=1)\n",
    "A.shape"
   ]
  },
  {
   "cell_type": "code",
   "execution_count": 7,
   "id": "intense-container",
   "metadata": {},
   "outputs": [
    {
     "data": {
      "text/plain": [
       "(1460,)"
      ]
     },
     "execution_count": 7,
     "metadata": {},
     "output_type": "execute_result"
    }
   ],
   "source": [
    "y=data['SalePrice'].values\n",
    "y.shape"
   ]
  },
  {
   "cell_type": "code",
   "execution_count": 8,
   "id": "stainless-rates",
   "metadata": {},
   "outputs": [
    {
     "data": {
      "text/plain": [
       "array([3.88087376e+07, 1.63811550e+08, 3.53853843e+08, 7.65305540e+10,\n",
       "       2.19610574e+08, 2.62452101e+08, 2.72250576e+08, 1.11305653e+08,\n",
       "       3.76824540e+06, 2.82352945e+08, 6.11440191e+07, 1.50155704e+07,\n",
       "       1.11333732e+08, 2.76086796e+07, 2.53876107e+08, 6.96922402e+07,\n",
       "       1.87106868e+10, 1.23162196e+06, 2.45542572e+08, 7.79207467e+10])"
      ]
     },
     "execution_count": 8,
     "metadata": {},
     "output_type": "execute_result"
    }
   ],
   "source": [
    "w0=np.array([1,2,3,4,5,6,7,1,2,3,4,5,6,7,3,4,5,6,7,8])\n",
    "w0.shape\n",
    "A.T@(A@w0-y)+0.5*w0"
   ]
  },
  {
   "cell_type": "code",
   "execution_count": 9,
   "id": "scheduled-union",
   "metadata": {},
   "outputs": [],
   "source": [
    "def F(w):\n",
    "    return np.linalg.norm(A@w-y,2)**2+0.25*np.linalg.norm(w,2)**2"
   ]
  },
  {
   "cell_type": "code",
   "execution_count": 10,
   "id": "overall-seven",
   "metadata": {},
   "outputs": [
    {
     "data": {
      "text/plain": [
       "[1033494444731.4406, 1]"
      ]
     },
     "execution_count": 10,
     "metadata": {},
     "output_type": "execute_result"
    }
   ],
   "source": [
    "q=[F(w0)]\n",
    "q.append(1)\n",
    "q\n"
   ]
  },
  {
   "cell_type": "code",
   "execution_count": 11,
   "id": "palestinian-penetration",
   "metadata": {},
   "outputs": [
    {
     "data": {
      "text/plain": [
       "array([3.88087376e+07, 1.63811550e+08, 3.53853843e+08, 7.65305540e+10,\n",
       "       2.19610574e+08, 2.62452101e+08, 2.72250576e+08, 1.11305653e+08,\n",
       "       3.76824540e+06, 2.82352945e+08, 6.11440191e+07, 1.50155704e+07,\n",
       "       1.11333732e+08, 2.76086796e+07, 2.53876107e+08, 6.96922402e+07,\n",
       "       1.87106868e+10, 1.23162196e+06, 2.45542572e+08, 7.79207467e+10])"
      ]
     },
     "execution_count": 11,
     "metadata": {},
     "output_type": "execute_result"
    }
   ],
   "source": [
    "def gradF(w):\n",
    "    grad=A.T@(A@w-y)+0.5*w\n",
    "    return grad\n",
    "gradF(w0)"
   ]
  },
  {
   "cell_type": "code",
   "execution_count": 13,
   "id": "expensive-branch",
   "metadata": {},
   "outputs": [
    {
     "name": "stdout",
     "output_type": "stream",
     "text": [
      "38\n"
     ]
    },
    {
     "name": "stderr",
     "output_type": "stream",
     "text": [
      "<ipython-input-11-d8abeb32e32e>:2: RuntimeWarning: overflow encountered in matmul\n",
      "  grad=A.T@(A@w-y)+0.5*w\n",
      "<ipython-input-9-1df2f30a7b27>:2: RuntimeWarning: invalid value encountered in matmul\n",
      "  return np.linalg.norm(A@w-y,2)**2+0.25*np.linalg.norm(w,2)**2\n"
     ]
    },
    {
     "data": {
      "text/plain": [
       "array([2.34758009e+304, 9.90208536e+304, 2.13937981e+305,             inf,\n",
       "       1.32690876e+305, 1.58590411e+305, 1.64589384e+305, 6.72284625e+304,\n",
       "       2.30400714e+303, 1.70694115e+305, 3.68510114e+304, 9.03338230e+303,\n",
       "       6.72974895e+304, 1.67030056e+304, 1.53198229e+305, 4.17468988e+304,\n",
       "                   inf, 7.23698989e+302, 1.48437145e+305,             inf])"
      ]
     },
     "execution_count": 13,
     "metadata": {},
     "output_type": "execute_result"
    }
   ],
   "source": [
    "w0=np.array([1,2,3,4,5,6,7,1,2,3,4,5,6,7,3,4,5,6,7,8])\n",
    "k=0\n",
    "#alpha_k=1\n",
    "A_grad=[F(w0)]\n",
    "while np.linalg.norm(gradF(w0))>10**(-7):\n",
    "    wk=w0-0.01*gradF(w0)\n",
    "    A_grad.append(F(wk))\n",
    "    w0=wk\n",
    "    k=k+1\n",
    "print(k)\n",
    "wk"
   ]
  },
  {
   "cell_type": "code",
   "execution_count": 14,
   "id": "gross-chosen",
   "metadata": {},
   "outputs": [
    {
     "data": {
      "text/plain": [
       "[<matplotlib.lines.Line2D at 0x7f58d7999250>]"
      ]
     },
     "execution_count": 14,
     "metadata": {},
     "output_type": "execute_result"
    },
    {
     "data": {
      "image/png": "[encoded data removed]",
      "text/plain": [
       "<Figure size 432x288 with 1 Axes>"
      ]
     },
     "metadata": {
      "needs_background": "light"
     },
     "output_type": "display_data"
    }
   ],
   "source": [
    "n=len(A_grad)\n",
    "hist=np.array(A_grad)\n",
    "hist1=hist.flatten()\n",
    "x=range(n)\n",
    "plt.plot(x,hist1)"
   ]
  },
  {
   "cell_type": "markdown",
   "id": "latter-relationship",
   "metadata": {},
   "source": [
    "### Descent Gradient"
   ]
  },
  {
   "cell_type": "code",
   "execution_count": 3,
   "id": "advance-raise",
   "metadata": {},
   "outputs": [
    {
     "name": "stdout",
     "output_type": "stream",
     "text": [
      "0.013475893998170934\n",
      "[-0.01347589 -0.04716563]\n"
     ]
    },
    {
     "data": {
      "text/plain": [
       "<mpl_toolkits.mplot3d.art3d.Poly3DCollection at 0x7f3cea0a83d0>"
      ]
     },
     "execution_count": 3,
     "metadata": {},
     "output_type": "execute_result"
    },
    {
     "data": {
      "image/png": "[encoded data removed]",
      "text/plain": [
       "<Figure size 432x288 with 1 Axes>"
      ]
     },
     "metadata": {
      "needs_background": "light"
     },
     "output_type": "display_data"
    }
   ],
   "source": [
    "import numpy as np\n",
    "import numpy.linalg as la\n",
    "\n",
    "import scipy.optimize as sopt\n",
    "\n",
    "import matplotlib.pyplot as pt\n",
    "from mpl_toolkits.mplot3d import axes3d\n",
    "\n",
    "\n",
    "\n",
    "def myFun(w):\n",
    "    return np.exp(-w[0]**2-w[1]**2)*(w[0]*w[1])\n",
    "\n",
    "def gradFun(w):\n",
    "    return np.array([np.exp(-w[0]**2-w[1]**2)*w[1]-2*np.exp(-w[0]**2-w[1]**2)*(w[0]**2)*w[1], \\\n",
    "                     np.exp(-w[0]**2-w[1]**2)*w[0]-2*np.exp(-w[0]**2-w[1]**2)*(w[1]**2)*w[0]])\n",
    "\n",
    "w=np.array([1.0,2.0])\n",
    "print(myFun(w))\n",
    "print(gradFun(w))\n",
    "\n",
    "\n",
    "fig = pt.figure()\n",
    "ax = fig.gca(projection=\"3d\")\n",
    "\n",
    "xmesh, ymesh = np.mgrid[-2:2:50j,-2:2:50j]\n",
    "fmesh = myFun(np.array([xmesh, ymesh]))\n",
    "ax.plot_surface(xmesh, ymesh, fmesh)\n"
   ]
  },
  {
   "cell_type": "markdown",
   "id": "detected-webmaster",
   "metadata": {},
   "source": [
    "## Implementation of the bath descent algorithm"
   ]
  },
  {
   "cell_type": "code",
   "execution_count": 4,
   "id": "expected-syndicate",
   "metadata": {},
   "outputs": [
    {
     "name": "stdout",
     "output_type": "stream",
     "text": [
      "[-0.70720288  0.70720288]\n",
      "9.998775646955203e-05\n",
      "512\n"
     ]
    }
   ],
   "source": [
    "\n",
    "def oneDFun(alpha):\n",
    "     return myFun(x + alpha*dk)\n",
    "    \n",
    "\n",
    "iterate = np.array([-2.0, 2.0])  #initial iterate\n",
    "historyIter = [iterate]\n",
    "historyFun=[myFun(iterate)]\n",
    "maxIter=1000\n",
    "tol=0.0001\n",
    "k=0\n",
    "\n",
    "\n",
    "grad=gradFun(iterate)\n",
    "#print(la.norm(grad))\n",
    "\n",
    "while  (la.norm(gradFun(iterate)) > tol) and (k <= maxIter):\n",
    "#for i in range(maxIter):\n",
    "     dk = -gradFun(iterate)\n",
    "     ################ constant step length\n",
    "     next_iterate = iterate + 0.1*dk  # constant alpha\n",
    "     ################ Exact line search\n",
    "     #exactAlpha = sopt.golden(oneDFun)   #  optimal alpha\n",
    "     #next_iterate = iterate + exactAlpha*dk\n",
    "    \n",
    "     historyIter.append(next_iterate)\n",
    "     funValue=myFun(next_iterate)\n",
    "     historyFun.append(funValue)\n",
    "     k=k+1\n",
    "     #grad=gradFun(iterate)\n",
    "     #print(la.norm(grad))\n",
    "     iterate=next_iterate\n",
    "        \n",
    "       \n",
    "\n",
    "#dk = -gradFun(iterate)\n",
    "#def oneDFun(alpha):\n",
    "#    return myFun(x + alpha*dk)\n",
    "#alpha=0.01\n",
    "# exactAlpha = sopt.golden(oneDFun)   #  needs import scipy.optimize as sopt\n",
    "#next_iterate = iterate + exactAlpha *dk\n",
    "\n",
    "\n",
    "\n",
    "print(iterate)\n",
    "grad=gradFun(iterate)\n",
    "print(la.norm(grad))\n",
    "print(k)\n",
    "\n",
    "\n",
    "#x=np.linspace(0,maxIter)\n",
    "#pt.plot(x, historyFun, label='linear')\n",
    "#pyplot(x,historyFun)\n",
    "#print(historyFun)"
   ]
  },
  {
   "cell_type": "code",
   "execution_count": 5,
   "id": "related-winning",
   "metadata": {},
   "outputs": [
    {
     "name": "stdout",
     "output_type": "stream",
     "text": [
      "513\n"
     ]
    },
    {
     "data": {
      "text/plain": [
       "[<matplotlib.lines.Line2D at 0x7f3ce649a9d0>]"
      ]
     },
     "execution_count": 5,
     "metadata": {},
     "output_type": "execute_result"
    },
    {
     "data": {
      "image/png": "[encoded data removed]",
      "text/plain": [
       "<Figure size 432x288 with 1 Axes>"
      ]
     },
     "metadata": {
      "needs_background": "light"
     },
     "output_type": "display_data"
    }
   ],
   "source": [
    "functionValues = np. array(historyFun)\n",
    "functionValues = functionValues.flatten()\n",
    "n=len(functionValues)\n",
    "print(n)\n",
    "x=range(n)\n",
    "pt.plot(x, historyFun)"
   ]
  },
  {
   "cell_type": "code",
   "execution_count": 9,
   "id": "pediatric-islam",
   "metadata": {},
   "outputs": [],
   "source": [
    "a=np.array([1,0])"
   ]
  },
  {
   "cell_type": "markdown",
   "id": "rolled-borough",
   "metadata": {},
   "source": [
    "## image compression"
   ]
  },
  {
   "cell_type": "code",
   "execution_count": null,
   "id": "fitting-shade",
   "metadata": {},
   "outputs": [],
   "source": [
    "import numpy as np\n",
    "import cv2\n",
    "import torch\n",
    "import matplotlib.pyplot as plt\n",
    "%matplotlib inline"
   ]
  },
  {
   "cell_type": "markdown",
   "id": "rising-pasta",
   "metadata": {},
   "source": [
    "### read the image"
   ]
  },
  {
   "cell_type": "code",
   "execution_count": null,
   "id": "positive-thriller",
   "metadata": {},
   "outputs": [],
   "source": [
    "Zebra = cv2.imread('zebra.jpg')\n",
    "plt.title('Original_image')\n",
    "plt.imshow(Zebra)\n",
    "plt.show()"
   ]
  },
  {
   "cell_type": "markdown",
   "id": "suitable-female",
   "metadata": {},
   "source": [
    "# (ii) Convert the colored image into a gray level image"
   ]
  },
  {
   "cell_type": "code",
   "execution_count": null,
   "id": "brown-rabbit",
   "metadata": {},
   "outputs": [],
   "source": [
    "Zebragray = cv2.cvtColor(Zebra, cv2.COLOR_BGR2GRAY)\n",
    "plt.imshow(Zebragray, cmap='gray')\n",
    "plt.title(\"Gray image\")\n",
    "plt.show()"
   ]
  },
  {
   "cell_type": "markdown",
   "id": "noted-treaty",
   "metadata": {},
   "source": [
    "### (iv) Perform the SVD on the image-matrix of the gray-level image"
   ]
  },
  {
   "cell_type": "code",
   "execution_count": null,
   "id": "blessed-minutes",
   "metadata": {},
   "outputs": [],
   "source": [
    "Zebragraymatrix = np.matrix(Zebragray)\n",
    "Zebragraymatrix\n",
    "\n",
    "U, S, VT = np.linalg.svd(Zebragraymatrix)"
   ]
  },
  {
   "cell_type": "markdown",
   "id": "intermediate-processing",
   "metadata": {},
   "source": [
    "# (v) Approximate gray level image matrix by its SVD from (iv) taking different numbers of singular values to display the (a) 30% (b) 50% (c) 80% compressions of the image, respectively"
   ]
  },
  {
   "cell_type": "code",
   "execution_count": null,
   "id": "caring-utility",
   "metadata": {},
   "outputs": [],
   "source": [
    "Approx_S = [int(S.size*0.3), int(S.size*0.5), int(S.size*0.8)]\n",
    "for i in Approx_S:\n",
    "    Zebracompressed = np.matrix(U[:, :i]) @ np.diag(S[:i]) @ np.matrix(VT[:i,:])\n",
    "    plt.imshow(Zebracompressed, cmap = 'gray')\n",
    "    title = \" Image compressed at %s\" %i\n",
    "    plt.title(title)\n",
    "    plt.show()"
   ]
  },
  {
   "cell_type": "markdown",
   "id": "linear-success",
   "metadata": {},
   "source": [
    "# 2. Rosenbrock function $f : R^n \\rightarrow R$\n",
    "\n",
    " $$\n",
    "f(x) = \\sum_{i=1}^{n-1} [100(x_{i+1} − x_i^2)^2+ (1 − x_i)^2]\n",
    "$$\n"
   ]
  },
  {
   "cell_type": "markdown",
   "id": "political-globe",
   "metadata": {},
   "source": [
    "# (i) Use jupyter to define $f(x)$ under the PyTorch machine learning framework."
   ]
  },
  {
   "cell_type": "code",
   "execution_count": null,
   "id": "alike-holder",
   "metadata": {},
   "outputs": [],
   "source": [
    "def rosenbrock(x): \n",
    "    f = 0\n",
    "    for i in range(len(x)-1):\n",
    "        f +=100*(x[i+1] - x[i]**2)**2 + (1 - x[i])**2\n",
    "    return f"
   ]
  },
  {
   "cell_type": "code",
   "execution_count": null,
   "id": "european-burke",
   "metadata": {},
   "outputs": [],
   "source": [
    "x = torch.tensor([1,1.,1.,1.,1.,1.,1.,1.,1.,1], requires_grad=True, dtype=torch.float)\n",
    "f = rosenbrock(x)\n",
    "f.backward()"
   ]
  },
  {
   "cell_type": "markdown",
   "id": "delayed-joseph",
   "metadata": {},
   "source": [
    "# (iii) Evaluate the gradient at the point $x = (1, 1, . . . , 1) \\in R^{10}$"
   ]
  },
  {
   "cell_type": "code",
   "execution_count": null,
   "id": "headed-scottish",
   "metadata": {},
   "outputs": [],
   "source": [
    "print(x.grad)"
   ]
  },
  {
   "cell_type": "markdown",
   "id": "listed-geography",
   "metadata": {},
   "source": [
    "## Logistic regression"
   ]
  },
  {
   "cell_type": "code",
   "execution_count": 11,
   "id": "smoking-large",
   "metadata": {},
   "outputs": [],
   "source": [
    "import numpy as np\n",
    "import matplotlib.pyplot as plt\n",
    "import pandas as pd\n",
    "import seaborn as sns\n",
    "from sklearn.linear_model import LogisticRegression\n",
    "from sklearn.model_selection import train_test_split\n",
    "from sklearn.metrics import confusion_matrix, accuracy_score"
   ]
  },
  {
   "cell_type": "code",
   "execution_count": null,
   "id": "dense-diversity",
   "metadata": {},
   "outputs": [],
   "source": [
    "dataset = pd.read_csv(\"Iris.csv\")\n",
    "X = dataset.iloc[:, [1,2,3, 4]].values\n",
    "y = dataset.iloc[:, 5].values\n",
    "X_train, X_test, y_train, y_test = train_test_split(X, y, test_size = 0.25, random_state = 0)\n",
    "dataset.iloc[:, [1,2,3, 4]]"
   ]
  },
  {
   "cell_type": "code",
   "execution_count": null,
   "id": "given-prefix",
   "metadata": {},
   "outputs": [],
   "source": [
    "classifier = LogisticRegression(random_state = 0, solver='lbfgs', multi_class='auto')\n",
    "classifier.fit(X_train, y_train)\n",
    " "
   ]
  },
  {
   "cell_type": "code",
   "execution_count": null,
   "id": "needed-polyester",
   "metadata": {},
   "outputs": [],
   "source": [
    "# Predicting the Test set results\n",
    "y_pred = classifier.predict(X_test)\n",
    "# Predict probabilities\n",
    "probs_y=classifier.predict_proba(X_test)### Print results \n",
    "probs_y = np.round(probs_y, 2)\n",
    "probs_y\n",
    "result = pd.DataFrame(probs_y, columns= np.unique(dataset.Species))\n",
    "predictedt_index = [np.argmax(result.iloc[i,:]) for i in range(result.shape[0])]\n",
    "predicted_names = [np.unique(dataset.Species)[i] for i in predictedt_index]\n",
    "result.insert(loc=0, column=\"Test\", value=y_test)\n",
    "result.insert(loc=1, column ='Predicted', value=predicted_names)\n",
    "result"
   ]
  },
  {
   "cell_type": "markdown",
   "id": "potential-marketing",
   "metadata": {},
   "source": [
    "### Second Assignement"
   ]
  },
  {
   "cell_type": "code",
   "execution_count": null,
   "id": "guided-bruce",
   "metadata": {},
   "outputs": [],
   "source": [
    "data=pd.read_csv('WHO-COVID-19-global-data.csv')\n",
    "data.head()"
   ]
  },
  {
   "cell_type": "code",
   "execution_count": null,
   "id": "senior-lover",
   "metadata": {},
   "outputs": [],
   "source": [
    "data['year']=pd.DatetimeIndex(data['Date_reported']).year\n",
    "data['month']=pd.DatetimeIndex(data['Date_reported']).month\n",
    "data['day']=pd.DatetimeIndex(data['Date_reported']).day"
   ]
  },
  {
   "cell_type": "code",
   "execution_count": null,
   "id": "breeding-reservation",
   "metadata": {},
   "outputs": [],
   "source": [
    "B=data[(data['month']==11)&(data['year']==2021)&(data['Country']=='Angola')]"
   ]
  },
  {
   "cell_type": "code",
   "execution_count": null,
   "id": "stretch-psychology",
   "metadata": {},
   "outputs": [],
   "source": [
    "C=data.groupby(['Date_reported','WHO_region']).mean()\n",
    "C1=C.reset_index()"
   ]
  },
  {
   "cell_type": "code",
   "execution_count": null,
   "id": "retired-surrey",
   "metadata": {},
   "outputs": [],
   "source": [
    "C2=C1[(C1['month']==11)&(C1['year']==2021)&(C1['WHO_region']=='AFRO')]"
   ]
  },
  {
   "cell_type": "code",
   "execution_count": null,
   "id": "minute-embassy",
   "metadata": {},
   "outputs": [],
   "source": []
  },
  {
   "cell_type": "code",
   "execution_count": null,
   "id": "extensive-hepatitis",
   "metadata": {},
   "outputs": [],
   "source": []
  },
  {
   "cell_type": "code",
   "execution_count": null,
   "id": "national-garbage",
   "metadata": {},
   "outputs": [],
   "source": []
  },
  {
   "cell_type": "code",
   "execution_count": null,
   "id": "golden-differential",
   "metadata": {},
   "outputs": [],
   "source": []
  },
  {
   "cell_type": "code",
   "execution_count": null,
   "id": "neutral-scenario",
   "metadata": {},
   "outputs": [],
   "source": []
  }
 ],
 "metadata": {
  "kernelspec": {
   "display_name": "Python 3",
   "language": "python",
   "name": "python3"
  },
  "language_info": {
   "codemirror_mode": {
    "name": "ipython",
    "version": 3
   },
   "file_extension": ".py",
   "mimetype": "text/x-python",
   "name": "python",
   "nbconvert_exporter": "python",
   "pygments_lexer": "ipython3",
   "version": "3.9.2"
  }
 },
 "nbformat": 4,
 "nbformat_minor": 5
}
