{
 "cells": [
  {
   "cell_type": "markdown",
   "id": "9b34b4d0",
   "metadata": {},
   "source": [
    "# RDDs Vs. DataFrames\n",
    "A simple tutorial to compare low-level APIs such as RDD and structured APIs in this case DataFrames"
   ]
  },
  {
   "cell_type": "markdown",
   "id": "03667129",
   "metadata": {},
   "source": [
    "# Compute Aggregation By Key Using DataFrames"
   ]
  },
  {
   "cell_type": "code",
   "execution_count": 24,
   "id": "f1b74b9b",
   "metadata": {},
   "outputs": [],
   "source": [
    "# IMPORT ALL NECESSARY VARIABLES FOR YOU TO RUN THE CODE BELOW\n",
    "from pyspark.sql import SparkSession"
   ]
  },
  {
   "cell_type": "code",
   "execution_count": 2,
   "id": "f19be245",
   "metadata": {},
   "outputs": [],
   "source": [
    "# import required Python packages\n",
    "import pandas as pd"
   ]
  },
  {
   "cell_type": "code",
   "execution_count": 3,
   "id": "f4f21d93",
   "metadata": {},
   "outputs": [],
   "source": [
    "# create a SparkSession\n",
    "spark =  spark = SparkSession.builder \\\n",
    "    .master(\"local[*]\") \\\n",
    "    .appName(\"Hello Spark\") \\\n",
    "    .getOrCreate()   "
   ]
  },
  {
   "cell_type": "code",
   "execution_count": 6,
   "id": "dae2abc5",
   "metadata": {},
   "outputs": [],
   "source": [
    "spark.createDataFrame?"
   ]
  },
  {
   "cell_type": "code",
   "execution_count": 25,
   "id": "736ab47d",
   "metadata": {},
   "outputs": [
    {
     "name": "stdout",
     "output_type": "stream",
     "text": [
      "+------+--------+\n",
      "|  name|avg(age)|\n",
      "+------+--------+\n",
      "|Brooke|    22.5|\n",
      "| Denny|    31.0|\n",
      "| Jules|    30.0|\n",
      "|    TD|    35.0|\n",
      "+------+--------+\n",
      "\n"
     ]
    }
   ],
   "source": [
    "# Create a simple Spark DataFrame \n",
    "data = [(\"Brooke\", 20), (\"Denny\", 31), (\"Jules\", 30), (\"TD\", 35), (\"Brooke\", 25)]\n",
    "colnames = [\"name\", \"age\"]\n",
    "# Use the createDataFrame() function on spark to create a DataFrame with the data above\n",
    "data_df = spark.createDataFrame(data,colnames)\n",
    "# Group the same names together, aggregate their ages, and compute an average avg_df = data_df.groupBy(\"name\").agg(avg(\"age\"))\n",
    "avg_df = data_df.groupBy('name').mean()#.agg(avg(\"age\"))\n",
    "# show the results\n",
    "avg_df.show()"
   ]
  },
  {
   "cell_type": "code",
   "execution_count": 28,
   "id": "51c076d3",
   "metadata": {},
   "outputs": [],
   "source": [
    "data_df.groupBy('name').mean().toPandas()"
   ]
  },
  {
   "cell_type": "code",
   "execution_count": 29,
   "id": "fba9ff47",
   "metadata": {},
   "outputs": [
    {
     "data": {
      "text/html": [
       "<div>\n",
       "<style scoped>\n",
       "    .dataframe tbody tr th:only-of-type {\n",
       "        vertical-align: middle;\n",
       "    }\n",
       "\n",
       "    .dataframe tbody tr th {\n",
       "        vertical-align: top;\n",
       "    }\n",
       "\n",
       "    .dataframe thead th {\n",
       "        text-align: right;\n",
       "    }\n",
       "</style>\n",
       "<table border=\"1\" class=\"dataframe\">\n",
       "  <thead>\n",
       "    <tr style=\"text-align: right;\">\n",
       "      <th></th>\n",
       "      <th>name</th>\n",
       "      <th>avg(age)</th>\n",
       "    </tr>\n",
       "  </thead>\n",
       "  <tbody>\n",
       "    <tr>\n",
       "      <th>0</th>\n",
       "      <td>Brooke</td>\n",
       "      <td>22.5</td>\n",
       "    </tr>\n",
       "    <tr>\n",
       "      <th>1</th>\n",
       "      <td>Denny</td>\n",
       "      <td>31.0</td>\n",
       "    </tr>\n",
       "    <tr>\n",
       "      <th>2</th>\n",
       "      <td>Jules</td>\n",
       "      <td>30.0</td>\n",
       "    </tr>\n",
       "    <tr>\n",
       "      <th>3</th>\n",
       "      <td>TD</td>\n",
       "      <td>35.0</td>\n",
       "    </tr>\n",
       "  </tbody>\n",
       "</table>\n",
       "</div>"
      ],
      "text/plain": [
       "     name  avg(age)\n",
       "0  Brooke      22.5\n",
       "1   Denny      31.0\n",
       "2   Jules      30.0\n",
       "3      TD      35.0"
      ]
     },
     "execution_count": 29,
     "metadata": {},
     "output_type": "execute_result"
    }
   ],
   "source": [
    "a"
   ]
  },
  {
   "cell_type": "markdown",
   "id": "2f46b3b2",
   "metadata": {},
   "source": [
    "# So, how would you do the same thing in RDDs"
   ]
  },
  {
   "cell_type": "code",
   "execution_count": 18,
   "id": "addffe91",
   "metadata": {},
   "outputs": [],
   "source": [
    "# we can use the parallelize function to create an RDD from Python objects\n",
    "# however, we need a SparkContext object to create RDD and we can create  it from SparkSession\n",
    "rdd_data = spark.sparkContext.parallelize(data)\n",
    "# Use map and reduceByKey transformations with their lambda \n",
    "# expressions to aggregate and then compute average\n",
    "ages_rdd = (rdd_data\n",
    ".map(lambda x: (x[0], (x[1], 1)))\n",
    ".reduceByKey(lambda x, y: (x[0] + y[0], x[1] + y[1]))\n",
    ".map(lambda x: (x[0], x[1][0]/x[1][1])))\n",
    "\n",
    "# you can use collect() function on RDD to bring all the data on a single core and \n",
    "# look at it \n",
    "ages_rdd_list = ages_rdd.collect()"
   ]
  },
  {
   "cell_type": "markdown",
   "id": "f2ab7af1",
   "metadata": {},
   "source": [
    "# What do you think? Which one is easier to work with?"
   ]
  },
  {
   "cell_type": "code",
   "execution_count": null,
   "id": "48f045ce",
   "metadata": {},
   "outputs": [],
   "source": []
  }
 ],
 "metadata": {
  "kernelspec": {
   "display_name": "Python 3",
   "language": "python",
   "name": "python3"
  },
  "language_info": {
   "codemirror_mode": {
    "name": "ipython",
    "version": 3
   },
   "file_extension": ".py",
   "mimetype": "text/x-python",
   "name": "python",
   "nbconvert_exporter": "python",
   "pygments_lexer": "ipython3",
   "version": "3.9.2"
  },
  "toc": {
   "base_numbering": 1,
   "nav_menu": {},
   "number_sections": false,
   "sideBar": true,
   "skip_h1_title": false,
   "title_cell": "Table of Contents",
   "title_sidebar": "Contents",
   "toc_cell": false,
   "toc_position": {},
   "toc_section_display": true,
   "toc_window_display": false
  }
 },
 "nbformat": 4,
 "nbformat_minor": 5
}
