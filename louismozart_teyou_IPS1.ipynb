{
 "cells": [
  {
   "cell_type": "markdown",
   "id": "genetic-frederick",
   "metadata": {},
   "source": [
    "#### 1.Write a code to draw a sample of values for X with size n where X have  a poisson distribution"
   ]
  },
  {
   "cell_type": "code",
   "execution_count": 1,
   "id": "quarterly-northern",
   "metadata": {},
   "outputs": [],
   "source": [
    "from scipy.stats import poisson\n",
    "import numpy as np"
   ]
  },
  {
   "cell_type": "code",
   "execution_count": null,
   "id": "developing-priest",
   "metadata": {},
   "outputs": [],
   "source": []
  },
  {
   "cell_type": "code",
   "execution_count": 19,
   "id": "innovative-cursor",
   "metadata": {},
   "outputs": [],
   "source": [
    "def pois(lamda,size):\n",
    "    return np.random.poisson(lamda,size)\n",
    "\n",
    "x=np.random.poisson(2,100)\n",
    "\n",
    "\n"
   ]
  },
  {
   "cell_type": "markdown",
   "id": "actual-monitor",
   "metadata": {},
   "source": [
    "#### 2.Compute the empirical mean"
   ]
  },
  {
   "cell_type": "code",
   "execution_count": 20,
   "id": "proof-bedroom",
   "metadata": {},
   "outputs": [
    {
     "data": {
      "text/plain": [
       "1.72"
      ]
     },
     "execution_count": 20,
     "metadata": {},
     "output_type": "execute_result"
    }
   ],
   "source": [
    "np.mean(x)"
   ]
  },
  {
   "cell_type": "markdown",
   "id": "israeli-place",
   "metadata": {},
   "source": [
    "In this case the empirical is 1.72 who is less than 2 the mean of X"
   ]
  },
  {
   "cell_type": "markdown",
   "id": "present-carroll",
   "metadata": {},
   "source": [
    "#### 4.Write a code to represent on the same graph the exact probability and its approximation."
   ]
  },
  {
   "cell_type": "code",
   "execution_count": null,
   "id": "disturbed-settle",
   "metadata": {},
   "outputs": [],
   "source": []
  }
 ],
 "metadata": {
  "kernelspec": {
   "display_name": "Python 3",
   "language": "python",
   "name": "python3"
  },
  "language_info": {
   "codemirror_mode": {
    "name": "ipython",
    "version": 3
   },
   "file_extension": ".py",
   "mimetype": "text/x-python",
   "name": "python",
   "nbconvert_exporter": "python",
   "pygments_lexer": "ipython3",
   "version": "3.9.2"
  }
 },
 "nbformat": 4,
 "nbformat_minor": 5
}
