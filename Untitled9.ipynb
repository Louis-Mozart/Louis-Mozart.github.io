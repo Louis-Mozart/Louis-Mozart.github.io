{
 "cells": [
  {
   "cell_type": "code",
   "execution_count": 11,
   "id": "growing-bidder",
   "metadata": {},
   "outputs": [
    {
     "name": "stdout",
     "output_type": "stream",
     "text": [
      "enter the year2000\n",
      "2000 is a leap year\n"
     ]
    }
   ],
   "source": [
    "x=eval(input(\"enter the year\"))\n",
    "if x%4==0:\n",
    "    if x%400==0 or x%100!=0 :\n",
    "        print(x, 'is a leap year')\n",
    "    elif x%100==0 :\n",
    "        print(x, \"is not a leap year\")\n",
    "else:\n",
    "    print(x, \"is not a leap year\")"
   ]
  },
  {
   "cell_type": "code",
   "execution_count": null,
   "id": "partial-consultancy",
   "metadata": {},
   "outputs": [],
   "source": [
    "count=0\n",
    "for i in range(100):\n",
    "    x=eval(input(\"enter the year\"))\n",
    "    if -3<=x<=40:\n",
    "        count=count+1\n",
    "N=100-count\n",
    "print('there is',N,\"number who is not in the interval\")\n",
    "    "
   ]
  },
  {
   "cell_type": "code",
   "execution_count": 2,
   "id": "nonprofit-claim",
   "metadata": {},
   "outputs": [
    {
     "name": "stdout",
     "output_type": "stream",
     "text": [
      "enter the year5\n",
      "the sum of number less than 5 who are divisible by 4 and not divisible by 32 is 4\n"
     ]
    }
   ],
   "source": [
    "N=eval(input(\"enter a number\"))\n",
    "count=0\n",
    "for i in range (1,N):\n",
    "    if i%4==0 and i%32!=0:\n",
    "        count=count+i\n",
    "print(\"the sum of number less than\", N ,\"who are divisible by 4 and not divisible by 32 is\", count)        "
   ]
  },
  {
   "cell_type": "code",
   "execution_count": 5,
   "id": "smart-italic",
   "metadata": {},
   "outputs": [
    {
     "name": "stdout",
     "output_type": "stream",
     "text": [
      "enter a number10\n",
      "p= 100\n"
     ]
    }
   ],
   "source": [
    "n=eval(input(\"enter a number\"))\n",
    "p=1\n",
    "for i in range(1,n+1):\n",
    "    if n%i==0:\n",
    "        p=p*i\n",
    "print(\"p=\",p)        "
   ]
  },
  {
   "cell_type": "code",
   "execution_count": null,
   "id": "recent-remainder",
   "metadata": {},
   "outputs": [],
   "source": [
    "a=eval(input(\"enter the value of a\"))\n",
    "b=eval(input(\"enter the value of b\"))\n",
    "if a==1:\n",
    "    print(\"there is no max or min for f(x)\")\n",
    "else:\n",
    "    M=b+1/(4*(1-a))\n",
    "    if a>1 :\n",
    "        print(M, \"is the minimum of f(x)\")\n",
    "    elif a<1:\n",
    "        print(M, \"is the maximum of f(x)\")"
   ]
  },
  {
   "cell_type": "code",
   "execution_count": 2,
   "id": "concerned-rubber",
   "metadata": {},
   "outputs": [
    {
     "name": "stdout",
     "output_type": "stream",
     "text": [
      "enter the value of k5\n",
      "uk = 28\n"
     ]
    }
   ],
   "source": [
    "u0=1\n",
    "u1=2\n",
    "u2=0\n",
    "k=eval(input(\"enter the value of k\"))\n",
    "if k>=3:\n",
    "    for i in range(3,k+1):\n",
    "        f=-3*u2+u1+2*u0\n",
    "        u0=u1\n",
    "        u1=u2\n",
    "        u2=f\n",
    "    print(\"uk =\", f)\n",
    "if k==0:\n",
    "    print('uk = 1')\n",
    "if k==1:\n",
    "    print('uk = 2') \n",
    "if k==3:\n",
    "    print('uk = 0')          "
   ]
  },
  {
   "cell_type": "code",
   "execution_count": 6,
   "id": "abstract-boston",
   "metadata": {},
   "outputs": [
    {
     "name": "stdout",
     "output_type": "stream",
     "text": [
      "enter the value of N127348\n",
      "s= 11\n"
     ]
    }
   ],
   "source": [
    "s=0\n",
    "N=eval(input(\"enter the value of N\"))\n",
    "while N>=1:\n",
    "    q=N//10\n",
    "    r=N-10*q\n",
    "    N=q\n",
    "    if r%2==1:\n",
    "        s=s+r\n",
    "print(\"s=\", s)\n"
   ]
  },
  {
   "cell_type": "code",
   "execution_count": null,
   "id": "elder-george",
   "metadata": {},
   "outputs": [],
   "source": [
    "n=eval(input(\"enter the value of n\"))\n",
    "while n>=10 :\n",
    "    s=0\n",
    "    while n>=1:\n",
    "        q=n//10"
   ]
  }
 ],
 "metadata": {
  "kernelspec": {
   "display_name": "Python 3",
   "language": "python",
   "name": "python3"
  }
 },
 "nbformat": 4,
 "nbformat_minor": 5
}
