{
 "cells": [
  {
   "cell_type": "code",
   "execution_count": 1,
   "id": "ready-thumb",
   "metadata": {},
   "outputs": [],
   "source": [
    "import numpy as np"
   ]
  },
  {
   "cell_type": "code",
   "execution_count": 2,
   "id": "spiritual-fight",
   "metadata": {},
   "outputs": [],
   "source": [
    "def prod_mat(A,B):\n",
    "    C=np.zeros((A.shape[0],B.shape[1]))\n",
    "    if A.shape[1]!=B.shape[0]:\n",
    "        return 'the product is not possible'\n",
    "    else:\n",
    "        for i in range(A.shape[0]):\n",
    "            for j in range(B.shape[1]):\n",
    "                s=0\n",
    "                for k in range(B.shape[0]):\n",
    "                    s+=A[i,k]*B[k,j]\n",
    "                    C[i,j]=s\n",
    "        return C"
   ]
  },
  {
   "cell_type": "code",
   "execution_count": 3,
   "id": "stainless-theta",
   "metadata": {},
   "outputs": [],
   "source": [
    "def Tridiagonal(A,b):\n",
    "    for i in range(len(A)):\n",
    "        for j in range(len(A)):\n",
    "            if abs(i-j)>b:\n",
    "                A[i,j]=0\n",
    "    return A"
   ]
  },
  {
   "cell_type": "code",
   "execution_count": 4,
   "id": "uniform-touch",
   "metadata": {},
   "outputs": [],
   "source": [
    "def Hess_upp(A):\n",
    "    for i in range(len(A)):\n",
    "        for j in range(len(A)):\n",
    "            if i>j+1:\n",
    "                A[i,j]=0\n",
    "    return A"
   ]
  },
  {
   "cell_type": "code",
   "execution_count": 5,
   "id": "differential-sense",
   "metadata": {},
   "outputs": [],
   "source": [
    "def Hess_low(A):\n",
    "    for i in range(len(A)):\n",
    "        for j in range(len(A)):\n",
    "            if i<j-1:\n",
    "                A[i,j]=0\n",
    "    return A"
   ]
  },
  {
   "cell_type": "code",
   "execution_count": 14,
   "id": "premium-vintage",
   "metadata": {},
   "outputs": [],
   "source": [
    "def Cholesky(A):\n",
    "    L=np.zeros((len(A),len(A)))\n",
    "    for k in range(len(A)):\n",
    "        L[k,k]=A[k,k]**(1/2)\n",
    "        for i in range(k+1,len(A)):\n",
    "            L[i,k]=A[i,k]/A[k,k]\n",
    "        for j in range(k+1,len(A)):\n",
    "            for i in range(j,len(A)):\n",
    "                L[i,j]=A[i,j]-A[i,k]*A[j,k]\n",
    "    return L"
   ]
  },
  {
   "cell_type": "code",
   "execution_count": 20,
   "id": "compound-classics",
   "metadata": {},
   "outputs": [
    {
     "data": {
      "text/plain": [
       "array([4., 1., 4.])"
      ]
     },
     "execution_count": 20,
     "metadata": {},
     "output_type": "execute_result"
    }
   ],
   "source": [
    "B=np.array([[3,-1,-1],[-1,3,-1],[-1,-1,3]])\n",
    "B\n",
    "np.linalg.eigvals(B)"
   ]
  },
  {
   "cell_type": "code",
   "execution_count": 16,
   "id": "rising-viewer",
   "metadata": {},
   "outputs": [
    {
     "data": {
      "text/plain": [
       "array([[ 1.73205081,  0.        ,  0.        ],\n",
       "       [-0.33333333,  1.73205081,  0.        ],\n",
       "       [-0.33333333, -0.33333333,  1.73205081]])"
      ]
     },
     "execution_count": 16,
     "metadata": {},
     "output_type": "execute_result"
    }
   ],
   "source": [
    "#A=np.array([[3,-1,-1],[-1,3,-1],[-1,-1,3]])\n",
    "Cholesky(B)"
   ]
  },
  {
   "cell_type": "code",
   "execution_count": 17,
   "id": "answering-skating",
   "metadata": {},
   "outputs": [
    {
     "data": {
      "text/plain": [
       "array([[ 3, -1, -1],\n",
       "       [-1,  3, -1],\n",
       "       [-1, -1,  3]])"
      ]
     },
     "execution_count": 17,
     "metadata": {},
     "output_type": "execute_result"
    }
   ],
   "source": [
    "B"
   ]
  },
  {
   "cell_type": "code",
   "execution_count": 19,
   "id": "crucial-assumption",
   "metadata": {},
   "outputs": [
    {
     "data": {
      "text/plain": [
       "array([[ 3.        , -0.57735027, -0.57735027],\n",
       "       [-0.57735027,  3.11111111, -0.46623916],\n",
       "       [-0.57735027, -0.46623916,  3.22222222]])"
      ]
     },
     "execution_count": 19,
     "metadata": {},
     "output_type": "execute_result"
    }
   ],
   "source": [
    "Cholesky(B)@Cholesky(B).T"
   ]
  },
  {
   "cell_type": "code",
   "execution_count": 20,
   "id": "adopted-track",
   "metadata": {},
   "outputs": [
    {
     "data": {
      "text/plain": [
       "(1.0605752387249068e-16+1.7320508075688772j)"
      ]
     },
     "execution_count": 20,
     "metadata": {},
     "output_type": "execute_result"
    }
   ],
   "source": [
    "(-3)**(1/2)"
   ]
  },
  {
   "cell_type": "code",
   "execution_count": 13,
   "id": "unavailable-september",
   "metadata": {},
   "outputs": [
    {
     "data": {
      "text/plain": [
       "(-5+12j)"
      ]
     },
     "execution_count": 13,
     "metadata": {},
     "output_type": "execute_result"
    }
   ],
   "source": [
    "(2+3j)**2"
   ]
  },
  {
   "cell_type": "code",
   "execution_count": 48,
   "id": "third-dubai",
   "metadata": {},
   "outputs": [
    {
     "data": {
      "text/plain": [
       "array([[1, 2, 8],\n",
       "       [6, 7, 9],\n",
       "       [0, 7, 9]])"
      ]
     },
     "execution_count": 48,
     "metadata": {},
     "output_type": "execute_result"
    }
   ],
   "source": [
    "Hess_upp(A)"
   ]
  },
  {
   "cell_type": "code",
   "execution_count": 21,
   "id": "proof-cargo",
   "metadata": {},
   "outputs": [],
   "source": [
    "h=np.array([[1202,-400],[-400,200]])"
   ]
  },
  {
   "cell_type": "code",
   "execution_count": 22,
   "id": "smaller-reserve",
   "metadata": {},
   "outputs": [
    {
     "data": {
      "text/plain": [
       "array([1342.09359691,   59.90640309])"
      ]
     },
     "execution_count": 22,
     "metadata": {},
     "output_type": "execute_result"
    }
   ],
   "source": [
    "np.linalg.eigvals(h)"
   ]
  },
  {
   "cell_type": "code",
   "execution_count": 23,
   "id": "happy-measure",
   "metadata": {},
   "outputs": [],
   "source": [
    "def f(x,y):\n",
    "    return 600*(x**2-1/2*y)**2-50*y**2+x**2"
   ]
  },
  {
   "cell_type": "code",
   "execution_count": 24,
   "id": "complete-refrigerator",
   "metadata": {},
   "outputs": [
    {
     "data": {
      "text/plain": [
       "-199.0"
      ]
     },
     "execution_count": 24,
     "metadata": {},
     "output_type": "execute_result"
    }
   ],
   "source": [
    "f(1,2)"
   ]
  },
  {
   "cell_type": "code",
   "execution_count": null,
   "id": "quiet-ordering",
   "metadata": {},
   "outputs": [],
   "source": []
  }
 ],
 "metadata": {
  "kernelspec": {
   "display_name": "Python 3",
   "language": "python",
   "name": "python3"
  },
  "language_info": {
   "codemirror_mode": {
    "name": "ipython",
    "version": 3
   },
   "file_extension": ".py",
   "mimetype": "text/x-python",
   "name": "python",
   "nbconvert_exporter": "python",
   "pygments_lexer": "ipython3",
   "version": "3.9.2"
  }
 },
 "nbformat": 4,
 "nbformat_minor": 5
}
