{
 "cells": [
  {
   "cell_type": "code",
   "execution_count": 1,
   "id": "worst-aircraft",
   "metadata": {},
   "outputs": [],
   "source": [
    "import numpy as np"
   ]
  },
  {
   "cell_type": "code",
   "execution_count": 2,
   "id": "adapted-aircraft",
   "metadata": {},
   "outputs": [],
   "source": [
    "H1=np.array([[-5,0,0],[0,4,3],[0,3,-4]])"
   ]
  },
  {
   "cell_type": "code",
   "execution_count": 3,
   "id": "creative-adolescent",
   "metadata": {},
   "outputs": [],
   "source": [
    "A=np.array([[10,4,3],[4,15,7],[3,4,21]])"
   ]
  },
  {
   "cell_type": "code",
   "execution_count": 6,
   "id": "entitled-ranking",
   "metadata": {},
   "outputs": [
    {
     "data": {
      "text/plain": [
       "array([[ 1.00000000e+01, -5.00000000e+00,  0.00000000e+00],\n",
       "       [-5.00000000e+00,  2.24400000e+01, -5.92000000e+00],\n",
       "       [ 1.38777878e-16, -2.92000000e+00,  1.35600000e+01]])"
      ]
     },
     "execution_count": 6,
     "metadata": {},
     "output_type": "execute_result"
    }
   ],
   "source": [
    "1/25*H1@A@H1"
   ]
  },
  {
   "cell_type": "code",
   "execution_count": null,
   "id": "cross-bulgarian",
   "metadata": {},
   "outputs": [],
   "source": []
  }
 ],
 "metadata": {
  "kernelspec": {
   "display_name": "Python 3",
   "language": "python",
   "name": "python3"
  },
  "language_info": {
   "codemirror_mode": {
    "name": "ipython",
    "version": 3
   },
   "file_extension": ".py",
   "mimetype": "text/x-python",
   "name": "python",
   "nbconvert_exporter": "python",
   "pygments_lexer": "ipython3",
   "version": "3.9.2"
  }
 },
 "nbformat": 4,
 "nbformat_minor": 5
}
