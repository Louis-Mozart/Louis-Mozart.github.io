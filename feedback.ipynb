{
 "cells": [
  {
   "cell_type": "markdown",
   "metadata": {},
   "source": [
    "# Exercise 6 \n",
    "1. Read the Covid-19 dataset\n",
    "\n",
    "\n",
    "\n",
    "<font color = red><b> Axes annotation for last question </b></font>"
   ]
  },
  {
   "cell_type": "code",
   "execution_count": 177,
   "metadata": {},
   "outputs": [
    {
     "data": {
      "text/html": [
       "<div>\n",
       "<style scoped>\n",
       "    .dataframe tbody tr th:only-of-type {\n",
       "        vertical-align: middle;\n",
       "    }\n",
       "\n",
       "    .dataframe tbody tr th {\n",
       "        vertical-align: top;\n",
       "    }\n",
       "\n",
       "    .dataframe thead th {\n",
       "        text-align: right;\n",
       "    }\n",
       "</style>\n",
       "<table border=\"1\" class=\"dataframe\">\n",
       "  <thead>\n",
       "    <tr style=\"text-align: right;\">\n",
       "      <th></th>\n",
       "      <th>Date_reported</th>\n",
       "      <th>Country_code</th>\n",
       "      <th>Country</th>\n",
       "      <th>WHO_region</th>\n",
       "      <th>New_cases</th>\n",
       "      <th>Cumulative_cases</th>\n",
       "      <th>New_deaths</th>\n",
       "      <th>Cumulative_deaths</th>\n",
       "    </tr>\n",
       "  </thead>\n",
       "  <tbody>\n",
       "    <tr>\n",
       "      <th>0</th>\n",
       "      <td>2020-01-03</td>\n",
       "      <td>AF</td>\n",
       "      <td>Afghanistan</td>\n",
       "      <td>EMRO</td>\n",
       "      <td>0</td>\n",
       "      <td>0</td>\n",
       "      <td>0</td>\n",
       "      <td>0</td>\n",
       "    </tr>\n",
       "    <tr>\n",
       "      <th>1</th>\n",
       "      <td>2020-01-04</td>\n",
       "      <td>AF</td>\n",
       "      <td>Afghanistan</td>\n",
       "      <td>EMRO</td>\n",
       "      <td>0</td>\n",
       "      <td>0</td>\n",
       "      <td>0</td>\n",
       "      <td>0</td>\n",
       "    </tr>\n",
       "    <tr>\n",
       "      <th>2</th>\n",
       "      <td>2020-01-05</td>\n",
       "      <td>AF</td>\n",
       "      <td>Afghanistan</td>\n",
       "      <td>EMRO</td>\n",
       "      <td>0</td>\n",
       "      <td>0</td>\n",
       "      <td>0</td>\n",
       "      <td>0</td>\n",
       "    </tr>\n",
       "    <tr>\n",
       "      <th>3</th>\n",
       "      <td>2020-01-06</td>\n",
       "      <td>AF</td>\n",
       "      <td>Afghanistan</td>\n",
       "      <td>EMRO</td>\n",
       "      <td>0</td>\n",
       "      <td>0</td>\n",
       "      <td>0</td>\n",
       "      <td>0</td>\n",
       "    </tr>\n",
       "    <tr>\n",
       "      <th>4</th>\n",
       "      <td>2020-01-07</td>\n",
       "      <td>AF</td>\n",
       "      <td>Afghanistan</td>\n",
       "      <td>EMRO</td>\n",
       "      <td>0</td>\n",
       "      <td>0</td>\n",
       "      <td>0</td>\n",
       "      <td>0</td>\n",
       "    </tr>\n",
       "    <tr>\n",
       "      <th>...</th>\n",
       "      <td>...</td>\n",
       "      <td>...</td>\n",
       "      <td>...</td>\n",
       "      <td>...</td>\n",
       "      <td>...</td>\n",
       "      <td>...</td>\n",
       "      <td>...</td>\n",
       "      <td>...</td>\n",
       "    </tr>\n",
       "    <tr>\n",
       "      <th>149542</th>\n",
       "      <td>2021-09-20</td>\n",
       "      <td>ZW</td>\n",
       "      <td>Zimbabwe</td>\n",
       "      <td>AFRO</td>\n",
       "      <td>199</td>\n",
       "      <td>127938</td>\n",
       "      <td>4</td>\n",
       "      <td>4567</td>\n",
       "    </tr>\n",
       "    <tr>\n",
       "      <th>149543</th>\n",
       "      <td>2021-09-21</td>\n",
       "      <td>ZW</td>\n",
       "      <td>Zimbabwe</td>\n",
       "      <td>AFRO</td>\n",
       "      <td>248</td>\n",
       "      <td>128186</td>\n",
       "      <td>2</td>\n",
       "      <td>4569</td>\n",
       "    </tr>\n",
       "    <tr>\n",
       "      <th>149544</th>\n",
       "      <td>2021-09-22</td>\n",
       "      <td>ZW</td>\n",
       "      <td>Zimbabwe</td>\n",
       "      <td>AFRO</td>\n",
       "      <td>0</td>\n",
       "      <td>128186</td>\n",
       "      <td>0</td>\n",
       "      <td>4569</td>\n",
       "    </tr>\n",
       "    <tr>\n",
       "      <th>149545</th>\n",
       "      <td>2021-09-23</td>\n",
       "      <td>ZW</td>\n",
       "      <td>Zimbabwe</td>\n",
       "      <td>AFRO</td>\n",
       "      <td>618</td>\n",
       "      <td>128804</td>\n",
       "      <td>23</td>\n",
       "      <td>4592</td>\n",
       "    </tr>\n",
       "    <tr>\n",
       "      <th>149546</th>\n",
       "      <td>2021-09-24</td>\n",
       "      <td>ZW</td>\n",
       "      <td>Zimbabwe</td>\n",
       "      <td>AFRO</td>\n",
       "      <td>330</td>\n",
       "      <td>129134</td>\n",
       "      <td>8</td>\n",
       "      <td>4600</td>\n",
       "    </tr>\n",
       "  </tbody>\n",
       "</table>\n",
       "<p>149547 rows × 8 columns</p>\n",
       "</div>"
      ],
      "text/plain": [
       "       Date_reported Country_code      Country WHO_region  New_cases  \\\n",
       "0         2020-01-03           AF  Afghanistan       EMRO          0   \n",
       "1         2020-01-04           AF  Afghanistan       EMRO          0   \n",
       "2         2020-01-05           AF  Afghanistan       EMRO          0   \n",
       "3         2020-01-06           AF  Afghanistan       EMRO          0   \n",
       "4         2020-01-07           AF  Afghanistan       EMRO          0   \n",
       "...              ...          ...          ...        ...        ...   \n",
       "149542    2021-09-20           ZW     Zimbabwe       AFRO        199   \n",
       "149543    2021-09-21           ZW     Zimbabwe       AFRO        248   \n",
       "149544    2021-09-22           ZW     Zimbabwe       AFRO          0   \n",
       "149545    2021-09-23           ZW     Zimbabwe       AFRO        618   \n",
       "149546    2021-09-24           ZW     Zimbabwe       AFRO        330   \n",
       "\n",
       "        Cumulative_cases  New_deaths  Cumulative_deaths  \n",
       "0                      0           0                  0  \n",
       "1                      0           0                  0  \n",
       "2                      0           0                  0  \n",
       "3                      0           0                  0  \n",
       "4                      0           0                  0  \n",
       "...                  ...         ...                ...  \n",
       "149542            127938           4               4567  \n",
       "149543            128186           2               4569  \n",
       "149544            128186           0               4569  \n",
       "149545            128804          23               4592  \n",
       "149546            129134           8               4600  \n",
       "\n",
       "[149547 rows x 8 columns]"
      ]
     },
     "execution_count": 177,
     "metadata": {},
     "output_type": "execute_result"
    }
   ],
   "source": [
    "import pandas as pd\n",
    "import numpy as np\n",
    "a=pd.read_csv('Covid-19.csv')\n",
    "a"
   ]
  },
  {
   "cell_type": "markdown",
   "metadata": {},
   "source": [
    "2. Drop the Country code column\n"
   ]
  },
  {
   "cell_type": "code",
   "execution_count": 178,
   "metadata": {},
   "outputs": [
    {
     "data": {
      "text/html": [
       "<div>\n",
       "<style scoped>\n",
       "    .dataframe tbody tr th:only-of-type {\n",
       "        vertical-align: middle;\n",
       "    }\n",
       "\n",
       "    .dataframe tbody tr th {\n",
       "        vertical-align: top;\n",
       "    }\n",
       "\n",
       "    .dataframe thead th {\n",
       "        text-align: right;\n",
       "    }\n",
       "</style>\n",
       "<table border=\"1\" class=\"dataframe\">\n",
       "  <thead>\n",
       "    <tr style=\"text-align: right;\">\n",
       "      <th></th>\n",
       "      <th>Date_reported</th>\n",
       "      <th>Country</th>\n",
       "      <th>WHO_region</th>\n",
       "      <th>New_cases</th>\n",
       "      <th>Cumulative_cases</th>\n",
       "      <th>New_deaths</th>\n",
       "      <th>Cumulative_deaths</th>\n",
       "    </tr>\n",
       "  </thead>\n",
       "  <tbody>\n",
       "    <tr>\n",
       "      <th>0</th>\n",
       "      <td>2020-01-03</td>\n",
       "      <td>Afghanistan</td>\n",
       "      <td>EMRO</td>\n",
       "      <td>0</td>\n",
       "      <td>0</td>\n",
       "      <td>0</td>\n",
       "      <td>0</td>\n",
       "    </tr>\n",
       "    <tr>\n",
       "      <th>1</th>\n",
       "      <td>2020-01-04</td>\n",
       "      <td>Afghanistan</td>\n",
       "      <td>EMRO</td>\n",
       "      <td>0</td>\n",
       "      <td>0</td>\n",
       "      <td>0</td>\n",
       "      <td>0</td>\n",
       "    </tr>\n",
       "    <tr>\n",
       "      <th>2</th>\n",
       "      <td>2020-01-05</td>\n",
       "      <td>Afghanistan</td>\n",
       "      <td>EMRO</td>\n",
       "      <td>0</td>\n",
       "      <td>0</td>\n",
       "      <td>0</td>\n",
       "      <td>0</td>\n",
       "    </tr>\n",
       "    <tr>\n",
       "      <th>3</th>\n",
       "      <td>2020-01-06</td>\n",
       "      <td>Afghanistan</td>\n",
       "      <td>EMRO</td>\n",
       "      <td>0</td>\n",
       "      <td>0</td>\n",
       "      <td>0</td>\n",
       "      <td>0</td>\n",
       "    </tr>\n",
       "    <tr>\n",
       "      <th>4</th>\n",
       "      <td>2020-01-07</td>\n",
       "      <td>Afghanistan</td>\n",
       "      <td>EMRO</td>\n",
       "      <td>0</td>\n",
       "      <td>0</td>\n",
       "      <td>0</td>\n",
       "      <td>0</td>\n",
       "    </tr>\n",
       "    <tr>\n",
       "      <th>...</th>\n",
       "      <td>...</td>\n",
       "      <td>...</td>\n",
       "      <td>...</td>\n",
       "      <td>...</td>\n",
       "      <td>...</td>\n",
       "      <td>...</td>\n",
       "      <td>...</td>\n",
       "    </tr>\n",
       "    <tr>\n",
       "      <th>149542</th>\n",
       "      <td>2021-09-20</td>\n",
       "      <td>Zimbabwe</td>\n",
       "      <td>AFRO</td>\n",
       "      <td>199</td>\n",
       "      <td>127938</td>\n",
       "      <td>4</td>\n",
       "      <td>4567</td>\n",
       "    </tr>\n",
       "    <tr>\n",
       "      <th>149543</th>\n",
       "      <td>2021-09-21</td>\n",
       "      <td>Zimbabwe</td>\n",
       "      <td>AFRO</td>\n",
       "      <td>248</td>\n",
       "      <td>128186</td>\n",
       "      <td>2</td>\n",
       "      <td>4569</td>\n",
       "    </tr>\n",
       "    <tr>\n",
       "      <th>149544</th>\n",
       "      <td>2021-09-22</td>\n",
       "      <td>Zimbabwe</td>\n",
       "      <td>AFRO</td>\n",
       "      <td>0</td>\n",
       "      <td>128186</td>\n",
       "      <td>0</td>\n",
       "      <td>4569</td>\n",
       "    </tr>\n",
       "    <tr>\n",
       "      <th>149545</th>\n",
       "      <td>2021-09-23</td>\n",
       "      <td>Zimbabwe</td>\n",
       "      <td>AFRO</td>\n",
       "      <td>618</td>\n",
       "      <td>128804</td>\n",
       "      <td>23</td>\n",
       "      <td>4592</td>\n",
       "    </tr>\n",
       "    <tr>\n",
       "      <th>149546</th>\n",
       "      <td>2021-09-24</td>\n",
       "      <td>Zimbabwe</td>\n",
       "      <td>AFRO</td>\n",
       "      <td>330</td>\n",
       "      <td>129134</td>\n",
       "      <td>8</td>\n",
       "      <td>4600</td>\n",
       "    </tr>\n",
       "  </tbody>\n",
       "</table>\n",
       "<p>149547 rows × 7 columns</p>\n",
       "</div>"
      ],
      "text/plain": [
       "       Date_reported      Country WHO_region  New_cases  Cumulative_cases  \\\n",
       "0         2020-01-03  Afghanistan       EMRO          0                 0   \n",
       "1         2020-01-04  Afghanistan       EMRO          0                 0   \n",
       "2         2020-01-05  Afghanistan       EMRO          0                 0   \n",
       "3         2020-01-06  Afghanistan       EMRO          0                 0   \n",
       "4         2020-01-07  Afghanistan       EMRO          0                 0   \n",
       "...              ...          ...        ...        ...               ...   \n",
       "149542    2021-09-20     Zimbabwe       AFRO        199            127938   \n",
       "149543    2021-09-21     Zimbabwe       AFRO        248            128186   \n",
       "149544    2021-09-22     Zimbabwe       AFRO          0            128186   \n",
       "149545    2021-09-23     Zimbabwe       AFRO        618            128804   \n",
       "149546    2021-09-24     Zimbabwe       AFRO        330            129134   \n",
       "\n",
       "        New_deaths  Cumulative_deaths  \n",
       "0                0                  0  \n",
       "1                0                  0  \n",
       "2                0                  0  \n",
       "3                0                  0  \n",
       "4                0                  0  \n",
       "...            ...                ...  \n",
       "149542           4               4567  \n",
       "149543           2               4569  \n",
       "149544           0               4569  \n",
       "149545          23               4592  \n",
       "149546           8               4600  \n",
       "\n",
       "[149547 rows x 7 columns]"
      ]
     },
     "execution_count": 178,
     "metadata": {},
     "output_type": "execute_result"
    }
   ],
   "source": [
    "del a['Country_code']\n",
    "a"
   ]
  },
  {
   "cell_type": "markdown",
   "metadata": {},
   "source": [
    "3. Randomely choose three different countries"
   ]
  },
  {
   "cell_type": "code",
   "execution_count": 179,
   "metadata": {},
   "outputs": [
    {
     "data": {
      "text/plain": [
       "47232          French Polynesia\n",
       "28957                     Congo\n",
       "114118    Saint Kitts and Nevis\n",
       "Name: Country, dtype: object"
      ]
     },
     "execution_count": 179,
     "metadata": {},
     "output_type": "execute_result"
    }
   ],
   "source": [
    "a.sample(n=3)\n",
    "b=a['Country']\n",
    "rand=b.sample(n=3)\n",
    "rand\n",
    "# b=a.sample(n=3)\n",
    "# b"
   ]
  },
  {
   "cell_type": "markdown",
   "metadata": {},
   "source": [
    "4. Select and display the records for those three countries"
   ]
  },
  {
   "cell_type": "code",
   "execution_count": 180,
   "metadata": {},
   "outputs": [
    {
     "data": {
      "text/html": [
       "<div>\n",
       "<style scoped>\n",
       "    .dataframe tbody tr th:only-of-type {\n",
       "        vertical-align: middle;\n",
       "    }\n",
       "\n",
       "    .dataframe tbody tr th {\n",
       "        vertical-align: top;\n",
       "    }\n",
       "\n",
       "    .dataframe thead th {\n",
       "        text-align: right;\n",
       "    }\n",
       "</style>\n",
       "<table border=\"1\" class=\"dataframe\">\n",
       "  <thead>\n",
       "    <tr style=\"text-align: right;\">\n",
       "      <th></th>\n",
       "      <th>Date_reported</th>\n",
       "      <th>Country</th>\n",
       "      <th>WHO_region</th>\n",
       "      <th>New_cases</th>\n",
       "      <th>Cumulative_cases</th>\n",
       "      <th>New_deaths</th>\n",
       "      <th>Cumulative_deaths</th>\n",
       "    </tr>\n",
       "  </thead>\n",
       "  <tbody>\n",
       "    <tr>\n",
       "      <th>28395</th>\n",
       "      <td>2020-01-03</td>\n",
       "      <td>Congo</td>\n",
       "      <td>AFRO</td>\n",
       "      <td>0</td>\n",
       "      <td>0</td>\n",
       "      <td>0</td>\n",
       "      <td>0</td>\n",
       "    </tr>\n",
       "    <tr>\n",
       "      <th>28396</th>\n",
       "      <td>2020-01-04</td>\n",
       "      <td>Congo</td>\n",
       "      <td>AFRO</td>\n",
       "      <td>0</td>\n",
       "      <td>0</td>\n",
       "      <td>0</td>\n",
       "      <td>0</td>\n",
       "    </tr>\n",
       "    <tr>\n",
       "      <th>28397</th>\n",
       "      <td>2020-01-05</td>\n",
       "      <td>Congo</td>\n",
       "      <td>AFRO</td>\n",
       "      <td>0</td>\n",
       "      <td>0</td>\n",
       "      <td>0</td>\n",
       "      <td>0</td>\n",
       "    </tr>\n",
       "    <tr>\n",
       "      <th>28398</th>\n",
       "      <td>2020-01-06</td>\n",
       "      <td>Congo</td>\n",
       "      <td>AFRO</td>\n",
       "      <td>0</td>\n",
       "      <td>0</td>\n",
       "      <td>0</td>\n",
       "      <td>0</td>\n",
       "    </tr>\n",
       "    <tr>\n",
       "      <th>28399</th>\n",
       "      <td>2020-01-07</td>\n",
       "      <td>Congo</td>\n",
       "      <td>AFRO</td>\n",
       "      <td>0</td>\n",
       "      <td>0</td>\n",
       "      <td>0</td>\n",
       "      <td>0</td>\n",
       "    </tr>\n",
       "    <tr>\n",
       "      <th>...</th>\n",
       "      <td>...</td>\n",
       "      <td>...</td>\n",
       "      <td>...</td>\n",
       "      <td>...</td>\n",
       "      <td>...</td>\n",
       "      <td>...</td>\n",
       "      <td>...</td>\n",
       "    </tr>\n",
       "    <tr>\n",
       "      <th>114206</th>\n",
       "      <td>2021-09-20</td>\n",
       "      <td>Saint Kitts and Nevis</td>\n",
       "      <td>AMRO</td>\n",
       "      <td>42</td>\n",
       "      <td>1674</td>\n",
       "      <td>1</td>\n",
       "      <td>10</td>\n",
       "    </tr>\n",
       "    <tr>\n",
       "      <th>114207</th>\n",
       "      <td>2021-09-21</td>\n",
       "      <td>Saint Kitts and Nevis</td>\n",
       "      <td>AMRO</td>\n",
       "      <td>6</td>\n",
       "      <td>1680</td>\n",
       "      <td>0</td>\n",
       "      <td>10</td>\n",
       "    </tr>\n",
       "    <tr>\n",
       "      <th>114208</th>\n",
       "      <td>2021-09-22</td>\n",
       "      <td>Saint Kitts and Nevis</td>\n",
       "      <td>AMRO</td>\n",
       "      <td>0</td>\n",
       "      <td>1680</td>\n",
       "      <td>0</td>\n",
       "      <td>10</td>\n",
       "    </tr>\n",
       "    <tr>\n",
       "      <th>114209</th>\n",
       "      <td>2021-09-23</td>\n",
       "      <td>Saint Kitts and Nevis</td>\n",
       "      <td>AMRO</td>\n",
       "      <td>38</td>\n",
       "      <td>1718</td>\n",
       "      <td>0</td>\n",
       "      <td>10</td>\n",
       "    </tr>\n",
       "    <tr>\n",
       "      <th>114210</th>\n",
       "      <td>2021-09-24</td>\n",
       "      <td>Saint Kitts and Nevis</td>\n",
       "      <td>AMRO</td>\n",
       "      <td>44</td>\n",
       "      <td>1762</td>\n",
       "      <td>0</td>\n",
       "      <td>10</td>\n",
       "    </tr>\n",
       "  </tbody>\n",
       "</table>\n",
       "<p>1893 rows × 7 columns</p>\n",
       "</div>"
      ],
      "text/plain": [
       "       Date_reported                Country WHO_region  New_cases  \\\n",
       "28395     2020-01-03                  Congo       AFRO          0   \n",
       "28396     2020-01-04                  Congo       AFRO          0   \n",
       "28397     2020-01-05                  Congo       AFRO          0   \n",
       "28398     2020-01-06                  Congo       AFRO          0   \n",
       "28399     2020-01-07                  Congo       AFRO          0   \n",
       "...              ...                    ...        ...        ...   \n",
       "114206    2021-09-20  Saint Kitts and Nevis       AMRO         42   \n",
       "114207    2021-09-21  Saint Kitts and Nevis       AMRO          6   \n",
       "114208    2021-09-22  Saint Kitts and Nevis       AMRO          0   \n",
       "114209    2021-09-23  Saint Kitts and Nevis       AMRO         38   \n",
       "114210    2021-09-24  Saint Kitts and Nevis       AMRO         44   \n",
       "\n",
       "        Cumulative_cases  New_deaths  Cumulative_deaths  \n",
       "28395                  0           0                  0  \n",
       "28396                  0           0                  0  \n",
       "28397                  0           0                  0  \n",
       "28398                  0           0                  0  \n",
       "28399                  0           0                  0  \n",
       "...                  ...         ...                ...  \n",
       "114206              1674           1                 10  \n",
       "114207              1680           0                 10  \n",
       "114208              1680           0                 10  \n",
       "114209              1718           0                 10  \n",
       "114210              1762           0                 10  \n",
       "\n",
       "[1893 rows x 7 columns]"
      ]
     },
     "execution_count": 180,
     "metadata": {},
     "output_type": "execute_result"
    }
   ],
   "source": [
    "q=a[a['Country'].isin(rand)]\n",
    "q"
   ]
  },
  {
   "cell_type": "markdown",
   "metadata": {},
   "source": [
    "5. Calculate and display the sum, the average of the cumulative cases of each WHO region."
   ]
  },
  {
   "cell_type": "code",
   "execution_count": 14,
   "metadata": {},
   "outputs": [
    {
     "name": "stdout",
     "output_type": "stream",
     "text": [
      "the average of cumulative case of each WHO region is\n",
      " WHO_region\n",
      "AFRO     3.853838e+04\n",
      "AMRO     5.795662e+05\n",
      "EMRO     2.228024e+05\n",
      "EURO     3.936270e+05\n",
      "Other    6.911569e+02\n",
      "SEARO    1.181455e+06\n",
      "WPRO     4.465386e+04\n",
      "Name: Cumulative_cases, dtype: float64\n",
      "the Sum of cumulative case of each WHO region is\n",
      " WHO_region\n",
      "AFRO      1215886016\n",
      "AMRO     20479550865\n",
      "EMRO      3092942346\n",
      "EURO     15399475886\n",
      "Other         436120\n",
      "SEARO     8200477089\n",
      "WPRO       986180579\n",
      "Name: Cumulative_cases, dtype: int64\n"
     ]
    }
   ],
   "source": [
    "M=a.groupby('WHO_region').mean()\n",
    "print(\"the average of cumulative case of each WHO region is\\n\",M['Cumulative_cases'])\n",
    "S=a.groupby('WHO_region').sum()\n",
    "print(\"the Sum of cumulative case of each WHO region is\\n\",S['Cumulative_cases'])"
   ]
  },
  {
   "cell_type": "markdown",
   "metadata": {},
   "source": [
    "6. Calculate and display sum, the average of the cumulative deaths of each WHO region."
   ]
  },
  {
   "cell_type": "code",
   "execution_count": 15,
   "metadata": {},
   "outputs": [
    {
     "name": "stdout",
     "output_type": "stream",
     "text": [
      "the average of cumulative deaths of each WHO region is\n",
      " WHO_region\n",
      "AFRO       916.600856\n",
      "AMRO     15814.192891\n",
      "EMRO      4672.818470\n",
      "EURO      8890.024871\n",
      "Other       11.554675\n",
      "SEARO    17467.325457\n",
      "WPRO       723.480281\n",
      "Name: Cumulative_deaths, dtype: float64\n",
      "the Sum of cumulative case of each WHO region is\n",
      " WHO_region\n",
      "AFRO      28918757\n",
      "AMRO     558810320\n",
      "EMRO      64868066\n",
      "EURO     347795553\n",
      "Other         7291\n",
      "SEARO    121240706\n",
      "WPRO      15978062\n",
      "Name: Cumulative_deaths, dtype: int64\n"
     ]
    }
   ],
   "source": [
    "M=a.groupby('WHO_region').mean()\n",
    "print(\"the average of cumulative deaths of each WHO region is\\n\",M['Cumulative_deaths'])\n",
    "S=a.groupby('WHO_region').sum()\n",
    "print(\"the Sum of cumulative case of each WHO region is\\n\",S['Cumulative_deaths'])"
   ]
  },
  {
   "cell_type": "markdown",
   "metadata": {},
   "source": [
    "7. Produce plots that look like the following three figures. Pay attention to the annotations.\n",
    "\n",
    "7.a. <img src=\"Assign1.png\">"
   ]
  },
  {
   "cell_type": "code",
   "execution_count": 98,
   "metadata": {},
   "outputs": [
    {
     "name": "stderr",
     "output_type": "stream",
     "text": [
      "No handles with labels found to put in legend.\n"
     ]
    },
    {
     "data": {
      "text/plain": [
       "<matplotlib.legend.Legend at 0x7fecb84f71c0>"
      ]
     },
     "execution_count": 98,
     "metadata": {},
     "output_type": "execute_result"
    },
    {
     "data": {
      "image/png": "[encoded data removed]",
      "text/plain": [
       "<Figure size 432x288 with 1 Axes>"
      ]
     },
     "metadata": {
      "needs_background": "light"
     },
     "output_type": "display_data"
    }
   ],
   "source": [
    "import seaborn as sns\n",
    "sns.boxplot(x=\"Country\", y=\"New_cases\", data=q)\n",
    "sns.stripplot(x=\"Country\", y=\"New_cases\", data=q);#, jitter=True, edgecolor=\"gray\")\n",
    "plt.legend()"
   ]
  },
  {
   "cell_type": "code",
   "execution_count": 189,
   "metadata": {},
   "outputs": [
    {
     "name": "stderr",
     "output_type": "stream",
     "text": [
      "<ipython-input-189-1cfdf2cd8944>:1: FutureWarning: Indexing with multiple keys (implicitly converted to a tuple of keys) will be deprecated, use a list instead.\n",
      "  a.groupby('WHO_region')['Cumulative_cases',\"Cumulative_deaths\"].sum().plot.bar(grid=False);\n"
     ]
    },
    {
     "data": {
      "image/png": "[encoded data removed]",
      "text/plain": [
       "<Figure size 432x288 with 1 Axes>"
      ]
     },
     "metadata": {
      "needs_background": "light"
     },
     "output_type": "display_data"
    }
   ],
   "source": [
    "a.groupby('WHO_region')['Cumulative_cases',\"Cumulative_deaths\"].sum().plot.bar(grid=False);"
   ]
  },
  {
   "cell_type": "markdown",
   "metadata": {},
   "source": [
    "7.b. <img src=\"Assign2.png\">"
   ]
  },
  {
   "cell_type": "code",
   "execution_count": 184,
   "metadata": {},
   "outputs": [
    {
     "data": {
      "text/plain": [
       "<AxesSubplot:xlabel='Date_reported', ylabel='Cumulative_cases'>"
      ]
     },
     "execution_count": 184,
     "metadata": {},
     "output_type": "execute_result"
    },
    {
     "data": {
      "image/png": "[encoded data removed]",
      "text/plain": [
       "<Figure size 432x288 with 1 Axes>"
      ]
     },
     "metadata": {
      "needs_background": "light"
     },
     "output_type": "display_data"
    }
   ],
   "source": [
    "import matplotlib.pyplot as plt\n",
    "sns.lineplot(x=\"Date_reported\", y=\"Cumulative_cases\", hue=\"Country\",linewidth=5,data=q)\n"
   ]
  },
  {
   "cell_type": "markdown",
   "metadata": {},
   "source": [
    "7.c. <img src=\"Assign3.png\">"
   ]
  },
  {
   "cell_type": "code",
   "execution_count": null,
   "metadata": {},
   "outputs": [],
   "source": []
  }
 ],
 "metadata": {
  "kernelspec": {
   "display_name": "Python 3",
   "language": "python",
   "name": "python3"
  },
  "language_info": {
   "codemirror_mode": {
    "name": "ipython",
    "version": 3
   },
   "file_extension": ".py",
   "mimetype": "text/x-python",
   "name": "python",
   "nbconvert_exporter": "python",
   "pygments_lexer": "ipython3",
   "version": "3.9.2"
  }
 },
 "nbformat": 4,
 "nbformat_minor": 4
}
