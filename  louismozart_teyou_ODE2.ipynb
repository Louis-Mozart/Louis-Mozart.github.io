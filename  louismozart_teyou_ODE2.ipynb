{
 "cells": [
  {
   "cell_type": "markdown",
   "id": "inner-hebrew",
   "metadata": {},
   "source": [
    "## Exercice 4"
   ]
  },
  {
   "cell_type": "markdown",
   "id": "military-archive",
   "metadata": {},
   "source": [
    "\\begin{equation}\n",
    "\\dfrac{du}{dt}=Au+F(u,t)\t\n",
    "\\end{equation}\n",
    "\n",
    "\n",
    "\\begin{enumerate}\n",
    "\\item \\textbf{Show that:}\\\\\n",
    "\\begin{equation}\n",
    "\tu(t_{n+1})=e^{hA}u(t_{n})+\\int_{0}^{h}e^{-(\\tau-h)A}F(u(t_{n}+\\tau),t_{n}+\\tau)d\\tau \n",
    "\\end{equation}\n",
    "\n",
    "By multiplying equation (1) by $e^{-At}$, we have:\n",
    "\n",
    "\\begin{align*}\n",
    "\t\\dfrac{du}{dt}e^{-At}=(Au+F(u,t))e^{-At}&\\implies e^{-At}du-Ae^{-At}udt=e^{-At}F(u,t)dt\\\\\n",
    "\t&\\implies \\dfrac{d}{dt}(ue^{-At})=e^{-At}F(u,t)\\\\\n",
    "\t&\\implies d(ue^{-At})=e^{-At}F(u,t)dt\\\\\n",
    "\t&\\implies \\int_{t_{n}}^{t_{n+1}}d(ue^{-At})=\\int_{t_{n}}^{t_{n+1}}e^{-At}F(u,t)dt\\\\\n",
    "\t&\\implies [ue^{-At}]_{t_{n}}^{t_{n+1}}=\\int_{t_{n}}^{t_{n+1}}e^{-At}F(u,t)dt\\\\\n",
    "\t&\\implies u(t_{n+1})e^{-At_{n+1}}-u(t_{n})e^{-At_{n}}=\\int_{t_{n}}^{t_{n+1}}e^{-At}F(u,t)dt\\\\\n",
    "\t&\\implies u(t_{n+1}) =u(t_{n})e^{A(t_{n+1}-t_{n})}+e^{At_{n+1}}\\int_{t_{n}}^{t_{n+1}}e^{-At}F(u,t)dt\\\\\n",
    "\t&\\implies u(t_{n+1}) =u(t_{n})e^{A(t_{n+1}-t_{n})}+ \\int_{t_{n}}^{t_{n+1}}e^{A(t_{n+1}-t)}F(u,t)dt\\\\\n",
    "\\end{align*}\n",
    " Since $h=t_{n+1}-t_{n}$, we have $t_{n+1}=h+t_{n}$ then :\n",
    " \\begin{align*}\n",
    " \tu(t_{n+1}) =u(t_{n})e^{hA}+ \\int_{t_{n}}^{t_{n+1}}e^{A(h+t_{n}-t)}F(u(t),t)dt\\\\\n",
    " \\end{align*}\n",
    "Let doing the change variable: $\\tau=t-t_{n}$ \\\\\n",
    "$t=t_{n}\\implies \\tau=0 $ and $t=t_{n+1}\\implies \\tau=t_{n+1}-t_{n}=h $ ie :\\\\\n",
    "\\begin{align*}\n",
    "\tu(t_{n+1}) =u(t_{n})e^{hA}+ \\int_{t_{n}}^{t_{n+1}}e^{A(h-\\tau)}F(u(t_{n}+\\tau),t_{n}+\\tau)dt\\\\ \n",
    "\\end{align*}\n",
    "Then we have \\begin{equation*}\n",
    "\tu(t_{n+1})=e^{hA}u(t_{n})+\\int_{0}^{h}e^{-(\\tau-h)A}F(u(t_{n}+\\tau),t_{n}+\\tau)d\\tau \n",
    "\\end{equation*}\n",
    "\\item Let us denote the numerical approximation to $ u(t_{n}) $ by $ u_{n} $ and write $ F(u_{n}, t_{n}) $ as $ F_{n} $.\n",
    "By assuming $ F $ is constant, $ F \\approx F_{n} $$ $, between $ t = t_{n} $ to $ t = t_{n+1} $, show that Eq(2)\n",
    "becomes\n",
    "\\begin{align}\n",
    "\tu_{n+1}=e^{hA}u_{n}+(e^{hA}-I)A^{-1}F_{n}\n",
    "\\end{align}\n",
    "\n",
    "We have :\n",
    "\\begin{align*}\n",
    "\tu(t_{n+1})=e^{hA}u(t_{n})+\\int_{0}^{h}e^{-(\\tau-h)A}F(u(t_{n}+\\tau),t_{n}+\\tau)d\\tau &\\implies u_{n+1}=e^{hA}u_{n}+\\int_{0}^{h}e^{-(\\tau-h)A}F d\\tau\\\\\n",
    "\t&\\implies  u_{n+1}=e^{hA}u_{n}+F_{n}\\int_{0}^{h}e^{-(\\tau-h)A}d\\tau\\\\\n",
    "\t&\\implies u_{n+1}=e^{hA}u_{n}+F_{n}[-A^{-1}e^{-(\\tau-h)A}]_{0}^{h}\\\\\n",
    "\t&\\implies u_{n+1}=e^{hA}u_{n}+(e^{hA}-I)A^{-1}F_{n} \n",
    "\\end{align*}\n",
    "\n",
    "\\end{enumerate}\n"
   ]
  },
  {
   "cell_type": "code",
   "execution_count": null,
   "id": "religious-opinion",
   "metadata": {},
   "outputs": [],
   "source": []
  },
  {
   "cell_type": "markdown",
   "id": "stainless-nebraska",
   "metadata": {},
   "source": [
    "### 3. Write a python function, ExpoMethod that takes a, b, A, F, h, u 0 as input and return the list of u n (using Eq(3)) and the list of t n ."
   ]
  },
  {
   "cell_type": "code",
   "execution_count": 6,
   "id": "suffering-census",
   "metadata": {},
   "outputs": [],
   "source": [
    "import numpy as np\n",
    "import matplotlib.pyplot as plt\n",
    "def ExpoMethod(a,b,A,F,h,u0):\n",
    "    n=(b-a)/h+1\n",
    "    t=np.linspace(a,b,int(n))\n",
    "    M=np.exp(h*A)\n",
    "    u=np.zeros((len(t),len(u0)))\n",
    "    u[0]=u0 \n",
    "    for i in range(len(t)-1):\n",
    "        u[i+1]=M@u[i]+(M-np.identity(np.shape(M)[0]))@np.invert(A)@F(u[i],t[i])\n",
    "    return u,t\n",
    "    "
   ]
  },
  {
   "cell_type": "code",
   "execution_count": 7,
   "id": "timely-lafayette",
   "metadata": {},
   "outputs": [
    {
     "data": {
      "text/plain": [
       "(101,)"
      ]
     },
     "execution_count": 7,
     "metadata": {},
     "output_type": "execute_result"
    },
    {
     "data": {
      "image/png": "[encoded data removed]",
      "text/plain": [
       "<Figure size 432x288 with 1 Axes>"
      ]
     },
     "metadata": {
      "needs_background": "light"
     },
     "output_type": "display_data"
    }
   ],
   "source": [
    "def F(u,t):\n",
    "     return np.array([0,0,0])\n",
    "a=0\n",
    "b=1\n",
    "A=np.array(([3,1,2],[4,5,1],[2,3,4]))\n",
    "h=0.01\n",
    "u0=np.array([0,1,2])\n",
    "plt.plot((ExpoMethod(a,b,A,F,h,u0)[0])[:,0])\n",
    "#F(u0,np.linspace(0,1,2))\n",
    "np.shape(((ExpoMethod(a,b,A,F,h,u0)[0])[:,0]))"
   ]
  },
  {
   "cell_type": "markdown",
   "id": "disabled-oasis",
   "metadata": {},
   "source": [
    "### Let us consider the system of ODE in Question 1 of Exercise 3 on [0, 1] (Notethat in this case F (u, t) = 0). Plot in different graph\n",
    "#### (a) the components of the exact and approximate solution obtained with ExpoMethod against the time."
   ]
  },
  {
   "cell_type": "code",
   "execution_count": 24,
   "id": "fleet-headset",
   "metadata": {},
   "outputs": [
    {
     "data": {
      "text/plain": [
       "[<matplotlib.lines.Line2D at 0x7fd01f77b370>]"
      ]
     },
     "execution_count": 24,
     "metadata": {},
     "output_type": "execute_result"
    },
    {
     "data": {
      "image/png": "[encoded data removed]",
      "text/plain": [
       "<Figure size 432x288 with 2 Axes>"
      ]
     },
     "metadata": {
      "needs_background": "light"
     },
     "output_type": "display_data"
    }
   ],
   "source": [
    "import numpy as np\n",
    "from scipy.integrate import odeint\n",
    "import matplotlib.pyplot as plt\n",
    "\n",
    "plt.subplot(2,1,1)\n",
    "plt.plot((ExpoMethod(a,b,A,F,h,z0)[0])[:,0],'b-')\n",
    "plt.plot((ExpoMethod(a,b,A,F,h,z0)[0])[:,1],'r--')\n",
    "plt.plot((ExpoMethod(a,b,A,F,h,z0)[0])[:,2],'g-')\n",
    "\n",
    "plt.subplot(2,1,2)\n",
    "t=np.linspace(0,1,100)\n",
    "x_1=1/4*(np.exp(5*t)+3*np.exp(t))\n",
    "x_2=1/4*(np.exp(5*t)-np.exp(t))\n",
    "x_3=x_2\n",
    "plt.plot(x_1)\n",
    "plt.plot(x_2)"
   ]
  },
  {
   "cell_type": "markdown",
   "id": "historic-cleaner",
   "metadata": {},
   "source": [
    "### (b) the absolute error between the exact and approximate solution."
   ]
  },
  {
   "cell_type": "code",
   "execution_count": 34,
   "id": "motivated-cable",
   "metadata": {},
   "outputs": [
    {
     "data": {
      "image/png": "[encoded data removed]",
      "text/plain": [
       "<Figure size 432x288 with 1 Axes>"
      ]
     },
     "metadata": {
      "needs_background": "light"
     },
     "output_type": "display_data"
    }
   ],
   "source": [
    "err1=abs(x_1.reshape(-1,1)-(ExpoMethod(a,b,A,F,h,z0)[0])[:,0])\n",
    "err2=abs(x_2.reshape(-1,1)-(ExpoMethod(a,b,A,F,h,z0)[0])[:,1])\n",
    "err3=abs(x_1.reshape(-1,1)-(ExpoMethod(a,b,A,F,h,z0)[0])[:,2])\n",
    "\n",
    "plt.plot(t,err1);"
   ]
  },
  {
   "cell_type": "markdown",
   "id": "plastic-active",
   "metadata": {},
   "source": [
    "### 5.By using ExpoMethod, plot the components of the numerical solution of Eq (1) on [0, 1] when"
   ]
  },
  {
   "cell_type": "code",
   "execution_count": 41,
   "id": "fifteen-mortgage",
   "metadata": {},
   "outputs": [
    {
     "data": {
      "text/plain": [
       "[<matplotlib.lines.Line2D at 0x7fd01ec2fbe0>]"
      ]
     },
     "execution_count": 41,
     "metadata": {},
     "output_type": "execute_result"
    },
    {
     "data": {
      "image/png": "[encoded data removed]",
      "text/plain": [
       "<Figure size 432x288 with 3 Axes>"
      ]
     },
     "metadata": {
      "needs_background": "light"
     },
     "output_type": "display_data"
    }
   ],
   "source": [
    "A=np.array(([2,2,1],[1,3,1],[1,2,2]))\n",
    "u0=np.array([1,0,0])\n",
    "def F(u,t):\n",
    "     return np.array([t**3,0,t**2])\n",
    "plt.subplot(3,1,1)  \n",
    "plt.plot((ExpoMethod(a,b,A,F,h,u0)[0])[:,0]);\n",
    "plt.subplot(3,1,2)\n",
    "plt.plot((ExpoMethod(a,b,A,F,h,u0)[0])[:,1])\n",
    "plt.subplot(3,1,3)\n",
    "plt.plot((ExpoMethod(a,b,A,F,h,u0)[0])[:,1])"
   ]
  },
  {
   "cell_type": "code",
   "execution_count": null,
   "id": "better-liberty",
   "metadata": {},
   "outputs": [],
   "source": []
  }
 ],
 "metadata": {
  "kernelspec": {
   "display_name": "Python 3",
   "language": "python",
   "name": "python3"
  },
  "language_info": {
   "codemirror_mode": {
    "name": "ipython",
    "version": 3
   },
   "file_extension": ".py",
   "mimetype": "text/x-python",
   "name": "python",
   "nbconvert_exporter": "python",
   "pygments_lexer": "ipython3",
   "version": "3.9.2"
  }
 },
 "nbformat": 4,
 "nbformat_minor": 5
}
