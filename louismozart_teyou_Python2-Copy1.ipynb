{
 "cells": [
  {
   "cell_type": "code",
   "execution_count": null,
   "metadata": {},
   "outputs": [],
   "source": []
  },
  {
   "cell_type": "code",
   "execution_count": 3,
   "metadata": {},
   "outputs": [
    {
     "data": {
      "application/javascript": [
       "MathJax.Hub.Config({\n",
       "    TeX: { equationNumbers: { autoNumber: \"AMS\" } }\n",
       "});\n"
      ],
      "text/plain": [
       "<IPython.core.display.Javascript object>"
      ]
     },
     "metadata": {},
     "output_type": "display_data"
    }
   ],
   "source": [
    "%%javascript\n",
    "MathJax.Hub.Config({\n",
    "    TeX: { equationNumbers: { autoNumber: \"AMS\" } }\n",
    "});"
   ]
  },
  {
   "cell_type": "markdown",
   "metadata": {},
   "source": [
    "# Exercise 1\n",
    "\n",
    "Let us consider the sequence $U_n$ given by \n",
    "\\begin{equation}\\label{fib}\n",
    "\\left\\lbrace \n",
    "\\begin{array}{ll}\n",
    "U_0 &= 1,\\\\\n",
    "U_1 &= 2,\\\\\n",
    "U_{n} &=-3U_{n-1} +U_{n-2}, \\;\\; \\forall\\; n=2,3,4\\cdots\n",
    "\\end{array}\\right. \n",
    "\\end{equation}\n",
    "\n",
    "Write a python function named  <b>SeqTerms</b> that takes as input an integer $n,\\;\\;n\\geq 0$ and return an array of the first $n$ terms (i.e. $U_0, \\cdots, U_{n-1}$) of the sequence \\eqref{fib}."
   ]
  },
  {
   "cell_type": "code",
   "execution_count": 17,
   "metadata": {},
   "outputs": [
    {
     "data": {
      "text/plain": [
       "[1, 2, -5, 17]"
      ]
     },
     "execution_count": 17,
     "metadata": {},
     "output_type": "execute_result"
    }
   ],
   "source": [
    "import numpy as np\n",
    "def Seq(n):\n",
    "    a=1\n",
    "    b=2\n",
    "    if n==0:\n",
    "        return 1\n",
    "    if n==1:\n",
    "        return 2\n",
    "    for i in range(2,n+1):\n",
    "        c=-3*b+a\n",
    "        a=b\n",
    "        b=c\n",
    "    return c\n",
    "Seq(2)\n",
    "def SeqTerms(n):\n",
    "    l=[]\n",
    "    g=np.vectorize(Seq)\n",
    "    for i in range(n):\n",
    "        l+=[Seq(i)]\n",
    "    return l\n",
    "SeqTerms(4)"
   ]
  },
  {
   "cell_type": "markdown",
   "metadata": {},
   "source": [
    "# Exercise 2\n",
    "\n",
    "Let $\\{ x_k\\}$ be a partition of $[a,b]$ such that $a=x_0<x_1<\\cdots<x_{N-1}<x_N=b$ and $H$ be the length of the $k$-th subinterval ($H = x_k - x_{k-1}$),\n",
    "then we have \n",
    "$$\\int_a^bf(x)dx \\approx \\sum_{k=1}^N \\frac{f(x_{k-1})+f(x_k)}{2}H = A$$\n",
    "\n",
    "\n",
    "1. Write a function named <b>Trap</b> that takes $a,b,N, f$ as inputs and return A\n"
   ]
  },
  {
   "cell_type": "code",
   "execution_count": 18,
   "metadata": {},
   "outputs": [
    {
     "data": {
      "text/plain": [
       "7.250000000000129"
      ]
     },
     "execution_count": 18,
     "metadata": {},
     "output_type": "execute_result"
    }
   ],
   "source": [
    "def trap(a,b,N,f):\n",
    "    C=np.linspace(a,b,N+1)\n",
    "    g=np.vectorize(f)\n",
    "    A=g(C)\n",
    "    S=0\n",
    "    for i in range(1,len(A)):\n",
    "        S+=A[i]+A[i-1]\n",
    "    K=1/2*S*((b-a)/N)\n",
    "    return K\n",
    "f= lambda x: x**3+7\n",
    "trap(0,1,10**6,f)"
   ]
  },
  {
   "cell_type": "markdown",
   "metadata": {},
   "source": [
    "2. Write a Python code to compute and display an approximation $Aquad$ of  the integral bellow using the Python function $quad$\n",
    "$$A = \\int_{0}^{2} \\dfrac{x^3+5x-20}{x^2+3}dx$$\n",
    "\n"
   ]
  },
  {
   "cell_type": "code",
   "execution_count": 20,
   "metadata": {},
   "outputs": [
    {
     "name": "stdout",
     "output_type": "stream",
     "text": [
      "-7.049316535735796\n"
     ]
    }
   ],
   "source": [
    "from scipy.integrate import quad\n",
    "a = 0\n",
    "b = 2\n",
    "f = lambda x: (x**3+5*x-20)/(x**2+3)\n",
    "Aquad= quad(f, a, b)[0]\n",
    "print(Aquad)"
   ]
  },
  {
   "cell_type": "markdown",
   "metadata": {},
   "source": [
    "3. write a Python function <b>ErrorTrap</b> that takes $M$ as input and return an arrays $ErrorInt$ and $ListN$. Here, $ErrorInt$ contains the absolute errors between $Aquad$ and the approximation of the integral $A$ obtained using the function <b>Trap</b> for all positve intergers $N$ in $ListN$ the set of all multiples of 10 less or equal to $M$.\n"
   ]
  },
  {
   "cell_type": "code",
   "execution_count": 21,
   "metadata": {},
   "outputs": [
    {
     "data": {
      "text/plain": [
       "(array([0.0030795, 0.0007707, 0.0003426]), [10, 20, 30])"
      ]
     },
     "execution_count": 21,
     "metadata": {},
     "output_type": "execute_result"
    }
   ],
   "source": [
    "def ErrorTrap(M):\n",
    "    u= lambda x: abs(quad(f,0,2)[0]-trap(0,2,x,f))\n",
    "    ListN=[]\n",
    "    #ErrorInt=np.zeros(M)\n",
    "    for i in range(1,M+1):\n",
    "        if i%10==0:\n",
    "            ListN+=[i]\n",
    "    g=np.vectorize(u)\n",
    "    ErrorInt=g(ListN)\n",
    "    return ErrorInt, ListN\n",
    "ErrorTrap(30)    "
   ]
  },
  {
   "cell_type": "markdown",
   "metadata": {},
   "source": [
    "4. Plot the output $ErrorInt$ against $ListN$ for $M=200$"
   ]
  },
  {
   "cell_type": "code",
   "execution_count": 22,
   "metadata": {},
   "outputs": [
    {
     "name": "stdout",
     "output_type": "stream",
     "text": [
      "[10, 20, 30, 40, 50, 60, 70, 80, 90, 100, 110, 120, 130, 140, 150, 160, 170, 180, 190, 200]\n",
      "[3.07950054e-03 7.70701307e-04 3.42601551e-04 1.92726674e-04\n",
      " 1.23349010e-04 8.56605200e-05 6.29349176e-05 4.81848732e-05\n",
      " 3.80721757e-05 3.08385649e-05 2.54864800e-05 2.14157629e-05\n",
      " 1.82477772e-05 1.57340710e-05 1.37061368e-05 1.20464185e-05\n",
      " 1.06708827e-05 9.51816892e-06 8.54262634e-06 7.70972323e-06]\n"
     ]
    }
   ],
   "source": [
    "𝐸𝑟𝑟𝑜𝑟𝐼𝑛𝑡 , 𝐿𝑖𝑠𝑡𝑁 = ErrorTrap(200)\n",
    "print(𝐿𝑖𝑠𝑡𝑁)  \n",
    "print(ErrorInt)"
   ]
  },
  {
   "cell_type": "markdown",
   "metadata": {},
   "source": [
    "# Exercise 3\n",
    "\n",
    "1. Write code to solve the following system of ordinary differential equations using the Python function odeint.\n",
    "\n",
    "$$\n",
    "\\begin{cases}\n",
    "\\dfrac{dx_1}{dt}& = & -\\dfrac{1}{2}x_1\\\\\\\\\n",
    "\\dfrac{dx_2}{dt}& = & \\dfrac{1}{2}x_1-\\dfrac{1}{4}x_2\\\\\\\\\n",
    "\\dfrac{dx_3}{dt}& = & \\dfrac{1}{4}x_2-\\dfrac{1}{6}x_3\n",
    "\\end{cases}, \\text{ on } [0,4]\n",
    "$$\n",
    "\n",
    "Subject to the initial conditions $x_1(0) = 1, x_2(0) = 1, x_3(0) = 1$."
   ]
  },
  {
   "cell_type": "code",
   "execution_count": 5,
   "metadata": {},
   "outputs": [
    {
     "data": {
      "image/png": "[encoded data removed]",
      "text/plain": [
       "<Figure size 432x288 with 1 Axes>"
      ]
     },
     "metadata": {
      "needs_background": "light"
     },
     "output_type": "display_data"
    }
   ],
   "source": [
    "import numpy as np\n",
    "from scipy.integrate import odeint\n",
    "import matplotlib.pyplot as plt\n",
    "\n",
    "# function that returns dz/dt\n",
    "def model(z,t):\n",
    "    x_1,x_2,x_3 = z\n",
    "    dx_1dt = -1/2*x_1 \n",
    "    dx_2dt = 1/2*x_1 -1/4*x_2\n",
    "    dx_3dt = 1/4*x_2-1/6*x_3\n",
    "    return dx_1dt,dx_2dt,dx_3dt\n",
    "\n",
    "# initial condition\n",
    "z0 = [1,1,1]\n",
    "\n",
    "# time points\n",
    "a = 0\n",
    "b = 4\n",
    "N = 100\n",
    "t = np.linspace(a,b,N+1)\n",
    "\n",
    "# solve ODE\n",
    "z = odeint(model,z0,t)\n",
    "\n",
    "x_1 = z[:,0]\n",
    "x_2 = z[:,1]\n",
    "x_3=z[:,2]\n",
    "\n",
    "\n",
    "plt.plot(t,x_1,'b-')\n",
    "plt.plot(t,x_3,'r--')\n",
    "plt.plot(t,x_2,'green');\n"
   ]
  },
  {
   "cell_type": "code",
   "execution_count": 173,
   "metadata": {},
   "outputs": [
    {
     "ename": "TypeError",
     "evalue": "cannot unpack non-iterable int object",
     "output_type": "error",
     "traceback": [
      "\u001b[0;31m---------------------------------------------------------------------------\u001b[0m",
      "\u001b[0;31mTypeError\u001b[0m                                 Traceback (most recent call last)",
      "\u001b[0;32m<ipython-input-173-c2292685c50c>\u001b[0m in \u001b[0;36m<module>\u001b[0;34m\u001b[0m\n\u001b[1;32m      5\u001b[0m     \u001b[0mdx3dt\u001b[0m\u001b[0;34m=\u001b[0m\u001b[0;36m1\u001b[0m\u001b[0;34m/\u001b[0m\u001b[0;36m4\u001b[0m\u001b[0;34m*\u001b[0m\u001b[0mz\u001b[0m\u001b[0;34m[\u001b[0m\u001b[0;36m1\u001b[0m\u001b[0;34m]\u001b[0m\u001b[0;34m-\u001b[0m\u001b[0;36m1\u001b[0m\u001b[0;34m/\u001b[0m\u001b[0;36m6\u001b[0m\u001b[0;34m*\u001b[0m\u001b[0mz\u001b[0m\u001b[0;34m[\u001b[0m\u001b[0;36m2\u001b[0m\u001b[0;34m]\u001b[0m\u001b[0;34m\u001b[0m\u001b[0;34m\u001b[0m\u001b[0m\n\u001b[1;32m      6\u001b[0m     \u001b[0;32mreturn\u001b[0m \u001b[0mdx1dt\u001b[0m\u001b[0;34m,\u001b[0m \u001b[0mdx2dt\u001b[0m\u001b[0;34m,\u001b[0m\u001b[0mdx3dt\u001b[0m\u001b[0;34m\u001b[0m\u001b[0;34m\u001b[0m\u001b[0m\n\u001b[0;32m----> 7\u001b[0;31m \u001b[0mf\u001b[0m\u001b[0;34m(\u001b[0m\u001b[0;36m6\u001b[0m\u001b[0;34m,\u001b[0m\u001b[0;36m7\u001b[0m\u001b[0;34m)\u001b[0m\u001b[0;34m\u001b[0m\u001b[0;34m\u001b[0m\u001b[0m\n\u001b[0m",
      "\u001b[0;32m<ipython-input-173-c2292685c50c>\u001b[0m in \u001b[0;36mf\u001b[0;34m(z, t)\u001b[0m\n\u001b[1;32m      1\u001b[0m \u001b[0;32mdef\u001b[0m \u001b[0mf\u001b[0m\u001b[0;34m(\u001b[0m\u001b[0mz\u001b[0m\u001b[0;34m,\u001b[0m\u001b[0mt\u001b[0m\u001b[0;34m)\u001b[0m\u001b[0;34m:\u001b[0m\u001b[0;34m\u001b[0m\u001b[0;34m\u001b[0m\u001b[0m\n\u001b[0;32m----> 2\u001b[0;31m     \u001b[0mx1\u001b[0m\u001b[0;34m,\u001b[0m\u001b[0mx2\u001b[0m\u001b[0;34m,\u001b[0m\u001b[0mx3\u001b[0m\u001b[0;34m=\u001b[0m\u001b[0mz\u001b[0m\u001b[0;34m\u001b[0m\u001b[0;34m\u001b[0m\u001b[0m\n\u001b[0m\u001b[1;32m      3\u001b[0m     \u001b[0mdx1dt\u001b[0m\u001b[0;34m=\u001b[0m\u001b[0;34m-\u001b[0m\u001b[0;36m1\u001b[0m\u001b[0;34m/\u001b[0m\u001b[0;36m2\u001b[0m\u001b[0;34m*\u001b[0m\u001b[0mz\u001b[0m\u001b[0;34m[\u001b[0m\u001b[0;36m0\u001b[0m\u001b[0;34m]\u001b[0m\u001b[0;34m\u001b[0m\u001b[0;34m\u001b[0m\u001b[0m\n\u001b[1;32m      4\u001b[0m     \u001b[0mdx2dt\u001b[0m\u001b[0;34m=\u001b[0m\u001b[0;36m1\u001b[0m\u001b[0;34m/\u001b[0m\u001b[0;36m2\u001b[0m\u001b[0;34m*\u001b[0m\u001b[0mz\u001b[0m\u001b[0;34m[\u001b[0m\u001b[0;36m0\u001b[0m\u001b[0;34m]\u001b[0m\u001b[0;34m-\u001b[0m\u001b[0;36m1\u001b[0m\u001b[0;34m/\u001b[0m\u001b[0;36m4\u001b[0m\u001b[0;34m*\u001b[0m\u001b[0mz\u001b[0m\u001b[0;34m[\u001b[0m\u001b[0;36m1\u001b[0m\u001b[0;34m]\u001b[0m\u001b[0;34m\u001b[0m\u001b[0;34m\u001b[0m\u001b[0m\n\u001b[1;32m      5\u001b[0m     \u001b[0mdx3dt\u001b[0m\u001b[0;34m=\u001b[0m\u001b[0;36m1\u001b[0m\u001b[0;34m/\u001b[0m\u001b[0;36m4\u001b[0m\u001b[0;34m*\u001b[0m\u001b[0mz\u001b[0m\u001b[0;34m[\u001b[0m\u001b[0;36m1\u001b[0m\u001b[0;34m]\u001b[0m\u001b[0;34m-\u001b[0m\u001b[0;36m1\u001b[0m\u001b[0;34m/\u001b[0m\u001b[0;36m6\u001b[0m\u001b[0;34m*\u001b[0m\u001b[0mz\u001b[0m\u001b[0;34m[\u001b[0m\u001b[0;36m2\u001b[0m\u001b[0;34m]\u001b[0m\u001b[0;34m\u001b[0m\u001b[0;34m\u001b[0m\u001b[0m\n",
      "\u001b[0;31mTypeError\u001b[0m: cannot unpack non-iterable int object"
     ]
    }
   ],
   "source": [
    "def f(z,t):\n",
    "    x1,x2,x3=z\n",
    "    dx1dt=-1/2*z[0]\n",
    "    dx2dt=1/2*z[0]-1/4*z[1]\n",
    "    dx3dt=1/4*z[1]-1/6*z[2]\n",
    "    return dx1dt, dx2dt,dx3dt\n",
    "f(6,7)"
   ]
  },
  {
   "cell_type": "markdown",
   "metadata": {},
   "source": [
    "2. The exact solution of the above system of ODEs is given by\n",
    "\n",
    "$$\n",
    "\\begin{cases}\n",
    "x_1(t)& = & e^{-t/2}\\\\\n",
    "x_2(t)& = & -2e^{-t/2}+3e^{-t/4}\\\\\n",
    "x_3(t)& = & \\dfrac{3}{2}e^{-t/2} - 9e^{-t/4} + \\dfrac{17}{2}e^{-t/6}\n",
    "\\end{cases}\n",
    "$$\n",
    "\n",
    "Use $Subplot$ to plot side by side\n",
    "\n",
    "- each exact and approximate solution in the same window\n",
    "- and their absolute error vs the time \n"
   ]
  },
  {
   "cell_type": "code",
   "execution_count": 6,
   "metadata": {},
   "outputs": [
    {
     "data": {
      "image/png": "[encoded data removed]",
      "text/plain": [
       "<Figure size 432x288 with 1 Axes>"
      ]
     },
     "metadata": {
      "needs_background": "light"
     },
     "output_type": "display_data"
    },
    {
     "data": {
      "image/png": "[encoded data removed]",
      "text/plain": [
       "<Figure size 432x288 with 1 Axes>"
      ]
     },
     "metadata": {
      "needs_background": "light"
     },
     "output_type": "display_data"
    },
    {
     "data": {
      "image/png": "[encoded data removed]",
      "text/plain": [
       "<Figure size 432x288 with 1 Axes>"
      ]
     },
     "metadata": {
      "needs_background": "light"
     },
     "output_type": "display_data"
    }
   ],
   "source": [
    "import numpy as np\n",
    "import matplotlib.pyplot as plt\n",
    "\n",
    "# x_1(t)=np.exp(-t/2)\n",
    "# x_2(t)=-2*np.exp(-t/2)+3*np.exp(-t/4)\n",
    "# x_3(t)=3/2*np.exp(-t/2)-9*np.exp(-t/4)+17/2*np.exp(-t/6)\n",
    "# #plot results\n",
    "plt.subplot(3,1,1)\n",
    "plt.plot(t,np.exp(-t/2),'b')\n",
    "plt.plot(t,x_1,'y--')\n",
    "plt.xlabel('time')\n",
    "plt.ylabel('x_1(t)')\n",
    "plt.show()\n",
    "\n",
    "#plot results\n",
    "plt.subplot(3,1,2)\n",
    "plt.plot(t,-2*np.exp(-t/2)+3*np.exp(-t/4),'y-')\n",
    "plt.plot(t,x_2,'g--')\n",
    "plt.xlabel('time')\n",
    "plt.ylabel('x_2(t)')\n",
    "plt.show()\n",
    "\n",
    "plt.subplot(3,1,3)\n",
    "plt.plot(t,3/2*np.exp(-t/2)-9*np.exp(-t/4)+17/2*np.exp(-t/6),'r-')\n",
    "plt.plot(t,x_3,'b--')\n",
    "plt.xlabel('time')\n",
    "plt.ylabel('x_3(t)')\n",
    "plt.show()\n",
    "\n",
    "#plot results\n",
    "# plt.subplot(3,1,3)\n",
    "# plt.plot(x,y)\n",
    "# plt.xlabel('x')\n",
    "# plt.ylabel('y')\n",
    "# plt.show()\n"
   ]
  },
  {
   "cell_type": "code",
   "execution_count": 7,
   "metadata": {},
   "outputs": [
    {
     "data": {
      "image/png": "[encoded data removed]",
      "text/plain": [
       "<Figure size 432x288 with 1 Axes>"
      ]
     },
     "metadata": {
      "needs_background": "light"
     },
     "output_type": "display_data"
    },
    {
     "data": {
      "image/png": "[encoded data removed]",
      "text/plain": [
       "<Figure size 432x288 with 1 Axes>"
      ]
     },
     "metadata": {
      "needs_background": "light"
     },
     "output_type": "display_data"
    },
    {
     "data": {
      "image/png": "[encoded data removed]",
      "text/plain": [
       "<Figure size 432x288 with 1 Axes>"
      ]
     },
     "metadata": {
      "needs_background": "light"
     },
     "output_type": "display_data"
    }
   ],
   "source": [
    "import numpy as np\n",
    "import matplotlib.pyplot as plt\n",
    "\n",
    "# x_1(t)=np.exp(-t/2)\n",
    "# x_2(t)=-2*np.exp(-t/2)+3*np.exp(-t/4)\n",
    "# x_3(t)=3/2*np.exp(-t/2)-9*np.exp(-t/4)+17/2*np.exp(-t/6)\n",
    "# #plot results\n",
    "\n",
    "plt.subplot(3,1,1)\n",
    "plt.title(\"Absolute Error vs Times\")\n",
    "#plt.plot(t,np.exp(-t/2),'b')\n",
    "plt.plot(t,abs(x_1-np.exp(-t/2)),'b-')\n",
    "plt.xlabel('time')\n",
    "plt.ylabel('absolute error of x_1')\n",
    "plt.show()\n",
    "\n",
    "#plot results\n",
    "plt.subplot(3,1,2)\n",
    "#plt.plot(t,-2*np.exp(-t/2)+3*np.exp(-t/4),'g-')\n",
    "plt.plot(t,abs(x_2+2*np.exp(-t/2)-3*np.exp(-t/4)),'g-')\n",
    "plt.xlabel('time')\n",
    "plt.ylabel('absolute error of x_2')\n",
    "plt.show()\n",
    "\n",
    "plt.subplot(3,1,3)\n",
    "#plt.plot(t,3/2*np.exp(-t/2)-9*np.exp(-t/4)+17/2*np.exp(-t/6),'r-')\n",
    "plt.plot(t,abs(x_3-3/2*np.exp(-t/2)+9*np.exp(-t/4)-17/2*np.exp(-t/6)),'r-')\n",
    "plt.xlabel('time')\n",
    "plt.ylabel('absolute error of x_3')\n",
    "plt.show()\n",
    "\n",
    "#plot results\n",
    "# plt.subplot(3,1,3)\n",
    "# plt.plot(x,y)\n",
    "# plt.xlabel('x')\n",
    "# plt.ylabel('y')\n",
    "# plt.show()\n"
   ]
  },
  {
   "cell_type": "markdown",
   "metadata": {},
   "source": [
    "# Exercise 4\n",
    "\n",
    "Let $\\{ t_k\\}$ be a partition of $[a,b]$ such that $a=t_1<t_2<\\cdots<t_{N}=b$ and $H$ be the constant length of the $k$-th subinterval ($H = t_k - t_{k-1}$). Let us consider initial value problem\n",
    "\n",
    "\\begin{equation}\\label{eul2}\n",
    "  \\begin{cases}\n",
    "    \\dfrac{dz}{dt} = f(z,t),      & \\quad \\text{on } [a, b]\\\\\\\\\n",
    "    z(a) = c,\n",
    "  \\end{cases}\n",
    "\\end{equation}\n",
    "where $z,f,c\\in R^M$ i.e. $z = [x_1, x_2,\\cdots, x_{M}]$, $c = [x_1(a), x_2(a),\\cdots, x_{M}(a)]$ and $f = [f_1, f_2,\\cdots, f_{M}]$. Note that \\eqref{eul2} is a the general form of system of ODEs. \n",
    "\n",
    "Let $t, z_k,Z$ defined as follows $$t=[t_1,t_2,\\cdots,t_{N-1},t_{N}],\\quad z_k = [x_1(t_k), x_2(t_k),\\cdots, x_{M}(t_k)], \\quad\n",
    "Z =\\begin{pmatrix}\n",
    "x_1(t_1)& x_2(t_1)&\\cdots& x_{M}(t_1)\\\\\n",
    "x_1(t_2)& x_2(t_2)&\\cdots& x_{M}(t_2)\\\\\n",
    "\\vdots& \\vdots&\\ddots& \\vdots\\\\\n",
    "x_1(t_{N})& x_2(t_{N})&\\cdots& x_{M}(t_{N})\n",
    "\\end{pmatrix}\n",
    "$$\n",
    "\n",
    "1. Write a python function <b> EulerOdeSys </b> that takes $f,c,t$ and return the solution $Z$ of the initial value problem \\eqref{eul2} using Euler method i.e.\n",
    "$$ z_{k+1} = z_k + Hf(z_k,t_k) $$\n"
   ]
  },
  {
   "cell_type": "code",
   "execution_count": 111,
   "metadata": {},
   "outputs": [
    {
     "data": {
      "text/plain": [
       "array([[  5.        ,   3.        ],\n",
       "       [  7.22222222,   4.33333333],\n",
       "       [ 10.62962963,   6.45679012],\n",
       "       [ 15.74897119,   9.72153635],\n",
       "       [ 23.34110654,  14.63481177],\n",
       "       [ 34.50505512,  21.92929601],\n",
       "       [ 50.8282895 ,  32.66330411],\n",
       "       [ 74.60382557,  48.36551335],\n",
       "       [109.14379743,  71.2440131 ],\n",
       "       [159.23239876, 104.48826584]])"
      ]
     },
     "execution_count": 111,
     "metadata": {},
     "output_type": "execute_result"
    }
   ],
   "source": [
    "def EulerOdeSys(f,c,t):\n",
    "    n=len(t)\n",
    "    Z = np.zeros((len(t),)+ np.shape(c))  \n",
    "    Z[0]= c  \n",
    "    for i in range(n-1):\n",
    "        h =(t[i+1] - t[i])\n",
    "        Z[i+1]= Z[i]+ h*f(Z[i],t[i])\n",
    "    return Z\n",
    "def f(x,y):\n",
    "    return x+y\n",
    "c=[5,3]\n",
    "t=np.linspace(0,4,10)\n",
    "EulerOdeSys(f,c,t)\n",
    "  "
   ]
  },
  {
   "cell_type": "markdown",
   "metadata": {},
   "source": [
    "2. Write a python function <b> RK4OdeSys </b> that takes $f,c,t$ and return the solution $Z$ of the initial value problem (1) using the fourth order Runge-Kutta method i.e.\n",
    "\n",
    "\\begin{equation}\n",
    "\\begin{cases}\n",
    "k_1 = f(z_k,t_k),\\\\\\\\\n",
    "k_2 = f(z_k+H\\dfrac{k_1}{2}, t_k + \\dfrac{H}{2}),\\\\\\\\\n",
    "k_3 = f(z_k+H\\dfrac{k_2}{2}, t_k + \\dfrac{H}{2}),\\\\\\\\\n",
    "k_4 = f(z_k+Hk_3, t_k + H),\\\\\\\\\n",
    "z_{k+1} = z_k + \\dfrac{H}{6}(k_1+2k_2+2k_3+k_4)\n",
    "\\end{cases}\n",
    "\\end{equation}\n",
    "\n"
   ]
  },
  {
   "cell_type": "code",
   "execution_count": 110,
   "metadata": {},
   "outputs": [
    {
     "data": {
      "text/plain": [
       "array([[  5.        ,   2.        ],\n",
       "       [  7.83021445,   3.15181177],\n",
       "       [ 12.45659697,   5.16077975],\n",
       "       [ 20.10506952,   8.72747924],\n",
       "       [ 32.68741769,  14.94443472],\n",
       "       [ 53.18500904,  25.51540266],\n",
       "       [ 86.24718959,  43.09733603],\n",
       "       [139.12446363,  71.83366675],\n",
       "       [223.12375742, 118.18594254],\n",
       "       [355.87785565, 192.23073745]])"
      ]
     },
     "execution_count": 110,
     "metadata": {},
     "output_type": "execute_result"
    }
   ],
   "source": [
    "def RK4OdeSys(f,c,t):\n",
    "    n = len (t)\n",
    "    Z = np.zeros((len(t),)+ np.shape(c))  \n",
    "    Z[0]= c  \n",
    "    for i in range (n-1):\n",
    "        k1 = f(Z[i] ,t[i])  \n",
    "        h =(t[i+1] - t[i])/2\n",
    "        k2 = f(Z[i]+ h*k1 , t[i]+h)\n",
    "        k3 = f(Z[i]+ h*k2 , t[i]+h)\n",
    "        k4 = f(Z[i]+2*h*k3 ,t[i]+2*h )\n",
    "        Z[i+1]= Z[i]+ h/3*(k1 +2*k2 +2*k3+k4 ) \n",
    "    return Z\n",
    "\n",
    "def f(x,y):\n",
    "    return x+y**2\n",
    "c=[5,2]\n",
    "t=np.linspace(0,4,10)\n",
    "RK4OdeSys(f,c,t)\n",
    "#plt.plot(RK4OdeSys1(f,c,t),'b-') "
   ]
  },
  {
   "cell_type": "markdown",
   "metadata": {},
   "source": [
    "3. Solve the system of ODEs in $Exercise2$ using your function <b> EulerOdeSys </b> and <b> RK4OdeSys </b> "
   ]
  },
  {
   "cell_type": "code",
   "execution_count": null,
   "metadata": {},
   "outputs": [],
   "source": []
  },
  {
   "cell_type": "markdown",
   "metadata": {},
   "source": [
    "4. By plotting the absolute error in the approximate and exact solutions, tell us which function gives a more accurate solution of a system of ODEs."
   ]
  },
  {
   "cell_type": "code",
   "execution_count": 7,
   "metadata": {},
   "outputs": [
    {
     "data": {
      "text/plain": [
       "1.791759469228055"
      ]
     },
     "execution_count": 7,
     "metadata": {},
     "output_type": "execute_result"
    }
   ],
   "source": []
  },
  {
   "cell_type": "markdown",
   "metadata": {},
   "source": [
    "# Exercise 5\n",
    "\n",
    "Let consider us consider the function <b> primes </b> that takes $n$ as input and return a list of primes less than $n$"
   ]
  },
  {
   "cell_type": "code",
   "execution_count": 105,
   "metadata": {},
   "outputs": [],
   "source": [
    "# This cell is only to import the labraries \n",
    "\n",
    "import numpy as np\n",
    "import time\n",
    "\n",
    "def primes(n):\n",
    "    \"\"\" Returns  a list of primes < n \"\"\"\n",
    "    sieve = [True] * (n//2)\n",
    "    for i in range(3,int(n**0.5)+1,2):\n",
    "        if sieve[i//2]:\n",
    "            sieve[i*i//2::i] = [False] * ((n-i*i-1)//(2*i)+1)\n",
    "    return [2] + [2*i+1 for i in range(1,n//2) if sieve[i]]\n"
   ]
  },
  {
   "cell_type": "markdown",
   "metadata": {},
   "source": [
    "For any integer $n>0$ and a prime number $p$, define $\\nu_p(n)$ as the greatest integer $r$ such that $p^r$ divides $n$.\n",
    "Define $$ D(n,m) = \\sum_{p\\; prime} \\Bigl| \\nu_p(n) - \\nu_p(m)\\Bigr| $$\n",
    "\n",
    "For example $D(14,24)=4$.\n",
    "\n",
    "Furthermore, define\n",
    "\n",
    "$$S(N)  = \\sum_{n=1}^{N}\\sum_{m=1}^{N}D(n,m).$$\n",
    "\n",
    "You are given $S(10)=210$.\n",
    "\n",
    "1. Write an efficient python function, <b>Func_S </b>, that takes $N$ as input and return the value $S(N)$.\n"
   ]
  },
  {
   "cell_type": "code",
   "execution_count": 162,
   "metadata": {},
   "outputs": [
    {
     "name": "stdout",
     "output_type": "stream",
     "text": [
      "4\n"
     ]
    },
    {
     "data": {
      "text/plain": [
       "0"
      ]
     },
     "execution_count": 162,
     "metadata": {},
     "output_type": "execute_result"
    }
   ],
   "source": [
    "from math import floor \n",
    "from math import log as ln\n",
    "def nu(n,p):\n",
    "    L=[]\n",
    "    for i in range(floor(ln(n)//ln(p))+2):\n",
    "        if n%(p**i)==0:\n",
    "            L+=[i]\n",
    "    return L[-1]\n",
    "\n",
    "def D(n,m):\n",
    "    list_prime=primes(max(m,n)+1)\n",
    "    SumD=0\n",
    "    for i in list_prime:\n",
    "        SumD+=abs(nu(n,i)-nu(m,i))\n",
    "        \n",
    "    return SumD\n",
    "\n",
    "\n",
    "print(D(14,15))\n",
    "\n",
    "def Func_S(N):\n",
    "    s=0\n",
    "    for i in range(1,N+1):\n",
    "        for j in range(1,N+1):\n",
    "            #if j!=i:\n",
    "            s=s+D(i,j)\n",
    "    return s\n",
    "   \n",
    "Func_S(10)     \n",
    "nu(7,23)\n"
   ]
  },
  {
   "cell_type": "markdown",
   "metadata": {},
   "source": [
    "2. Compute $S(10)$ and display its computational time"
   ]
  },
  {
   "cell_type": "code",
   "execution_count": 4,
   "metadata": {},
   "outputs": [
    {
     "name": "stdout",
     "output_type": "stream",
     "text": [
      "S(10) =  210\n",
      "computational Time =  0.0012173870054539293\n"
     ]
    }
   ],
   "source": [
    "N = 10\n",
    "time_start = time.perf_counter()\n",
    "S = Func_S(N)\n",
    "time_elapsed = (time.perf_counter() - time_start)\n",
    "print('S({}) =  {}'.format(N,S))\n",
    "print('computational Time = ', time_elapsed)"
   ]
  },
  {
   "cell_type": "markdown",
   "metadata": {},
   "source": [
    "3. Compute $S(100)$ and display its computational time"
   ]
  },
  {
   "cell_type": "code",
   "execution_count": 166,
   "metadata": {},
   "outputs": [
    {
     "name": "stdout",
     "output_type": "stream",
     "text": [
      "S(100) =  37018\n",
      "computational Time =  0.4434022469940828\n"
     ]
    }
   ],
   "source": [
    "N = 100\n",
    "time_start = time.perf_counter()\n",
    "S = Func_S(N)\n",
    "time_elapsed = (time.perf_counter() - time_start)\n",
    "print('S({}) =  {}'.format(N,S))\n",
    "print('computational Time = ', time_elapsed)"
   ]
  },
  {
   "cell_type": "markdown",
   "metadata": {},
   "source": [
    "4. Compute $S(1000)$ and display its computational time"
   ]
  },
  {
   "cell_type": "code",
   "execution_count": 8,
   "metadata": {},
   "outputs": [
    {
     "name": "stdout",
     "output_type": "stream",
     "text": [
      "S(1000) =  4654406\n",
      "computational Time =  256.6060328760068\n"
     ]
    }
   ],
   "source": [
    "N = 1000\n",
    "time_start = time.perf_counter()\n",
    "S = Func_S(N)\n",
    "time_elapsed = (time.perf_counter() - time_start)\n",
    "print('S({}) =  {}'.format(N,S))\n",
    "print('computational Time = ', time_elapsed)"
   ]
  },
  {
   "cell_type": "markdown",
   "metadata": {},
   "source": [
    "5. Compute $S(10000)$ and display its computational time"
   ]
  },
  {
   "cell_type": "code",
   "execution_count": null,
   "metadata": {},
   "outputs": [],
   "source": [
    "N = 10000\n",
    "time_start = time.perf_counter()\n",
    "S = Func_S(N)\n",
    "time_elapsed = (time.perf_counter() - time_start)\n",
    "print('S({}) =  {}'.format(N,S))\n",
    "print('computational Time = ', time_elapsed)"
   ]
  },
  {
   "cell_type": "markdown",
   "metadata": {},
   "source": [
    "6. Compute $S(100000)$ and display its computational time"
   ]
  },
  {
   "cell_type": "code",
   "execution_count": null,
   "metadata": {},
   "outputs": [],
   "source": [
    "N = 100000\n",
    "time_start = time.perf_counter()\n",
    "S = Func_S(N)\n",
    "time_elapsed = (time.perf_counter() - time_start)\n",
    "print('S({}) =  {}'.format(N,S))\n",
    "print('computational Time = ', time_elapsed)"
   ]
  },
  {
   "cell_type": "markdown",
   "metadata": {},
   "source": [
    "7. Compute $S(1000000)$ and display its computational time"
   ]
  },
  {
   "cell_type": "code",
   "execution_count": null,
   "metadata": {},
   "outputs": [],
   "source": [
    "N = 1000000\n",
    "time_start = time.perf_counter()\n",
    "S = Func_S(N)\n",
    "time_elapsed = (time.perf_counter() - time_start)\n",
    "print('S({}) =  {}'.format(N,S))\n",
    "print('computational Time = ', time_elapsed)"
   ]
  },
  {
   "cell_type": "markdown",
   "metadata": {},
   "source": [
    "# Exercise 6 \n",
    "1. Read the Covid-19 dataset"
   ]
  },
  {
   "cell_type": "code",
   "execution_count": 177,
   "metadata": {},
   "outputs": [
    {
     "data": {
      "text/html": [
       "<div>\n",
       "<style scoped>\n",
       "    .dataframe tbody tr th:only-of-type {\n",
       "        vertical-align: middle;\n",
       "    }\n",
       "\n",
       "    .dataframe tbody tr th {\n",
       "        vertical-align: top;\n",
       "    }\n",
       "\n",
       "    .dataframe thead th {\n",
       "        text-align: right;\n",
       "    }\n",
       "</style>\n",
       "<table border=\"1\" class=\"dataframe\">\n",
       "  <thead>\n",
       "    <tr style=\"text-align: right;\">\n",
       "      <th></th>\n",
       "      <th>Date_reported</th>\n",
       "      <th>Country_code</th>\n",
       "      <th>Country</th>\n",
       "      <th>WHO_region</th>\n",
       "      <th>New_cases</th>\n",
       "      <th>Cumulative_cases</th>\n",
       "      <th>New_deaths</th>\n",
       "      <th>Cumulative_deaths</th>\n",
       "    </tr>\n",
       "  </thead>\n",
       "  <tbody>\n",
       "    <tr>\n",
       "      <th>0</th>\n",
       "      <td>2020-01-03</td>\n",
       "      <td>AF</td>\n",
       "      <td>Afghanistan</td>\n",
       "      <td>EMRO</td>\n",
       "      <td>0</td>\n",
       "      <td>0</td>\n",
       "      <td>0</td>\n",
       "      <td>0</td>\n",
       "    </tr>\n",
       "    <tr>\n",
       "      <th>1</th>\n",
       "      <td>2020-01-04</td>\n",
       "      <td>AF</td>\n",
       "      <td>Afghanistan</td>\n",
       "      <td>EMRO</td>\n",
       "      <td>0</td>\n",
       "      <td>0</td>\n",
       "      <td>0</td>\n",
       "      <td>0</td>\n",
       "    </tr>\n",
       "    <tr>\n",
       "      <th>2</th>\n",
       "      <td>2020-01-05</td>\n",
       "      <td>AF</td>\n",
       "      <td>Afghanistan</td>\n",
       "      <td>EMRO</td>\n",
       "      <td>0</td>\n",
       "      <td>0</td>\n",
       "      <td>0</td>\n",
       "      <td>0</td>\n",
       "    </tr>\n",
       "    <tr>\n",
       "      <th>3</th>\n",
       "      <td>2020-01-06</td>\n",
       "      <td>AF</td>\n",
       "      <td>Afghanistan</td>\n",
       "      <td>EMRO</td>\n",
       "      <td>0</td>\n",
       "      <td>0</td>\n",
       "      <td>0</td>\n",
       "      <td>0</td>\n",
       "    </tr>\n",
       "    <tr>\n",
       "      <th>4</th>\n",
       "      <td>2020-01-07</td>\n",
       "      <td>AF</td>\n",
       "      <td>Afghanistan</td>\n",
       "      <td>EMRO</td>\n",
       "      <td>0</td>\n",
       "      <td>0</td>\n",
       "      <td>0</td>\n",
       "      <td>0</td>\n",
       "    </tr>\n",
       "    <tr>\n",
       "      <th>...</th>\n",
       "      <td>...</td>\n",
       "      <td>...</td>\n",
       "      <td>...</td>\n",
       "      <td>...</td>\n",
       "      <td>...</td>\n",
       "      <td>...</td>\n",
       "      <td>...</td>\n",
       "      <td>...</td>\n",
       "    </tr>\n",
       "    <tr>\n",
       "      <th>149542</th>\n",
       "      <td>2021-09-20</td>\n",
       "      <td>ZW</td>\n",
       "      <td>Zimbabwe</td>\n",
       "      <td>AFRO</td>\n",
       "      <td>199</td>\n",
       "      <td>127938</td>\n",
       "      <td>4</td>\n",
       "      <td>4567</td>\n",
       "    </tr>\n",
       "    <tr>\n",
       "      <th>149543</th>\n",
       "      <td>2021-09-21</td>\n",
       "      <td>ZW</td>\n",
       "      <td>Zimbabwe</td>\n",
       "      <td>AFRO</td>\n",
       "      <td>248</td>\n",
       "      <td>128186</td>\n",
       "      <td>2</td>\n",
       "      <td>4569</td>\n",
       "    </tr>\n",
       "    <tr>\n",
       "      <th>149544</th>\n",
       "      <td>2021-09-22</td>\n",
       "      <td>ZW</td>\n",
       "      <td>Zimbabwe</td>\n",
       "      <td>AFRO</td>\n",
       "      <td>0</td>\n",
       "      <td>128186</td>\n",
       "      <td>0</td>\n",
       "      <td>4569</td>\n",
       "    </tr>\n",
       "    <tr>\n",
       "      <th>149545</th>\n",
       "      <td>2021-09-23</td>\n",
       "      <td>ZW</td>\n",
       "      <td>Zimbabwe</td>\n",
       "      <td>AFRO</td>\n",
       "      <td>618</td>\n",
       "      <td>128804</td>\n",
       "      <td>23</td>\n",
       "      <td>4592</td>\n",
       "    </tr>\n",
       "    <tr>\n",
       "      <th>149546</th>\n",
       "      <td>2021-09-24</td>\n",
       "      <td>ZW</td>\n",
       "      <td>Zimbabwe</td>\n",
       "      <td>AFRO</td>\n",
       "      <td>330</td>\n",
       "      <td>129134</td>\n",
       "      <td>8</td>\n",
       "      <td>4600</td>\n",
       "    </tr>\n",
       "  </tbody>\n",
       "</table>\n",
       "<p>149547 rows × 8 columns</p>\n",
       "</div>"
      ],
      "text/plain": [
       "       Date_reported Country_code      Country WHO_region  New_cases  \\\n",
       "0         2020-01-03           AF  Afghanistan       EMRO          0   \n",
       "1         2020-01-04           AF  Afghanistan       EMRO          0   \n",
       "2         2020-01-05           AF  Afghanistan       EMRO          0   \n",
       "3         2020-01-06           AF  Afghanistan       EMRO          0   \n",
       "4         2020-01-07           AF  Afghanistan       EMRO          0   \n",
       "...              ...          ...          ...        ...        ...   \n",
       "149542    2021-09-20           ZW     Zimbabwe       AFRO        199   \n",
       "149543    2021-09-21           ZW     Zimbabwe       AFRO        248   \n",
       "149544    2021-09-22           ZW     Zimbabwe       AFRO          0   \n",
       "149545    2021-09-23           ZW     Zimbabwe       AFRO        618   \n",
       "149546    2021-09-24           ZW     Zimbabwe       AFRO        330   \n",
       "\n",
       "        Cumulative_cases  New_deaths  Cumulative_deaths  \n",
       "0                      0           0                  0  \n",
       "1                      0           0                  0  \n",
       "2                      0           0                  0  \n",
       "3                      0           0                  0  \n",
       "4                      0           0                  0  \n",
       "...                  ...         ...                ...  \n",
       "149542            127938           4               4567  \n",
       "149543            128186           2               4569  \n",
       "149544            128186           0               4569  \n",
       "149545            128804          23               4592  \n",
       "149546            129134           8               4600  \n",
       "\n",
       "[149547 rows x 8 columns]"
      ]
     },
     "execution_count": 177,
     "metadata": {},
     "output_type": "execute_result"
    }
   ],
   "source": [
    "import pandas as pd\n",
    "import numpy as np\n",
    "a=pd.read_csv('Covid-19.csv')\n",
    "a"
   ]
  },
  {
   "cell_type": "markdown",
   "metadata": {},
   "source": [
    "2. Drop the Country code column\n"
   ]
  },
  {
   "cell_type": "code",
   "execution_count": 178,
   "metadata": {},
   "outputs": [
    {
     "data": {
      "text/html": [
       "<div>\n",
       "<style scoped>\n",
       "    .dataframe tbody tr th:only-of-type {\n",
       "        vertical-align: middle;\n",
       "    }\n",
       "\n",
       "    .dataframe tbody tr th {\n",
       "        vertical-align: top;\n",
       "    }\n",
       "\n",
       "    .dataframe thead th {\n",
       "        text-align: right;\n",
       "    }\n",
       "</style>\n",
       "<table border=\"1\" class=\"dataframe\">\n",
       "  <thead>\n",
       "    <tr style=\"text-align: right;\">\n",
       "      <th></th>\n",
       "      <th>Date_reported</th>\n",
       "      <th>Country</th>\n",
       "      <th>WHO_region</th>\n",
       "      <th>New_cases</th>\n",
       "      <th>Cumulative_cases</th>\n",
       "      <th>New_deaths</th>\n",
       "      <th>Cumulative_deaths</th>\n",
       "    </tr>\n",
       "  </thead>\n",
       "  <tbody>\n",
       "    <tr>\n",
       "      <th>0</th>\n",
       "      <td>2020-01-03</td>\n",
       "      <td>Afghanistan</td>\n",
       "      <td>EMRO</td>\n",
       "      <td>0</td>\n",
       "      <td>0</td>\n",
       "      <td>0</td>\n",
       "      <td>0</td>\n",
       "    </tr>\n",
       "    <tr>\n",
       "      <th>1</th>\n",
       "      <td>2020-01-04</td>\n",
       "      <td>Afghanistan</td>\n",
       "      <td>EMRO</td>\n",
       "      <td>0</td>\n",
       "      <td>0</td>\n",
       "      <td>0</td>\n",
       "      <td>0</td>\n",
       "    </tr>\n",
       "    <tr>\n",
       "      <th>2</th>\n",
       "      <td>2020-01-05</td>\n",
       "      <td>Afghanistan</td>\n",
       "      <td>EMRO</td>\n",
       "      <td>0</td>\n",
       "      <td>0</td>\n",
       "      <td>0</td>\n",
       "      <td>0</td>\n",
       "    </tr>\n",
       "    <tr>\n",
       "      <th>3</th>\n",
       "      <td>2020-01-06</td>\n",
       "      <td>Afghanistan</td>\n",
       "      <td>EMRO</td>\n",
       "      <td>0</td>\n",
       "      <td>0</td>\n",
       "      <td>0</td>\n",
       "      <td>0</td>\n",
       "    </tr>\n",
       "    <tr>\n",
       "      <th>4</th>\n",
       "      <td>2020-01-07</td>\n",
       "      <td>Afghanistan</td>\n",
       "      <td>EMRO</td>\n",
       "      <td>0</td>\n",
       "      <td>0</td>\n",
       "      <td>0</td>\n",
       "      <td>0</td>\n",
       "    </tr>\n",
       "    <tr>\n",
       "      <th>...</th>\n",
       "      <td>...</td>\n",
       "      <td>...</td>\n",
       "      <td>...</td>\n",
       "      <td>...</td>\n",
       "      <td>...</td>\n",
       "      <td>...</td>\n",
       "      <td>...</td>\n",
       "    </tr>\n",
       "    <tr>\n",
       "      <th>149542</th>\n",
       "      <td>2021-09-20</td>\n",
       "      <td>Zimbabwe</td>\n",
       "      <td>AFRO</td>\n",
       "      <td>199</td>\n",
       "      <td>127938</td>\n",
       "      <td>4</td>\n",
       "      <td>4567</td>\n",
       "    </tr>\n",
       "    <tr>\n",
       "      <th>149543</th>\n",
       "      <td>2021-09-21</td>\n",
       "      <td>Zimbabwe</td>\n",
       "      <td>AFRO</td>\n",
       "      <td>248</td>\n",
       "      <td>128186</td>\n",
       "      <td>2</td>\n",
       "      <td>4569</td>\n",
       "    </tr>\n",
       "    <tr>\n",
       "      <th>149544</th>\n",
       "      <td>2021-09-22</td>\n",
       "      <td>Zimbabwe</td>\n",
       "      <td>AFRO</td>\n",
       "      <td>0</td>\n",
       "      <td>128186</td>\n",
       "      <td>0</td>\n",
       "      <td>4569</td>\n",
       "    </tr>\n",
       "    <tr>\n",
       "      <th>149545</th>\n",
       "      <td>2021-09-23</td>\n",
       "      <td>Zimbabwe</td>\n",
       "      <td>AFRO</td>\n",
       "      <td>618</td>\n",
       "      <td>128804</td>\n",
       "      <td>23</td>\n",
       "      <td>4592</td>\n",
       "    </tr>\n",
       "    <tr>\n",
       "      <th>149546</th>\n",
       "      <td>2021-09-24</td>\n",
       "      <td>Zimbabwe</td>\n",
       "      <td>AFRO</td>\n",
       "      <td>330</td>\n",
       "      <td>129134</td>\n",
       "      <td>8</td>\n",
       "      <td>4600</td>\n",
       "    </tr>\n",
       "  </tbody>\n",
       "</table>\n",
       "<p>149547 rows × 7 columns</p>\n",
       "</div>"
      ],
      "text/plain": [
       "       Date_reported      Country WHO_region  New_cases  Cumulative_cases  \\\n",
       "0         2020-01-03  Afghanistan       EMRO          0                 0   \n",
       "1         2020-01-04  Afghanistan       EMRO          0                 0   \n",
       "2         2020-01-05  Afghanistan       EMRO          0                 0   \n",
       "3         2020-01-06  Afghanistan       EMRO          0                 0   \n",
       "4         2020-01-07  Afghanistan       EMRO          0                 0   \n",
       "...              ...          ...        ...        ...               ...   \n",
       "149542    2021-09-20     Zimbabwe       AFRO        199            127938   \n",
       "149543    2021-09-21     Zimbabwe       AFRO        248            128186   \n",
       "149544    2021-09-22     Zimbabwe       AFRO          0            128186   \n",
       "149545    2021-09-23     Zimbabwe       AFRO        618            128804   \n",
       "149546    2021-09-24     Zimbabwe       AFRO        330            129134   \n",
       "\n",
       "        New_deaths  Cumulative_deaths  \n",
       "0                0                  0  \n",
       "1                0                  0  \n",
       "2                0                  0  \n",
       "3                0                  0  \n",
       "4                0                  0  \n",
       "...            ...                ...  \n",
       "149542           4               4567  \n",
       "149543           2               4569  \n",
       "149544           0               4569  \n",
       "149545          23               4592  \n",
       "149546           8               4600  \n",
       "\n",
       "[149547 rows x 7 columns]"
      ]
     },
     "execution_count": 178,
     "metadata": {},
     "output_type": "execute_result"
    }
   ],
   "source": [
    "del a['Country_code']\n",
    "a"
   ]
  },
  {
   "cell_type": "markdown",
   "metadata": {},
   "source": [
    "3. Randomely choose three different countries"
   ]
  },
  {
   "cell_type": "code",
   "execution_count": 179,
   "metadata": {},
   "outputs": [
    {
     "data": {
      "text/plain": [
       "47232          French Polynesia\n",
       "28957                     Congo\n",
       "114118    Saint Kitts and Nevis\n",
       "Name: Country, dtype: object"
      ]
     },
     "execution_count": 179,
     "metadata": {},
     "output_type": "execute_result"
    }
   ],
   "source": [
    "a.sample(n=3)\n",
    "b=a['Country']\n",
    "rand=b.sample(n=3)\n",
    "rand\n",
    "# b=a.sample(n=3)\n",
    "# b"
   ]
  },
  {
   "cell_type": "markdown",
   "metadata": {},
   "source": [
    "4. Select and display the records for those three countries"
   ]
  },
  {
   "cell_type": "code",
   "execution_count": 180,
   "metadata": {},
   "outputs": [
    {
     "data": {
      "text/html": [
       "<div>\n",
       "<style scoped>\n",
       "    .dataframe tbody tr th:only-of-type {\n",
       "        vertical-align: middle;\n",
       "    }\n",
       "\n",
       "    .dataframe tbody tr th {\n",
       "        vertical-align: top;\n",
       "    }\n",
       "\n",
       "    .dataframe thead th {\n",
       "        text-align: right;\n",
       "    }\n",
       "</style>\n",
       "<table border=\"1\" class=\"dataframe\">\n",
       "  <thead>\n",
       "    <tr style=\"text-align: right;\">\n",
       "      <th></th>\n",
       "      <th>Date_reported</th>\n",
       "      <th>Country</th>\n",
       "      <th>WHO_region</th>\n",
       "      <th>New_cases</th>\n",
       "      <th>Cumulative_cases</th>\n",
       "      <th>New_deaths</th>\n",
       "      <th>Cumulative_deaths</th>\n",
       "    </tr>\n",
       "  </thead>\n",
       "  <tbody>\n",
       "    <tr>\n",
       "      <th>28395</th>\n",
       "      <td>2020-01-03</td>\n",
       "      <td>Congo</td>\n",
       "      <td>AFRO</td>\n",
       "      <td>0</td>\n",
       "      <td>0</td>\n",
       "      <td>0</td>\n",
       "      <td>0</td>\n",
       "    </tr>\n",
       "    <tr>\n",
       "      <th>28396</th>\n",
       "      <td>2020-01-04</td>\n",
       "      <td>Congo</td>\n",
       "      <td>AFRO</td>\n",
       "      <td>0</td>\n",
       "      <td>0</td>\n",
       "      <td>0</td>\n",
       "      <td>0</td>\n",
       "    </tr>\n",
       "    <tr>\n",
       "      <th>28397</th>\n",
       "      <td>2020-01-05</td>\n",
       "      <td>Congo</td>\n",
       "      <td>AFRO</td>\n",
       "      <td>0</td>\n",
       "      <td>0</td>\n",
       "      <td>0</td>\n",
       "      <td>0</td>\n",
       "    </tr>\n",
       "    <tr>\n",
       "      <th>28398</th>\n",
       "      <td>2020-01-06</td>\n",
       "      <td>Congo</td>\n",
       "      <td>AFRO</td>\n",
       "      <td>0</td>\n",
       "      <td>0</td>\n",
       "      <td>0</td>\n",
       "      <td>0</td>\n",
       "    </tr>\n",
       "    <tr>\n",
       "      <th>28399</th>\n",
       "      <td>2020-01-07</td>\n",
       "      <td>Congo</td>\n",
       "      <td>AFRO</td>\n",
       "      <td>0</td>\n",
       "      <td>0</td>\n",
       "      <td>0</td>\n",
       "      <td>0</td>\n",
       "    </tr>\n",
       "    <tr>\n",
       "      <th>...</th>\n",
       "      <td>...</td>\n",
       "      <td>...</td>\n",
       "      <td>...</td>\n",
       "      <td>...</td>\n",
       "      <td>...</td>\n",
       "      <td>...</td>\n",
       "      <td>...</td>\n",
       "    </tr>\n",
       "    <tr>\n",
       "      <th>114206</th>\n",
       "      <td>2021-09-20</td>\n",
       "      <td>Saint Kitts and Nevis</td>\n",
       "      <td>AMRO</td>\n",
       "      <td>42</td>\n",
       "      <td>1674</td>\n",
       "      <td>1</td>\n",
       "      <td>10</td>\n",
       "    </tr>\n",
       "    <tr>\n",
       "      <th>114207</th>\n",
       "      <td>2021-09-21</td>\n",
       "      <td>Saint Kitts and Nevis</td>\n",
       "      <td>AMRO</td>\n",
       "      <td>6</td>\n",
       "      <td>1680</td>\n",
       "      <td>0</td>\n",
       "      <td>10</td>\n",
       "    </tr>\n",
       "    <tr>\n",
       "      <th>114208</th>\n",
       "      <td>2021-09-22</td>\n",
       "      <td>Saint Kitts and Nevis</td>\n",
       "      <td>AMRO</td>\n",
       "      <td>0</td>\n",
       "      <td>1680</td>\n",
       "      <td>0</td>\n",
       "      <td>10</td>\n",
       "    </tr>\n",
       "    <tr>\n",
       "      <th>114209</th>\n",
       "      <td>2021-09-23</td>\n",
       "      <td>Saint Kitts and Nevis</td>\n",
       "      <td>AMRO</td>\n",
       "      <td>38</td>\n",
       "      <td>1718</td>\n",
       "      <td>0</td>\n",
       "      <td>10</td>\n",
       "    </tr>\n",
       "    <tr>\n",
       "      <th>114210</th>\n",
       "      <td>2021-09-24</td>\n",
       "      <td>Saint Kitts and Nevis</td>\n",
       "      <td>AMRO</td>\n",
       "      <td>44</td>\n",
       "      <td>1762</td>\n",
       "      <td>0</td>\n",
       "      <td>10</td>\n",
       "    </tr>\n",
       "  </tbody>\n",
       "</table>\n",
       "<p>1893 rows × 7 columns</p>\n",
       "</div>"
      ],
      "text/plain": [
       "       Date_reported                Country WHO_region  New_cases  \\\n",
       "28395     2020-01-03                  Congo       AFRO          0   \n",
       "28396     2020-01-04                  Congo       AFRO          0   \n",
       "28397     2020-01-05                  Congo       AFRO          0   \n",
       "28398     2020-01-06                  Congo       AFRO          0   \n",
       "28399     2020-01-07                  Congo       AFRO          0   \n",
       "...              ...                    ...        ...        ...   \n",
       "114206    2021-09-20  Saint Kitts and Nevis       AMRO         42   \n",
       "114207    2021-09-21  Saint Kitts and Nevis       AMRO          6   \n",
       "114208    2021-09-22  Saint Kitts and Nevis       AMRO          0   \n",
       "114209    2021-09-23  Saint Kitts and Nevis       AMRO         38   \n",
       "114210    2021-09-24  Saint Kitts and Nevis       AMRO         44   \n",
       "\n",
       "        Cumulative_cases  New_deaths  Cumulative_deaths  \n",
       "28395                  0           0                  0  \n",
       "28396                  0           0                  0  \n",
       "28397                  0           0                  0  \n",
       "28398                  0           0                  0  \n",
       "28399                  0           0                  0  \n",
       "...                  ...         ...                ...  \n",
       "114206              1674           1                 10  \n",
       "114207              1680           0                 10  \n",
       "114208              1680           0                 10  \n",
       "114209              1718           0                 10  \n",
       "114210              1762           0                 10  \n",
       "\n",
       "[1893 rows x 7 columns]"
      ]
     },
     "execution_count": 180,
     "metadata": {},
     "output_type": "execute_result"
    }
   ],
   "source": [
    "q=a[a['Country'].isin(rand)]\n",
    "q"
   ]
  },
  {
   "cell_type": "markdown",
   "metadata": {},
   "source": [
    "5. Calculate and display the sum, the average of the cumulative cases of each WHO region."
   ]
  },
  {
   "cell_type": "code",
   "execution_count": 14,
   "metadata": {},
   "outputs": [
    {
     "name": "stdout",
     "output_type": "stream",
     "text": [
      "the average of cumulative case of each WHO region is\n",
      " WHO_region\n",
      "AFRO     3.853838e+04\n",
      "AMRO     5.795662e+05\n",
      "EMRO     2.228024e+05\n",
      "EURO     3.936270e+05\n",
      "Other    6.911569e+02\n",
      "SEARO    1.181455e+06\n",
      "WPRO     4.465386e+04\n",
      "Name: Cumulative_cases, dtype: float64\n",
      "the Sum of cumulative case of each WHO region is\n",
      " WHO_region\n",
      "AFRO      1215886016\n",
      "AMRO     20479550865\n",
      "EMRO      3092942346\n",
      "EURO     15399475886\n",
      "Other         436120\n",
      "SEARO     8200477089\n",
      "WPRO       986180579\n",
      "Name: Cumulative_cases, dtype: int64\n"
     ]
    }
   ],
   "source": [
    "M=a.groupby('WHO_region').mean()\n",
    "print(\"the average of cumulative case of each WHO region is\\n\",M['Cumulative_cases'])\n",
    "S=a.groupby('WHO_region').sum()\n",
    "print(\"the Sum of cumulative case of each WHO region is\\n\",S['Cumulative_cases'])"
   ]
  },
  {
   "cell_type": "markdown",
   "metadata": {},
   "source": [
    "6. Calculate and display sum, the average of the cumulative deaths of each WHO region."
   ]
  },
  {
   "cell_type": "code",
   "execution_count": 15,
   "metadata": {},
   "outputs": [
    {
     "name": "stdout",
     "output_type": "stream",
     "text": [
      "the average of cumulative deaths of each WHO region is\n",
      " WHO_region\n",
      "AFRO       916.600856\n",
      "AMRO     15814.192891\n",
      "EMRO      4672.818470\n",
      "EURO      8890.024871\n",
      "Other       11.554675\n",
      "SEARO    17467.325457\n",
      "WPRO       723.480281\n",
      "Name: Cumulative_deaths, dtype: float64\n",
      "the Sum of cumulative case of each WHO region is\n",
      " WHO_region\n",
      "AFRO      28918757\n",
      "AMRO     558810320\n",
      "EMRO      64868066\n",
      "EURO     347795553\n",
      "Other         7291\n",
      "SEARO    121240706\n",
      "WPRO      15978062\n",
      "Name: Cumulative_deaths, dtype: int64\n"
     ]
    }
   ],
   "source": [
    "M=a.groupby('WHO_region').mean()\n",
    "print(\"the average of cumulative deaths of each WHO region is\\n\",M['Cumulative_deaths'])\n",
    "S=a.groupby('WHO_region').sum()\n",
    "print(\"the Sum of cumulative case of each WHO region is\\n\",S['Cumulative_deaths'])"
   ]
  },
  {
   "cell_type": "markdown",
   "metadata": {},
   "source": [
    "7. Produce plots that look like the following three figures. Pay attention to the annotations.\n",
    "\n",
    "7.a. <img src=\"Assign1.png\">"
   ]
  },
  {
   "cell_type": "code",
   "execution_count": 98,
   "metadata": {},
   "outputs": [
    {
     "name": "stderr",
     "output_type": "stream",
     "text": [
      "No handles with labels found to put in legend.\n"
     ]
    },
    {
     "data": {
      "text/plain": [
       "<matplotlib.legend.Legend at 0x7fecb84f71c0>"
      ]
     },
     "execution_count": 98,
     "metadata": {},
     "output_type": "execute_result"
    },
    {
     "data": {
      "image/png": "[encoded data removed]",
      "text/plain": [
       "<Figure size 432x288 with 1 Axes>"
      ]
     },
     "metadata": {
      "needs_background": "light"
     },
     "output_type": "display_data"
    }
   ],
   "source": [
    "import seaborn as sns\n",
    "sns.boxplot(x=\"Country\", y=\"New_cases\", data=q)\n",
    "sns.stripplot(x=\"Country\", y=\"New_cases\", data=q);#, jitter=True, edgecolor=\"gray\")\n",
    "plt.legend()"
   ]
  },
  {
   "cell_type": "code",
   "execution_count": 189,
   "metadata": {},
   "outputs": [
    {
     "name": "stderr",
     "output_type": "stream",
     "text": [
      "<ipython-input-189-1cfdf2cd8944>:1: FutureWarning: Indexing with multiple keys (implicitly converted to a tuple of keys) will be deprecated, use a list instead.\n",
      "  a.groupby('WHO_region')['Cumulative_cases',\"Cumulative_deaths\"].sum().plot.bar(grid=False);\n"
     ]
    },
    {
     "data": {
      "image/png": "[encoded data removed]",
      "text/plain": [
       "<Figure size 432x288 with 1 Axes>"
      ]
     },
     "metadata": {
      "needs_background": "light"
     },
     "output_type": "display_data"
    }
   ],
   "source": [
    "a.groupby('WHO_region')['Cumulative_cases',\"Cumulative_deaths\"].sum().plot.bar(grid=False);"
   ]
  },
  {
   "cell_type": "markdown",
   "metadata": {},
   "source": [
    "7.b. <img src=\"Assign2.png\">"
   ]
  },
  {
   "cell_type": "code",
   "execution_count": 184,
   "metadata": {},
   "outputs": [
    {
     "data": {
      "text/plain": [
       "<AxesSubplot:xlabel='Date_reported', ylabel='Cumulative_cases'>"
      ]
     },
     "execution_count": 184,
     "metadata": {},
     "output_type": "execute_result"
    },
    {
     "data": {
      "image/png": "[encoded data removed]",
      "text/plain": [
       "<Figure size 432x288 with 1 Axes>"
      ]
     },
     "metadata": {
      "needs_background": "light"
     },
     "output_type": "display_data"
    }
   ],
   "source": [
    "import matplotlib.pyplot as plt\n",
    "sns.lineplot(x=\"Date_reported\", y=\"Cumulative_cases\", hue=\"Country\",linewidth=5,data=q)\n"
   ]
  },
  {
   "cell_type": "markdown",
   "metadata": {},
   "source": [
    "7.c. <img src=\"Assign3.png\">"
   ]
  },
  {
   "cell_type": "code",
   "execution_count": null,
   "metadata": {},
   "outputs": [],
   "source": []
  }
 ],
 "metadata": {
  "kernelspec": {
   "display_name": "Python 3",
   "language": "python",
   "name": "python3"
  },
  "language_info": {
   "codemirror_mode": {
    "name": "ipython",
    "version": 3
   },
   "file_extension": ".py",
   "mimetype": "text/x-python",
   "name": "python",
   "nbconvert_exporter": "python",
   "pygments_lexer": "ipython3",
   "version": "3.9.2"
  }
 },
 "nbformat": 4,
 "nbformat_minor": 4
}
