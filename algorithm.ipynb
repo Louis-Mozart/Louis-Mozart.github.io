{
 "cells": [
  {
   "cell_type": "markdown",
   "id": "modified-promotion",
   "metadata": {},
   "source": [
    "1. write an algorithm that will ask the user for 10 numbers and then prints their average."
   ]
  },
  {
   "cell_type": "code",
   "execution_count": null,
   "id": "recent-champagne",
   "metadata": {},
   "outputs": [],
   "source": [
    "s=0\n",
    "for i in range(10):\n",
    "    a=eval(input('enter the numbers\\n'))\n",
    "    s=s+a\n",
    "print('the average is',(1/10)*s)    "
   ]
  },
  {
   "cell_type": "markdown",
   "id": "least-bleeding",
   "metadata": {},
   "source": [
    "2. Write an algorithm that asks the user to enter a positive integer n, computes and print its factorial given by\n",
    "n! = 1 × 2 × · · · × n."
   ]
  },
  {
   "cell_type": "code",
   "execution_count": 3,
   "id": "ideal-polls",
   "metadata": {},
   "outputs": [
    {
     "name": "stdout",
     "output_type": "stream",
     "text": [
      "enter an positive integer5\n",
      "the factorial of 5 is 120\n"
     ]
    }
   ],
   "source": [
    "n=eval(input('enter an positive integer'))\n",
    "f=1\n",
    "for i in range(1,n+1):\n",
    "    f=f*i\n",
    "print('the factorial of', n , 'is', f)    "
   ]
  },
  {
   "cell_type": "markdown",
   "id": "direct-burke",
   "metadata": {},
   "source": [
    "3. Write a an algorithm that asks the user to input a positive integer n and counts how many of the squares of\n",
    "the integers from 1 to n end in a 1."
   ]
  },
  {
   "cell_type": "code",
   "execution_count": 3,
   "id": "appointed-natural",
   "metadata": {},
   "outputs": [
    {
     "name": "stdout",
     "output_type": "stream",
     "text": [
      "enter an positive integer10\n",
      "there is 2 integers \n"
     ]
    }
   ],
   "source": [
    "n=eval(input('enter an positive integer'))\n",
    "count=0\n",
    "for i in range(1,n+1):\n",
    "    if i**2%10==1 :\n",
    "        count=count+1\n",
    "print('there is', count , 'integers ')        "
   ]
  },
  {
   "cell_type": "markdown",
   "id": "exciting-chancellor",
   "metadata": {},
   "source": [
    "4. Write a an algorithm that asks the user to input a positive integer n and counts how many of the squares of\n",
    "the integers from 1 to n end in a 4 and how many end in a 9."
   ]
  },
  {
   "cell_type": "code",
   "execution_count": 12,
   "id": "worldwide-tampa",
   "metadata": {},
   "outputs": [
    {
     "name": "stdout",
     "output_type": "stream",
     "text": [
      "enter an positive integer10\n",
      "there is 2 integers which squares end by 4 and 2 integers which squares end by 9\n"
     ]
    }
   ],
   "source": [
    "n=eval(input('enter an positive integer'))\n",
    "count=0\n",
    "pount=0\n",
    "for i in range(1,n+1):\n",
    "    if i**2%10==4 :\n",
    "        count=count+1       \n",
    "    elif i**2%10==9 :\n",
    "        pount=pount+1\n",
    "print('there is', count , 'integers which squares end by 4 and', pount, 'integers which squares end by 9')        "
   ]
  },
  {
   "cell_type": "markdown",
   "id": "accepted-result",
   "metadata": {},
   "source": [
    "5. Write an algorithm that asks the user to enter a positive integer n, and then computes\n",
    "$$A_{n}=1+\\frac{1}{2}+\\frac{1}{3}+\\cdots+\\frac{1}{n}-ln(n)$$"
   ]
  },
  {
   "cell_type": "code",
   "execution_count": 2,
   "id": "played-blend",
   "metadata": {},
   "outputs": [
    {
     "name": "stdout",
     "output_type": "stream",
     "text": [
      "enter an positive integer5\n",
      "1.6738954208992334\n"
     ]
    }
   ],
   "source": [
    "from math import log as ln\n",
    "n=eval(input('enter an positive integer'))\n",
    "s=1\n",
    "for i in range(1,n+1):\n",
    "    s=s+1/i\n",
    "print(s-ln(n))"
   ]
  },
  {
   "cell_type": "markdown",
   "id": "vital-atlanta",
   "metadata": {},
   "source": [
    "6. Write an algorithm that asks the user to enter a positive integer n, and computes\n",
    "$$Bn = 1 − 2 + 3 − 4 + · · · + (2n − 1) − 2n.$$"
   ]
  },
  {
   "cell_type": "code",
   "execution_count": 11,
   "id": "matched-coaching",
   "metadata": {},
   "outputs": [
    {
     "name": "stdout",
     "output_type": "stream",
     "text": [
      "enter an positive integer3\n",
      "-3\n"
     ]
    }
   ],
   "source": [
    "n=eval(input('enter an positive integer'))\n",
    "f=0\n",
    "g=0\n",
    "for i in range(1,n+1):\n",
    "    f=f+2*i\n",
    "for i in range(1,n+1):\n",
    "    g=g+(2*i-1)\n",
    "print(g-f)"
   ]
  },
  {
   "cell_type": "code",
   "execution_count": null,
   "id": "cathedral-listing",
   "metadata": {},
   "outputs": [],
   "source": []
  }
 ],
 "metadata": {
  "kernelspec": {
   "display_name": "Python 3",
   "language": "python",
   "name": "python3"
  },
  "language_info": {
   "codemirror_mode": {
    "name": "ipython",
    "version": 3
   },
   "file_extension": ".py",
   "mimetype": "text/x-python",
   "name": "python",
   "nbconvert_exporter": "python",
   "pygments_lexer": "ipython3",
   "version": "3.9.2"
  }
 },
 "nbformat": 4,
 "nbformat_minor": 5
}
