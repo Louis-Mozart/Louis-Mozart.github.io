{
 "cells": [
  {
   "cell_type": "markdown",
   "metadata": {},
   "source": [
    "$\\color{red}{{\\huge \\text{Mark: } 15/15}}$\n",
    "\n",
    "\n",
    "# Exercise 1   \n",
    "\n",
    "Write a function called <b>wordn</b> that takes a sentence $s$ and a positive integer $n$ as input and return the $n^{th}$ (position not index)word of the sentence if it exists otherwise return 'None'.\n",
    "\n",
    "Test your function for $n = 3$ and $s$ is your full name.\n",
    "\n",
    "$\\color{red}{\\text{Mark: } 5/5}$\n",
    "\n",
    "$\\color{red}{\\text{Structure= }  1/1}$\n",
    "\n",
    "$\\color{red}{\\text{Correctness= }  3/3}$\n",
    "\n",
    "$\\color{red}{\\text{Effectiveness= } 1/1}$"
   ]
  },
  {
   "cell_type": "code",
   "execution_count": 3,
   "metadata": {},
   "outputs": [
    {
     "data": {
      "text/plain": [
       "'m'"
      ]
     },
     "execution_count": 3,
     "metadata": {},
     "output_type": "execute_result"
    }
   ],
   "source": [
    "def wordn(s,n):\n",
    "    if n<=len(s):\n",
    "        return s[n-1]\n",
    "    else:\n",
    "        return 'None'\n",
    "wordn('kamdem teyou louis mozart',3)"
   ]
  },
  {
   "cell_type": "markdown",
   "metadata": {},
   "source": [
    "# Exercices 2\n",
    "\n",
    "Write a Python function named <b>DivisorsFunc</b> that takes a positive interger $n$ as input and return the list of divisors of $n$.\n",
    "\n",
    "Test your function for $n = 18$\n",
    "\n",
    "\n",
    "$\\color{red}{\\text{Mark: } 5/5}$\n",
    "\n",
    "$\\color{red}{\\text{Structure= }  1/1}$\n",
    "\n",
    "$\\color{red}{\\text{Correctness= }  3/3}$\n",
    "\n",
    "$\\color{red}{\\text{Effectiveness= } 1/1}$"
   ]
  },
  {
   "cell_type": "code",
   "execution_count": 4,
   "metadata": {},
   "outputs": [
    {
     "data": {
      "text/plain": [
       "{1, 2, 3, 6, 9, 18}"
      ]
     },
     "execution_count": 4,
     "metadata": {},
     "output_type": "execute_result"
    }
   ],
   "source": [
    "def DivisorsFunc(n):\n",
    "    a=set()\n",
    "    for i in range(1,n+1):\n",
    "        if n%i==0:\n",
    "            a.add(i)\n",
    "    return a        \n",
    "DivisorsFunc(18)"
   ]
  },
  {
   "cell_type": "markdown",
   "metadata": {},
   "source": [
    "\n",
    "# Exercices 3\n",
    "\n",
    "A year is a leap year if it is divisible by 4, except that years divisible by 100 are not leap years\n",
    "unless they are also divisible by 400. Write a Python function called <b>ListLeapYear</b> that takes two years $n$ and $m$ as inputs and return the list of leap year between $n$ and $m$ (included).\n",
    "\n",
    "Test your function for $n = 2021$ and $m = 2000$\n",
    "\n",
    "\n",
    "$\\color{red}{\\text{Mark: } 5/5}$\n",
    "\n",
    "$\\color{red}{\\text{Structure= }  1/1}$\n",
    "\n",
    "$\\color{red}{\\text{Correctness= }  3/3}$\n",
    "\n",
    "$\\color{red}{\\text{Effectiveness= } 1/1}$"
   ]
  },
  {
   "cell_type": "code",
   "execution_count": 2,
   "metadata": {},
   "outputs": [
    {
     "data": {
      "text/plain": [
       "{2000, 2004, 2008, 2012, 2016, 2020}"
      ]
     },
     "execution_count": 2,
     "metadata": {},
     "output_type": "execute_result"
    }
   ],
   "source": [
    "def ListLeapYear(n,m):\n",
    "    a=set()\n",
    "    if n<=m:\n",
    "        for i in range(n,m+1):\n",
    "            if i%4==0 and i%100!=0 or i%400==0:\n",
    "                a.add(i)\n",
    "    else:\n",
    "        for i in range(m,n+1):\n",
    "            if i%4==0 and i%100!=0 or i%400==0:\n",
    "                a.add(i)\n",
    "    return a    \n",
    "ListLeapYear(2000,2021)"
   ]
  },
  {
   "cell_type": "code",
   "execution_count": null,
   "metadata": {},
   "outputs": [],
   "source": []
  }
 ],
 "metadata": {
  "kernelspec": {
   "display_name": "Python 3",
   "language": "python",
   "name": "python3"
  },
  "language_info": {
   "codemirror_mode": {
    "name": "ipython",
    "version": 3
   },
   "file_extension": ".py",
   "mimetype": "text/x-python",
   "name": "python",
   "nbconvert_exporter": "python",
   "pygments_lexer": "ipython3",
   "version": "3.9.2"
  }
 },
 "nbformat": 4,
 "nbformat_minor": 4
}
