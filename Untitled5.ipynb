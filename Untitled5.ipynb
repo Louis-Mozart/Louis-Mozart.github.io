{
 "cells": [
  {
   "cell_type": "code",
   "execution_count": 6,
   "id": "stretch-allen",
   "metadata": {},
   "outputs": [
    {
     "name": "stdout",
     "output_type": "stream",
     "text": [
      "enter n100\n",
      "1\n"
     ]
    }
   ],
   "source": [
    "n=eval(input('enter n'))\n",
    "s=0\n",
    "c=0\n",
    "for i in range(1,n):\n",
    "    for j in range(1,int(i/2)):\n",
    "        if i%j==0 :\n",
    "            s=s+i\n",
    "if s==i:\n",
    "    c=c+1\n",
    "print(c)    "
   ]
  },
  {
   "cell_type": "code",
   "execution_count": null,
   "id": "relative-jewelry",
   "metadata": {},
   "outputs": [],
   "source": []
  },
  {
   "cell_type": "code",
   "execution_count": null,
   "id": "leading-saudi",
   "metadata": {},
   "outputs": [],
   "source": []
  }
 ],
 "metadata": {
  "kernelspec": {
   "display_name": "Python 3",
   "language": "python",
   "name": "python3"
  },
  "language_info": {
   "codemirror_mode": {
    "name": "ipython",
    "version": 3
   },
   "file_extension": ".py",
   "mimetype": "text/x-python",
   "name": "python",
   "nbconvert_exporter": "python",
   "pygments_lexer": "ipython3",
   "version": "3.9.2"
  }
 },
 "nbformat": 4,
 "nbformat_minor": 5
}
