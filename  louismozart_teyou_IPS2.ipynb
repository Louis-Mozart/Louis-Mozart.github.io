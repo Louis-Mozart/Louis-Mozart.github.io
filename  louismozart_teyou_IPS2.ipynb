{
 "cells": [
  {
   "cell_type": "markdown",
   "id": "progressive-impossible",
   "metadata": {},
   "source": [
    "# Coding with python"
   ]
  },
  {
   "cell_type": "markdown",
   "id": "exciting-compromise",
   "metadata": {},
   "source": [
    "## 1. Simulate M n-sample from a normal distribution with parameters $(\\mu,\\sigma^{2})$"
   ]
  },
  {
   "cell_type": "code",
   "execution_count": 16,
   "id": "dedicated-opera",
   "metadata": {},
   "outputs": [],
   "source": [
    "import numpy as np\n",
    "from matplotlib import pyplot as plt zs"
   ]
  },
  {
   "cell_type": "code",
   "execution_count": 20,
   "id": "typical-baptist",
   "metadata": {},
   "outputs": [],
   "source": [
    "def norm(n,m,mu,sigma):\n",
    "    s = np.random.normal(mu, sigma, (n,m))\n",
    "    return s"
   ]
  },
  {
   "cell_type": "code",
   "execution_count": 21,
   "id": "changed-demand",
   "metadata": {},
   "outputs": [],
   "source": [
    "n,m,mu,sigma=40,30,0,1  #mu=0 , sigma=1\n",
    "w=norm(n,m,mu,sigma)\n"
   ]
  },
  {
   "cell_type": "markdown",
   "id": "driving-current",
   "metadata": {},
   "source": [
    "#### For each sample compute $μˆ{(i)}_{n}$ , the m.l.e. of μ for the ith sample, $i = 1,\\dots,M.$"
   ]
  },
  {
   "cell_type": "code",
   "execution_count": 22,
   "id": "central-effect",
   "metadata": {},
   "outputs": [
    {
     "data": {
      "text/plain": [
       "array([ 0.27577472,  0.34375375, -0.14941052, -0.14537116, -0.16422184,\n",
       "       -0.1543993 ,  0.06523477, -0.03357408, -0.20954417, -0.02954139,\n",
       "        0.0136623 ,  0.26831997,  0.07175934,  0.26848719, -0.15321442,\n",
       "       -0.09257324,  0.28513014, -0.18140823,  0.15460139,  0.06045485,\n",
       "       -0.04543268, -0.08359203,  0.11715202, -0.01014452,  0.17852185,\n",
       "       -0.13794601,  0.12978263, -0.00062956,  0.2088349 , -0.26734632])"
      ]
     },
     "execution_count": 22,
     "metadata": {},
     "output_type": "execute_result"
    }
   ],
   "source": [
    "Mu=np.zeros(m)\n",
    "for i in range(m):\n",
    "    Mu[i]=(1/n)*w[:,i].sum()\n",
    "Mu"
   ]
  },
  {
   "cell_type": "markdown",
   "id": "accurate-bronze",
   "metadata": {},
   "source": [
    "### 2. Compute the mean of the estimates $\\frac{1}{M}\\sum_{i=1}^{n}μˆ{(i)}n$\n",
    " "
   ]
  },
  {
   "cell_type": "code",
   "execution_count": 23,
   "id": "random-witch",
   "metadata": {},
   "outputs": [
    {
     "data": {
      "text/plain": [
       "0.01943734487371441"
      ]
     },
     "execution_count": 23,
     "metadata": {},
     "output_type": "execute_result"
    }
   ],
   "source": [
    "mean_estimate=1/m*Mu.sum()\n",
    "mean_estimate"
   ]
  },
  {
   "cell_type": "markdown",
   "id": "split-addiction",
   "metadata": {},
   "source": [
    "### Approximate the mean square error (MSE)."
   ]
  },
  {
   "cell_type": "code",
   "execution_count": 24,
   "id": "empirical-tuner",
   "metadata": {},
   "outputs": [
    {
     "data": {
      "text/plain": [
       "0.0003778103757397118"
      ]
     },
     "execution_count": 24,
     "metadata": {},
     "output_type": "execute_result"
    }
   ],
   "source": [
    "mean_square_error=abs(mean_estimate-mu)**2\n",
    "mean_square_error\n"
   ]
  },
  {
   "cell_type": "markdown",
   "id": "reflected-internet",
   "metadata": {},
   "source": [
    "### comment\n",
    "we can see that the error between the estimate mean is close from the real value of the mean"
   ]
  },
  {
   "cell_type": "markdown",
   "id": "portable-berry",
   "metadata": {},
   "source": [
    "### 3. Construct the histogram of the $μˆ{(i)}n$,  $i=1,\\dots,m$"
   ]
  },
  {
   "cell_type": "code",
   "execution_count": 26,
   "id": "viral-artwork",
   "metadata": {},
   "outputs": [
    {
     "data": {
      "image/png": "[encoded data removed]",
      "text/plain": [
       "<Figure size 432x288 with 1 Axes>"
      ]
     },
     "metadata": {
      "needs_background": "light"
     },
     "output_type": "display_data"
    }
   ],
   "source": [
    "plt.hist(Mu,rwidth=1,weights=None,color=\"red\");"
   ]
  },
  {
   "cell_type": "markdown",
   "id": "color-patio",
   "metadata": {},
   "source": [
    "### 4. Reconsider the previous questions for $\\sigma^{2}$ .the m.l.e. of the variance and for the unbiased estimator"
   ]
  },
  {
   "cell_type": "markdown",
   "id": "pleasant-fever",
   "metadata": {},
   "source": [
    "#### For each sample compute $\\sigmaˆ{(i)}_{n}$ , the m.l.e. of $\\sigma$ for the ith sample, $i = 1,\\dots,M.$"
   ]
  },
  {
   "cell_type": "code",
   "execution_count": 27,
   "id": "increased-fraction",
   "metadata": {},
   "outputs": [
    {
     "data": {
      "text/plain": [
       "array([56.05011907, 42.51302466, 32.56910534, 36.48941603, 46.28193141,\n",
       "       44.68235462, 30.49532847, 33.10144661, 33.8902959 , 33.35543002,\n",
       "       39.22341302, 48.59865742, 43.8045064 , 40.78259873, 40.19756867,\n",
       "       38.09610719, 56.02212522, 30.91848553, 34.93721203, 47.94629458,\n",
       "       32.53402367, 27.15595757, 39.06567979, 55.0900466 , 38.19223374,\n",
       "       43.30384905, 34.81469734, 38.46747179, 31.96829774, 55.07253893])"
      ]
     },
     "execution_count": 27,
     "metadata": {},
     "output_type": "execute_result"
    }
   ],
   "source": [
    "Sigma=0\n",
    "for i in w:\n",
    "    Sigma+=((n-1)/n)*(i-mean_estimate)**2\n",
    "Sigma\n",
    "    "
   ]
  },
  {
   "cell_type": "markdown",
   "id": "above-blackberry",
   "metadata": {},
   "source": [
    "## 2.compute the mean of the estimate $\\sigmaˆ{(i)}_{n}$"
   ]
  },
  {
   "cell_type": "code",
   "execution_count": 28,
   "id": "artificial-connectivity",
   "metadata": {},
   "outputs": [
    {
     "data": {
      "text/plain": [
       "40.18734057099951"
      ]
     },
     "execution_count": 28,
     "metadata": {},
     "output_type": "execute_result"
    }
   ],
   "source": [
    "mean_sigma_estimate = Sigma.mean()\n",
    "mean_sigma_estimate"
   ]
  },
  {
   "cell_type": "markdown",
   "id": "insured-bonus",
   "metadata": {},
   "source": [
    "## 3. Construct the histogram of the $\\sigmaˆ{(i)}_{n}$ , i = 1,···,M. Comment."
   ]
  },
  {
   "cell_type": "code",
   "execution_count": 29,
   "id": "governing-hanging",
   "metadata": {},
   "outputs": [
    {
     "data": {
      "image/png": "[encoded data removed]",
      "text/plain": [
       "<Figure size 432x288 with 1 Axes>"
      ]
     },
     "metadata": {
      "needs_background": "light"
     },
     "output_type": "display_data"
    }
   ],
   "source": [
    "plt.hist(Sigma);"
   ]
  },
  {
   "cell_type": "markdown",
   "id": "listed-pricing",
   "metadata": {},
   "source": [
    "## 5.Illustrate the fact that $(n−1)\\dfrac{\\sigmaˆ{(i)}}{\\sigma^{2}}$ has a chi-square distribution with n−1 degrees of freedom."
   ]
  },
  {
   "cell_type": "code",
   "execution_count": 30,
   "id": "silent-spelling",
   "metadata": {},
   "outputs": [
    {
     "data": {
      "text/plain": [
       "[<matplotlib.lines.Line2D at 0x7fb4d86a8430>]"
      ]
     },
     "execution_count": 30,
     "metadata": {},
     "output_type": "execute_result"
    },
    {
     "data": {
      "image/png": "[encoded data removed]",
      "text/plain": [
       "<Figure size 432x288 with 1 Axes>"
      ]
     },
     "metadata": {
      "needs_background": "light"
     },
     "output_type": "display_data"
    }
   ],
   "source": [
    "plt.plot(np.random.chisquare(((n-1)/sigma**2)*Sigma))\n",
    "#plt.hist(Sigma);"
   ]
  },
  {
   "cell_type": "code",
   "execution_count": 31,
   "id": "exclusive-offer",
   "metadata": {},
   "outputs": [
    {
     "data": {
      "text/plain": [
       "120"
      ]
     },
     "execution_count": 31,
     "metadata": {},
     "output_type": "execute_result"
    }
   ],
   "source": [
    "def fact(n):\n",
    "    f=n\n",
    "    for i in range(1,n):\n",
    "        f*=i\n",
    "    return f\n",
    "fact(5)    "
   ]
  },
  {
   "cell_type": "markdown",
   "id": "amber-extent",
   "metadata": {},
   "source": [
    "### distribution of chisquare with n-1 degrees of freedom"
   ]
  },
  {
   "cell_type": "code",
   "execution_count": 32,
   "id": "first-concept",
   "metadata": {},
   "outputs": [
    {
     "data": {
      "image/png": "[encoded data removed]",
      "text/plain": [
       "<Figure size 432x288 with 2 Axes>"
      ]
     },
     "metadata": {
      "needs_background": "light"
     },
     "output_type": "display_data"
    }
   ],
   "source": [
    "x=np.linspace(0,1,100)\n",
    "chi_2=x**((n-1)/2)*np.exp(-x/2)/(2**((n-1)/2)*fact((n-1)//2))    \n",
    "plt.subplot(2,1,1)\n",
    "plt.plot(chi_2);\n",
    "plt.subplot(2,1,2)\n",
    "plt.hist(((n-1)/sigma**2)*Sigma);"
   ]
  },
  {
   "cell_type": "code",
   "execution_count": 9,
   "id": "vanilla-administration",
   "metadata": {},
   "outputs": [],
   "source": [
    "np.random.normal?"
   ]
  },
  {
   "cell_type": "code",
   "execution_count": 50,
   "id": "weird-teddy",
   "metadata": {},
   "outputs": [
    {
     "data": {
      "image/png": "[encoded data removed]",
      "text/plain": [
       "<Figure size 432x288 with 1 Axes>"
      ]
     },
     "metadata": {
      "needs_background": "light"
     },
     "output_type": "display_data"
    }
   ],
   "source": [
    "import matplotlib.pyplot as plt\n",
    "count, bins, ignored = plt.hist(w,30,density=True)\n",
    "plt.plot(bins, 1/(sigma * np.sqrt(2 * np.pi)) *np.exp( - (bins - mu)**2 / (2 * sigma**2) ),linewidth=2, color='r')\n",
    "plt.show()"
   ]
  },
  {
   "cell_type": "markdown",
   "id": "starting-surge",
   "metadata": {},
   "source": [
    "### plt.hist(Sigma);"
   ]
  },
  {
   "cell_type": "code",
   "execution_count": 47,
   "id": "reliable-impossible",
   "metadata": {},
   "outputs": [
    {
     "data": {
      "image/png": "[encoded data removed]",
      "text/plain": [
       "<Figure size 432x288 with 1 Axes>"
      ]
     },
     "metadata": {
      "needs_background": "light"
     },
     "output_type": "display_data"
    }
   ],
   "source": [
    "plt.hist(Sigma);"
   ]
  },
  {
   "cell_type": "code",
   "execution_count": null,
   "id": "artificial-institution",
   "metadata": {},
   "outputs": [],
   "source": []
  }
 ],
 "metadata": {
  "kernelspec": {
   "display_name": "Python 3",
   "language": "python",
   "name": "python3"
  },
  "language_info": {
   "codemirror_mode": {
    "name": "ipython",
    "version": 3
   },
   "file_extension": ".py",
   "mimetype": "text/x-python",
   "name": "python",
   "nbconvert_exporter": "python",
   "pygments_lexer": "ipython3",
   "version": "3.9.2"
  }
 },
 "nbformat": 4,
 "nbformat_minor": 5
}
