{
 "cells": [
  {
   "cell_type": "code",
   "execution_count": 2,
   "id": "pretty-drinking",
   "metadata": {},
   "outputs": [
    {
     "name": "stdout",
     "output_type": "stream",
     "text": [
      "enter a number1524\n",
      "4\n",
      "2\n",
      "5\n",
      "1\n"
     ]
    }
   ],
   "source": [
    "a=eval(input('enter a number'))\n",
    "while a>=1:\n",
    "    q=a//10\n",
    "    r=a-10*q\n",
    "    a=q\n",
    "    print(r)"
   ]
  },
  {
   "cell_type": "code",
   "execution_count": 8,
   "id": "sound-bachelor",
   "metadata": {},
   "outputs": [
    {
     "name": "stdout",
     "output_type": "stream",
     "text": [
      "enter a number256\n",
      "enter a number25\n",
      "enter a number236\n",
      "enter a number54\n",
      "enter a number12\n",
      "enter a number52\n",
      "enter a number5\n",
      "enter a number2\n",
      "enter a number63\n",
      "enter a number8\n",
      "warning\n",
      "max= 256 max1= 256 min= 2 min1= 63 average= 71.3\n"
     ]
    }
   ],
   "source": [
    "a=eval(input('enter a number'))\n",
    "M=a\n",
    "M1=a\n",
    "m=a\n",
    "m1=a\n",
    "s=a\n",
    "c=a\n",
    "for i in range(9):\n",
    "    b=eval(input('enter a number'))\n",
    "    if b>=M:\n",
    "        M=b\n",
    "        M1=M\n",
    "    else:\n",
    "        if b>=M1:\n",
    "            M1=b\n",
    "    if b<=m:\n",
    "        m=b\n",
    "        m1=m\n",
    "    else:\n",
    "        if m1<=b:\n",
    "            m1=b\n",
    "    s=s+b \n",
    "    if b>=100 and a > 100:\n",
    "        c=c+1\n",
    "if c>1:\n",
    "    print('warning')\n",
    "print('max=', M ,'max1=',M1, 'min=',m, 'min1=',m1, 'average=',0.1*s)         \n",
    "        "
   ]
  },
  {
   "cell_type": "code",
   "execution_count": 45,
   "id": "pacific-refrigerator",
   "metadata": {},
   "outputs": [
    {
     "name": "stdout",
     "output_type": "stream",
     "text": [
      "enter n10\n",
      "0\n"
     ]
    }
   ],
   "source": [
    "#count all the perfect number less than n\n",
    "\n",
    "n=eval(input('enter n'))\n",
    "for i in range(1,n):\n",
    "    s=0\n",
    "    for j in range(1,i):\n",
    "        if i%j==0:\n",
    "            s=s+j  \n",
    "    if s==i: \n",
    "        count=count+1\n",
    "print(count)        "
   ]
  },
  {
   "cell_type": "code",
   "execution_count": 2,
   "id": "relevant-solid",
   "metadata": {},
   "outputs": [
    {
     "name": "stdout",
     "output_type": "stream",
     "text": [
      "enter n496\n",
      "perfect\n"
     ]
    }
   ],
   "source": [
    "n=eval(input('enter n'))\n",
    "#s=0\n",
    "for i in range(1,n):\n",
    "    s=0\n",
    "    if n%i==0:\n",
    "        s=s+i\n",
    "if s==n:\n",
    "    print('perfect')\n",
    "else :\n",
    "    print('not')\n",
    "        "
   ]
  },
  {
   "cell_type": "code",
   "execution_count": 30,
   "id": "arabic-citation",
   "metadata": {},
   "outputs": [
    {
     "name": "stdout",
     "output_type": "stream",
     "text": [
      "enter n26\n",
      "0\n"
     ]
    }
   ],
   "source": [
    "m=eval(input('enter n'))\n",
    "#s=0\n",
    "#n=1\n",
    "#count=0\n",
    "while n<m:\n",
    "    count=0\n",
    "    s=0\n",
    "    n=1\n",
    "    for i in range(1,n):\n",
    "        if n%i==0:\n",
    "            s=s+i\n",
    "    if s==m:\n",
    "        count=count+1\n",
    "    #n=n+1\n",
    "print(count)    "
   ]
  },
  {
   "cell_type": "code",
   "execution_count": 28,
   "id": "composed-promotion",
   "metadata": {},
   "outputs": [
    {
     "name": "stdout",
     "output_type": "stream",
     "text": [
      "enter n81\n",
      "9\n"
     ]
    }
   ],
   "source": [
    "n=eval(input('enter n'))\n",
    "s=0\n",
    "for i in range(1,n//2):\n",
    "    if i**2==n:\n",
    "        j=i\n",
    "print(j)"
   ]
  },
  {
   "cell_type": "code",
   "execution_count": 83,
   "id": "center-departure",
   "metadata": {},
   "outputs": [
    {
     "name": "stdout",
     "output_type": "stream",
     "text": [
      "enter n: 1000\n",
      "between 1 and 1000 we have 3 perfect numbers\n"
     ]
    }
   ],
   "source": [
    "n=eval(input('enter n: '))\n",
    "count=0\n",
    "for i in range(1,n):\n",
    "    s=0\n",
    "    for j in range (1,i):\n",
    "        if i%j==0:\n",
    "            s=s+j\n",
    "    if s==i:\n",
    "        count=count+1\n",
    "print('between 1 and', n, 'we have', count, 'perfect numbers')\n"
   ]
  },
  {
   "cell_type": "code",
   "execution_count": null,
   "id": "shaped-match",
   "metadata": {},
   "outputs": [],
   "source": []
  },
  {
   "cell_type": "code",
   "execution_count": null,
   "id": "conscious-market",
   "metadata": {},
   "outputs": [],
   "source": []
  }
 ],
 "metadata": {
  "kernelspec": {
   "display_name": "Python 3",
   "language": "python",
   "name": "python3"
  },
  "language_info": {
   "codemirror_mode": {
    "name": "ipython",
    "version": 3
   },
   "file_extension": ".py",
   "mimetype": "text/x-python",
   "name": "python",
   "nbconvert_exporter": "python",
   "pygments_lexer": "ipython3",
   "version": "3.9.2"
  }
 },
 "nbformat": 4,
 "nbformat_minor": 5
}
