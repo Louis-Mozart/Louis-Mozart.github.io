{
 "cells": [
  {
   "cell_type": "markdown",
   "metadata": {},
   "source": [
    "# Exercise 1\n",
    "\n",
    "Write a Python program to count the number of characters (character frequency) in a word enter by a user.\n",
    "\n",
    "For example,if the user enter the word <font color = red> google  </font> \n",
    "\n",
    "the output should be <font color = red> {'g': 2, 'o': 2, 'l': 1, 'e': 1} </font>\n",
    "\n",
    "<font color='red'><b>Correct<b></font>\n"
   ]
  },
  {
   "cell_type": "code",
   "execution_count": 1,
   "metadata": {},
   "outputs": [
    {
     "name": "stdout",
     "output_type": "stream",
     "text": [
      "enter the charactergoogle\n"
     ]
    },
    {
     "data": {
      "text/plain": [
       "{'g': 2, 'o': 2, 'l': 1, 'e': 1}"
      ]
     },
     "execution_count": 1,
     "metadata": {},
     "output_type": "execute_result"
    }
   ],
   "source": [
    "a=input(\"enter the character\")\n",
    "c=dict()\n",
    "for i in range(len(a)):\n",
    "    s=0\n",
    "    for j in range(len(a)):\n",
    "        if a[i]==a[j]:\n",
    "            s=s+1\n",
    "            b={a[i]:s}\n",
    "            c.update(b)\n",
    "c            "
   ]
  },
  {
   "cell_type": "markdown",
   "metadata": {},
   "source": [
    "# Exercise 2\n",
    "\n",
    "Given the following function $ f(x) = x^3 -3x - 5;$ let $x_0 \\in [a,b]=[-10,10]$ be the solution of the equation $f(x) = 0$. \n",
    "\n",
    "- Write a function named Bissection1 that return an approximation $\\bar{x}$ of $x_0$ such that $$ \\mid \\bar{x} - x_0 \\mid \\leq \\epsilon, $$\n",
    "for a given parameter, $\\epsilon>0$.\n",
    "\n",
    "- Write the function named Bissection2 that complete the same task but has as parameters $f,a,b,\\epsilon$.\n",
    "\n",
    "- Write a function named Bissection3 that takes the same input as Bissection2 and return the approximation value $\\bar{x}$ and its image $f(\\bar{x})$.\n",
    "\n",
    "<font color = red><b> Correct<b> </font>"
   ]
  },
  {
   "cell_type": "code",
   "execution_count": 1,
   "metadata": {},
   "outputs": [
    {
     "data": {
      "text/plain": [
       "2.2790187859209254"
      ]
     },
     "execution_count": 1,
     "metadata": {},
     "output_type": "execute_result"
    }
   ],
   "source": [
    "def bissection1(eps):\n",
    "    f= lambda x: x**3-3*x-5\n",
    "    a=-10\n",
    "    b=10\n",
    "    while abs(a-b)>eps:\n",
    "        c=(a+b)/2\n",
    "        if f(c)>0:  #f(c)*f(a)\n",
    "            b=c\n",
    "        else:\n",
    "            a=c\n",
    "    return c\n",
    "bissection1(0.000000001)"
   ]
  },
  {
   "cell_type": "code",
   "execution_count": 3,
   "metadata": {},
   "outputs": [
    {
     "data": {
      "text/plain": [
       "2.279018834233284"
      ]
     },
     "execution_count": 3,
     "metadata": {},
     "output_type": "execute_result"
    }
   ],
   "source": [
    "def bissection2(eps,a,b,f):\n",
    "    while abs(a-b)>eps:\n",
    "        c=(a+b)/2\n",
    "        if f(c)>0:\n",
    "            b=c\n",
    "        else:\n",
    "            a=c\n",
    "    return c\n",
    "f= lambda x: x**3-3*x-5\n",
    "bissection2(0.0000001,-10,10,f)"
   ]
  },
  {
   "cell_type": "code",
   "execution_count": 4,
   "metadata": {},
   "outputs": [
    {
     "data": {
      "text/plain": [
       "(2.279018834233284, 6.047645335627294e-07)"
      ]
     },
     "execution_count": 4,
     "metadata": {},
     "output_type": "execute_result"
    }
   ],
   "source": [
    "def bissection3(eps,a,b,f):\n",
    "    while abs(a-b)>eps:\n",
    "        c=(a+b)/2\n",
    "        if f(c)>0:\n",
    "            b=c\n",
    "        else:\n",
    "            a=c\n",
    "    return c,f(c)\n",
    "f= lambda x: x**3-3*x-5\n",
    "bissection3(0.0000001,-10,10,f)"
   ]
  },
  {
   "cell_type": "markdown",
   "metadata": {},
   "source": [
    "# Exercise 3\n",
    "Write a Python function that accepts a string and calculate the number of upper case letters and lower case letters. Check for 'The quick Brow Fox and 'I am proud of Mr McDonald'.\n",
    "\n",
    "<font color='red'><b>Correct, you may need to input the full statement though which will result in (7-uppers and 31-lowers). Pay close attention to the efficiency as well.<b></font>\n"
   ]
  },
  {
   "cell_type": "code",
   "execution_count": 10,
   "metadata": {},
   "outputs": [
    {
     "data": {
      "text/plain": [
       "(16, 4)"
      ]
     },
     "execution_count": 10,
     "metadata": {},
     "output_type": "execute_result"
    }
   ],
   "source": [
    "# a='Tfk'\n",
    "# a[0].islower()\n",
    "# s=0\n",
    "# dir(a)\n",
    "#if a.islower()==True :\n",
    "#     s=s+1\n",
    "# print(s)\n",
    "def count_low(z):\n",
    "    s1=0\n",
    "    s2=0\n",
    "    b=z.split( )\n",
    "    for i in b:\n",
    "        for k in range(len(i)):\n",
    "            if i[k].islower()==True:\n",
    "                s1=s1+1\n",
    "            else:\n",
    "                s2=s2+1\n",
    "    return s1,s2\n",
    "count_low('I am proud of Mr McDonald')  \n",
    "#count_low( 'The quick Brow Fox and I am proud of Mr McDonald')    "
   ]
  },
  {
   "cell_type": "markdown",
   "metadata": {},
   "source": [
    "# Exercise 4\n",
    "\n",
    "Write a Python function called <b> InRange </b>to check whether a given number $a$ is in a given range $r$. For example for $[0,100]$, the output of 20 should appear: 20 is in the range. in addition, if the number is outside the range, print the following message: The number is outside the given range.\n",
    "\n",
    "<font color='red'><b>Correct<b></font>\n"
   ]
  },
  {
   "cell_type": "code",
   "execution_count": 11,
   "metadata": {},
   "outputs": [
    {
     "data": {
      "text/plain": [
       "(20, 'is in the range')"
      ]
     },
     "execution_count": 11,
     "metadata": {},
     "output_type": "execute_result"
    }
   ],
   "source": [
    "def InRange(L,n):\n",
    "     if L[0]<=n<=L[-1]:\n",
    "        return n,'is in the range'\n",
    "     else:\n",
    "        return n, 'is not in the range'           \n",
    "InRange([0,100],20)    "
   ]
  },
  {
   "cell_type": "markdown",
   "metadata": {},
   "source": [
    "# Exercise 5\n",
    "Write a Python function called <b>IsPrime</b> that takes a positive integer as a parameter and check the number is prime or not.\n",
    "\n",
    "Note : A prime number (or a prime) is a natural number greater than 1 and that has no positive divisors other than 1 and itself.\n",
    "\n",
    "<font color='red'><b>Correct<b></font>\n"
   ]
  },
  {
   "cell_type": "code",
   "execution_count": 16,
   "metadata": {},
   "outputs": [
    {
     "data": {
      "text/plain": [
       "(11, 'prime')"
      ]
     },
     "execution_count": 16,
     "metadata": {},
     "output_type": "execute_result"
    }
   ],
   "source": [
    "def IsPrime(n):\n",
    "    s=0\n",
    "    if n==1:\n",
    "        return(\"not prime\")\n",
    "    else:\n",
    "        for i in range(2,n//2+1):\n",
    "            if n%i==0:\n",
    "                s+=1\n",
    "        if s>=1:\n",
    "            return (n,'not prime')\n",
    "        else:\n",
    "            return (n, 'prime')\n",
    "IsPrime(11)        "
   ]
  },
  {
   "cell_type": "markdown",
   "metadata": {},
   "source": [
    "# Exercise 6\n",
    "Write a Python function called <b>EvenNum</b> that  returns the list of even numbers from a given list.\n",
    "\n",
    "<font color='red'><b>Correct<b></font>\n"
   ]
  },
  {
   "cell_type": "code",
   "execution_count": 18,
   "metadata": {},
   "outputs": [
    {
     "data": {
      "text/plain": [
       "[4, 6, 8, 18]"
      ]
     },
     "execution_count": 18,
     "metadata": {},
     "output_type": "execute_result"
    }
   ],
   "source": [
    "def EvenNum(l):\n",
    "    b=[]\n",
    "    for i in l:\n",
    "        if type(i)==int:\n",
    "            if i%2==0:\n",
    "                b+=[i]\n",
    "    return b       \n",
    "EvenNum([1,'fs',3,4,'',6,'f',8,11,18,23])"
   ]
  },
  {
   "cell_type": "markdown",
   "metadata": {},
   "source": [
    "# Exercise 7\n",
    "\n",
    "- Write a function called <b>sum_digits</b> that takes a positive integer $num$ as input and returns the sum $S$ of the\n",
    "digits of $num$.\n",
    "- Write a function called <b>sum_digits_OddEven</b> that takes a positive integer $num$ as input and returns the sums $S1$ and $S2$ of the odd and even\n",
    "digits of $num$, respectively.\n",
    "\n",
    "<font color = red><b> Correct <b></font>\n"
   ]
  },
  {
   "cell_type": "code",
   "execution_count": 1,
   "metadata": {},
   "outputs": [
    {
     "data": {
      "text/plain": [
       "(6, 14)"
      ]
     },
     "execution_count": 1,
     "metadata": {},
     "output_type": "execute_result"
    }
   ],
   "source": [
    "def sum_digits_OddEven(num):\n",
    "    a=str(num)\n",
    "    s1=0\n",
    "    s2=0\n",
    "    for i in range(len(a)):\n",
    "        if int(a[i])%2==0:\n",
    "            s1+=int(a[i])\n",
    "        if int(a[i])%2!=0:\n",
    "            s2+=int(a[i])\n",
    "    \n",
    "    return s1,s2\n",
    "    \n",
    "sum_digits_OddEven(956)    "
   ]
  },
  {
   "cell_type": "markdown",
   "metadata": {},
   "source": [
    "# Exercise 8\n",
    "\n",
    "The digital root of a positive number n is obtained as follows: Add up the digits n to get a new number.\n",
    "Add up the digits of that to get another new number. Keep doing this until you get a number\n",
    "that has only one digit. That number is the digital root.\n",
    "\n",
    "For example, if $n = 45893$, we add up the digits to get $$4 + 5 + 8 + 9 + 3 = 29.$$ We then add up\n",
    "the digits of $29$ to get $$2 + 9 = 11.$$ We then add up the digits of $11$ to get $$1 + 1 = 2.$$ Since 2 has\n",
    "only one digit, 2 is our digital root.\n",
    "\n",
    "Write a function called <b>digital_root</b> that returns the digital root of a given integer n.\n",
    "\n",
    "<font color = red><b> Correct <b></font>\n"
   ]
  },
  {
   "cell_type": "code",
   "execution_count": 2,
   "metadata": {},
   "outputs": [
    {
     "data": {
      "text/plain": [
       "2"
      ]
     },
     "execution_count": 2,
     "metadata": {},
     "output_type": "execute_result"
    }
   ],
   "source": [
    "def digital_root(n):\n",
    "    while n>=10 :\n",
    "        s=0\n",
    "        while n>=1:\n",
    "            q=n//10\n",
    "            r=n-10*q\n",
    "            n=q\n",
    "            s=s+r\n",
    "        n=s\n",
    "    return n\n",
    "digital_root(45893)"
   ]
  },
  {
   "cell_type": "markdown",
   "metadata": {},
   "source": [
    "# Exercise 9\n",
    "\n",
    "Write a function called <b>first_diff</b> that is given two strings and returns the first location in\n",
    "which the strings differ. If the strings are identical, it should return -1.\n",
    "\n",
    "<font color = red><b> incorrect, recheck please as it only output one integer no matter what the location the strings differ at. <b></font>\n"
   ]
  },
  {
   "cell_type": "code",
   "execution_count": 20,
   "metadata": {},
   "outputs": [
    {
     "data": {
      "text/plain": [
       "6"
      ]
     },
     "execution_count": 20,
     "metadata": {},
     "output_type": "execute_result"
    }
   ],
   "source": [
    "def first_diff(A,B):\n",
    "    s=0\n",
    "    if A==B:\n",
    "        return -1\n",
    "    else:\n",
    "        if len(B)<=len(A):\n",
    "            B,A=A,B\n",
    "            for i in range(len(A)):\n",
    "                 if B[i]!=A[i]:\n",
    "                    return i+1\n",
    "                 else:\n",
    "                    return len(A)+1\n",
    "first_diff('difff','dffff')   "
   ]
  },
  {
   "cell_type": "markdown",
   "metadata": {},
   "source": [
    "# Exercise 10\n",
    "\n",
    "Write a function called <b>number_of_factors</b> that takes a positive integer and returns how many factors the number has; and a list of its factors.\n",
    "\n",
    "<font color = red><b>Correct.</b></font>\n"
   ]
  },
  {
   "cell_type": "code",
   "execution_count": 1,
   "metadata": {},
   "outputs": [
    {
     "data": {
      "text/plain": [
       "(6, [18, 1, 2, 3, 6, 9])"
      ]
     },
     "execution_count": 1,
     "metadata": {},
     "output_type": "execute_result"
    }
   ],
   "source": [
    "def number_of_factors(n):\n",
    "    L=[n]\n",
    "    s=1\n",
    "    for i in range(1,n//2+1):\n",
    "        if n%i==0:\n",
    "            s=s+1\n",
    "            L+=[i]\n",
    "    return s, L\n",
    "number_of_factors(18)"
   ]
  },
  {
   "cell_type": "markdown",
   "metadata": {},
   "source": [
    "# Exercise 11.1\n",
    "\n",
    "Write a function called <b>closest</b> that takes a list of numbers $L$ and a number $n$ and returns\n",
    "the largest element in $L$ that is not larger than $n$. For instance, if $L=[1,6,3,9,11]$ and $n=8$,\n",
    "then the function should return $6$, because $6$ is the closest number in $L$ to $8$ that is not larger than\n",
    "$8$. If L is empty or all of the numbers in L are larger than n then return <b> No value of L is smaller than n</b>.\n",
    "\n",
    "\n",
    "<font color = red><b>Even though, you considered the case where $L$ is empty or all the numbers in $L$ are larger than $n$, your code is still not giving the expected output. The problem maybe on the for loops.</b></font>"
   ]
  },
  {
   "cell_type": "code",
   "execution_count": 9,
   "metadata": {},
   "outputs": [
    {
     "data": {
      "text/plain": [
       "('No value of L is smaller than', 6)"
      ]
     },
     "execution_count": 9,
     "metadata": {},
     "output_type": "execute_result"
    }
   ],
   "source": [
    "def closest(L,n):\n",
    "    max1=0\n",
    "    L.sort()\n",
    "    if L==[]:\n",
    "        return 'No value of L is smaller than',n\n",
    "    elif L[-1]>n:\n",
    "         return 'No value of L is smaller than',n\n",
    "    else:\n",
    "        for i in L:\n",
    "            for j in L:\n",
    "                if int(i)<=int(j)<=n:\n",
    "                    max1=int(j)\n",
    "    return max1                \n",
    "closest([69,15,67],6)                    "
   ]
  },
  {
   "cell_type": "markdown",
   "metadata": {},
   "source": [
    "# Exercise 11.2\n",
    "\n",
    "Write a function called <b> sort_ind</b> that takes a non empty and sorted list of numbers $L$ and a number $n$ and return and index $ind$ such that $L.insert(ind,n)$ gives a sorted list. Example: for $L=[2,4,7]$ and $n=5$, <b> sort_ind</b> must return 2 because $L.insert(2,5)$ return $[2,4,5,7]$\n",
    "\n",
    "Do not use the method <b>.sort()</b> or the function <b>sorted()</b>.\n",
    "\n",
    "<font color = red><b>When trying different example, the code doesn't work.</b></font>"
   ]
  },
  {
   "cell_type": "code",
   "execution_count": 21,
   "metadata": {},
   "outputs": [
    {
     "data": {
      "text/plain": [
       "2"
      ]
     },
     "execution_count": 21,
     "metadata": {},
     "output_type": "execute_result"
    }
   ],
   "source": [
    "# l=[2,4,7]\n",
    "# l.insert(3,5)\n",
    "# l\n",
    "def sort_ind(L,n):\n",
    "    for i in range(len(L)):\n",
    "        for j in range(len(L)):\n",
    "            if L[i]<n<L[j]:\n",
    "                c=j\n",
    "    return c\n",
    "sort_ind([2,4,7],5)            \n",
    "         "
   ]
  },
  {
   "cell_type": "markdown",
   "metadata": {},
   "source": [
    "# Exercise 11.3\n",
    "\n",
    "Using the above function <b> sort_ind</b>, write a function called <b>SortList</b> that returns a sorted list of a given list $L$.\n",
    "\n",
    "Do not use the method <b>.sort()</b> or the function <b>sorted()</b>.\n",
    " \n",
    "\n",
    "<font color = red><b>Recheck how you declare your list and how you assigned a value to the local variable.</b></font>"
   ]
  },
  {
   "cell_type": "code",
   "execution_count": 23,
   "metadata": {},
   "outputs": [
    {
     "ename": "UnboundLocalError",
     "evalue": "local variable 'c' referenced before assignment",
     "output_type": "error",
     "traceback": [
      "\u001b[1;31m---------------------------------------------------------------------------\u001b[0m",
      "\u001b[1;31mUnboundLocalError\u001b[0m                         Traceback (most recent call last)",
      "\u001b[1;32m<ipython-input-23-d31a4e811529>\u001b[0m in \u001b[0;36m<module>\u001b[1;34m\u001b[0m\n\u001b[0;32m      8\u001b[0m         \u001b[0ml\u001b[0m\u001b[1;33m.\u001b[0m\u001b[0minsert\u001b[0m\u001b[1;33m(\u001b[0m\u001b[0msort_ind\u001b[0m\u001b[1;33m(\u001b[0m\u001b[0mL\u001b[0m\u001b[1;33m,\u001b[0m\u001b[0mi\u001b[0m\u001b[1;33m)\u001b[0m\u001b[1;33m,\u001b[0m\u001b[0mi\u001b[0m\u001b[1;33m)\u001b[0m\u001b[1;33m\u001b[0m\u001b[1;33m\u001b[0m\u001b[0m\n\u001b[0;32m      9\u001b[0m     \u001b[1;32mreturn\u001b[0m \u001b[0ml\u001b[0m\u001b[1;33m\u001b[0m\u001b[1;33m\u001b[0m\u001b[0m\n\u001b[1;32m---> 10\u001b[1;33m \u001b[0mSortList\u001b[0m\u001b[1;33m(\u001b[0m\u001b[1;33m[\u001b[0m\u001b[1;36m4\u001b[0m\u001b[1;33m,\u001b[0m\u001b[1;36m6\u001b[0m\u001b[1;33m,\u001b[0m\u001b[1;36m3\u001b[0m\u001b[1;33m]\u001b[0m\u001b[1;33m)\u001b[0m\u001b[1;33m\u001b[0m\u001b[1;33m\u001b[0m\u001b[0m\n\u001b[0m",
      "\u001b[1;32m<ipython-input-23-d31a4e811529>\u001b[0m in \u001b[0;36mSortList\u001b[1;34m(L)\u001b[0m\n\u001b[0;32m      6\u001b[0m     \u001b[0ml\u001b[0m\u001b[1;33m=\u001b[0m\u001b[1;33m[\u001b[0m\u001b[1;33m]\u001b[0m\u001b[1;33m\u001b[0m\u001b[1;33m\u001b[0m\u001b[0m\n\u001b[0;32m      7\u001b[0m     \u001b[1;32mfor\u001b[0m \u001b[0mi\u001b[0m \u001b[1;32min\u001b[0m \u001b[0mrange\u001b[0m\u001b[1;33m(\u001b[0m\u001b[0mlen\u001b[0m\u001b[1;33m(\u001b[0m\u001b[0mL\u001b[0m\u001b[1;33m)\u001b[0m\u001b[1;33m)\u001b[0m\u001b[1;33m:\u001b[0m\u001b[1;33m\u001b[0m\u001b[1;33m\u001b[0m\u001b[0m\n\u001b[1;32m----> 8\u001b[1;33m         \u001b[0ml\u001b[0m\u001b[1;33m.\u001b[0m\u001b[0minsert\u001b[0m\u001b[1;33m(\u001b[0m\u001b[0msort_ind\u001b[0m\u001b[1;33m(\u001b[0m\u001b[0mL\u001b[0m\u001b[1;33m,\u001b[0m\u001b[0mi\u001b[0m\u001b[1;33m)\u001b[0m\u001b[1;33m,\u001b[0m\u001b[0mi\u001b[0m\u001b[1;33m)\u001b[0m\u001b[1;33m\u001b[0m\u001b[1;33m\u001b[0m\u001b[0m\n\u001b[0m\u001b[0;32m      9\u001b[0m     \u001b[1;32mreturn\u001b[0m \u001b[0ml\u001b[0m\u001b[1;33m\u001b[0m\u001b[1;33m\u001b[0m\u001b[0m\n\u001b[0;32m     10\u001b[0m \u001b[0mSortList\u001b[0m\u001b[1;33m(\u001b[0m\u001b[1;33m[\u001b[0m\u001b[1;36m4\u001b[0m\u001b[1;33m,\u001b[0m\u001b[1;36m6\u001b[0m\u001b[1;33m,\u001b[0m\u001b[1;36m3\u001b[0m\u001b[1;33m]\u001b[0m\u001b[1;33m)\u001b[0m\u001b[1;33m\u001b[0m\u001b[1;33m\u001b[0m\u001b[0m\n",
      "\u001b[1;32m<ipython-input-21-3c8be1189a62>\u001b[0m in \u001b[0;36msort_ind\u001b[1;34m(L, n)\u001b[0m\n\u001b[0;32m      7\u001b[0m             \u001b[1;32mif\u001b[0m \u001b[0mL\u001b[0m\u001b[1;33m[\u001b[0m\u001b[0mi\u001b[0m\u001b[1;33m]\u001b[0m\u001b[1;33m<\u001b[0m\u001b[0mn\u001b[0m\u001b[1;33m<\u001b[0m\u001b[0mL\u001b[0m\u001b[1;33m[\u001b[0m\u001b[0mj\u001b[0m\u001b[1;33m]\u001b[0m\u001b[1;33m:\u001b[0m\u001b[1;33m\u001b[0m\u001b[1;33m\u001b[0m\u001b[0m\n\u001b[0;32m      8\u001b[0m                 \u001b[0mc\u001b[0m\u001b[1;33m=\u001b[0m\u001b[0mj\u001b[0m\u001b[1;33m\u001b[0m\u001b[1;33m\u001b[0m\u001b[0m\n\u001b[1;32m----> 9\u001b[1;33m     \u001b[1;32mreturn\u001b[0m \u001b[0mc\u001b[0m\u001b[1;33m\u001b[0m\u001b[1;33m\u001b[0m\u001b[0m\n\u001b[0m\u001b[0;32m     10\u001b[0m \u001b[0msort_ind\u001b[0m\u001b[1;33m(\u001b[0m\u001b[1;33m[\u001b[0m\u001b[1;36m2\u001b[0m\u001b[1;33m,\u001b[0m\u001b[1;36m4\u001b[0m\u001b[1;33m,\u001b[0m\u001b[1;36m7\u001b[0m\u001b[1;33m]\u001b[0m\u001b[1;33m,\u001b[0m\u001b[1;36m5\u001b[0m\u001b[1;33m)\u001b[0m\u001b[1;33m\u001b[0m\u001b[1;33m\u001b[0m\u001b[0m\n\u001b[0;32m     11\u001b[0m \u001b[1;33m\u001b[0m\u001b[0m\n",
      "\u001b[1;31mUnboundLocalError\u001b[0m: local variable 'c' referenced before assignment"
     ]
    }
   ],
   "source": [
    "#def SortList(L):\n",
    "# a=[4,7,0,5,3]\n",
    "# a.insert(0,8)\n",
    "# a\n",
    "def SortList(L):\n",
    "    l=[]\n",
    "    for i in range(len(L)):\n",
    "        l.insert(sort_ind(L,i),i)\n",
    "    return l\n",
    "SortList([4,6,3])    "
   ]
  },
  {
   "cell_type": "markdown",
   "metadata": {},
   "source": [
    "# Exercise 12\n",
    "\n",
    "Write a function called <b>matches</b> that takes two strings as arguments and returns how many\n",
    "matches there are between the strings. A match is where the two strings have the same character\n",
    "at the same index. For instance, <b>'python'</b> and <b>'path'</b> match in the first, third, and\n",
    "fourth characters, so the function should return <b>3</b>.\n",
    "\n",
    "<font color = red><b>Correct. </b></font>"
   ]
  },
  {
   "cell_type": "code",
   "execution_count": 38,
   "metadata": {},
   "outputs": [
    {
     "data": {
      "text/plain": [
       "3"
      ]
     },
     "execution_count": 38,
     "metadata": {},
     "output_type": "execute_result"
    }
   ],
   "source": [
    "def matches(Z,Y):\n",
    "    s=0\n",
    "    if len(Y)<=len(Z):\n",
    "        Y,Z=Z,Y\n",
    "    for i in range(len(Z)):\n",
    "        if Z[i]==Y[i]:\n",
    "            s=s+1\n",
    "    return s\n",
    "matches('python','path')"
   ]
  },
  {
   "cell_type": "markdown",
   "metadata": {},
   "source": [
    "# Exercise 13\n",
    "\n",
    "Recall that if <b>s</b> is a string, then <b>s.find('a')</b> will find the location of the first a in <b>s</b>. The\n",
    "problem is that it does not find the location of every a. Write a function called <b>findall</b> that\n",
    "given a string and a single character, returns a list containing all of the locations of that character\n",
    "in the string. It should return an empty list if there are no occurrences of the character\n",
    "in the string.\n",
    "\n",
    "<font color = red><b>Correct. </b></font>"
   ]
  },
  {
   "cell_type": "code",
   "execution_count": 34,
   "metadata": {},
   "outputs": [
    {
     "data": {
      "text/plain": [
       "[1, 2]"
      ]
     },
     "execution_count": 34,
     "metadata": {},
     "output_type": "execute_result"
    }
   ],
   "source": [
    "# a='google'\n",
    "# a.find('g')\n",
    "def findall(z,o):\n",
    "    L=[]\n",
    "    for i in range(len(z)):\n",
    "        if z[i]==o:\n",
    "            L+=[i]\n",
    "    return L\n",
    "findall('google','o')"
   ]
  },
  {
   "cell_type": "markdown",
   "metadata": {},
   "source": [
    "# Exercise 14\n",
    "\n",
    "1. Write a function called <b>primes</b> that is given a positive integer $n$ and returns a list of the first $n$ primes. Let the default value of $n$ be $100$.\n",
    "\n",
    "2. Write the function <b>primes_start</b> by modifying the function above so that there is an optional argument called start that allows the list to start at a value other than 2. The function should return the first n primes that are greater than or equal to start. The default value of start should be 2.\n",
    "\n",
    "\n",
    "<font color = red><b>You were asked to use defaults values in both questions.  Also, in the first question, you were asked to return a list of the first $n$ primes not the list of primes less than $n$.The second question is supposed take two inputs. </b></font>"
   ]
  },
  {
   "cell_type": "code",
   "execution_count": 3,
   "metadata": {},
   "outputs": [
    {
     "data": {
      "text/plain": [
       "[2, 3, 5, 7, 11, 13, 17, 19, 23, 29]"
      ]
     },
     "execution_count": 3,
     "metadata": {},
     "output_type": "execute_result"
    }
   ],
   "source": [
    "def listprime(n):\n",
    "    L=[]\n",
    "    for p in range(2,n+1):\n",
    "        s=0\n",
    "        for i in range(2,p//2+1):\n",
    "            if p%i==0:\n",
    "                s+=i\n",
    "        if s==0:\n",
    "            L+=[p]\n",
    "    return L \n",
    "\n",
    "def primes(n):\n",
    "    L=listprime(600)  ## What do you have 600 here?\n",
    "    l=[]\n",
    "    for i in range(n):\n",
    "        l.append(L[i])\n",
    "    return l\n",
    "primes(10)"
   ]
  },
  {
   "cell_type": "markdown",
   "metadata": {},
   "source": [
    "# Exercise 16\n",
    "\n",
    "For any integer $n>0$ and a prime number $p$, define $\\nu_p(n)$ as the greaters integer $r$ such that $p^r$ divides $n$.\n",
    "Define $$ D(n,m) = \\sum_{p\\; prime} \\Bigl| \\nu_p(n) - \\nu_p(m)\\Bigr| $$\n",
    "\n",
    "For example $D(14,24)=4$.\n",
    "\n",
    "Furthermore, define\n",
    "\n",
    "$$S(N)  = \\sum_{n=1}^{N}\\sum_{m=1}^{N}D(n,m).$$\n",
    "\n",
    "You are given $S(10)=210$ and $S(10^2)$ = 37018.\n",
    "\n",
    "Find $S(10^3)$.\n",
    "\n",
    "<font color = red><b>Correct. </b></font>"
   ]
  },
  {
   "cell_type": "code",
   "execution_count": 6,
   "metadata": {},
   "outputs": [
    {
     "data": {
      "text/plain": [
       "4"
      ]
     },
     "execution_count": 6,
     "metadata": {},
     "output_type": "execute_result"
    }
   ],
   "source": [
    "def val(n,p):\n",
    "    L=[]\n",
    "    for i in range(n):\n",
    "        if n%(p**i)==0:\n",
    "            L+=[i]\n",
    "    return L[-1] \n",
    "\n",
    "def listprime(n):\n",
    "    L=[]\n",
    "    for p in range(2,n+1):\n",
    "        s=0\n",
    "        for i in range(2,p//2+1):\n",
    "            if p%i==0:\n",
    "                s+=i\n",
    "        if s==0:\n",
    "            L+=[p]\n",
    "    return L    \n",
    "     \n",
    "\n",
    "def dump(n,m):\n",
    "    list_prime=listprime(100)\n",
    "    S=0\n",
    "    for i in list_prime:\n",
    "        S+=abs(val(n,i)-val(m,i))\n",
    "    return S\n",
    "\n",
    "def s(N):\n",
    "    s=0\n",
    "    for i in range(1,N+1):\n",
    "        for j in range(1,N+1):\n",
    "            s=s+dump(i,j)\n",
    "    return s\n",
    "s(1000)\n"
   ]
  },
  {
   "cell_type": "markdown",
   "metadata": {},
   "source": [
    "# Exercise 17\n",
    "\n",
    "$\\text{Exercise 1}$\n",
    "\n",
    "Write a Python code to compute and display the integrals bellow using the Python function $quad$\n",
    "$$A = \\int_{0}^{2} \\dfrac{x^3+5x-20}{x^2+3}dx$$\n",
    "\n",
    "$$B = \\int_{3}^{5} \\bigg(x-\\frac{1}{3}\\bigg)\\sqrt{x^4-3}dx$$\n",
    "\n",
    "\n",
    "<font color = red><b>Correct. But the first term is divided by the second term and also the format of the output for the both integrals are not very good. </b></font>"
   ]
  },
  {
   "cell_type": "code",
   "execution_count": 4,
   "metadata": {},
   "outputs": [
    {
     "name": "stdout",
     "output_type": "stream",
     "text": [
      "the value of A is -100.666667(+-1)1.11762e-12\n"
     ]
    }
   ],
   "source": [
    "from scipy.integrate import quad\n",
    "def f(x):\n",
    "    return (x**3+5*x-20)*(x**2+3) # It is the first term divided by the second term\n",
    "r, e = quad(f, 0, 2)\n",
    "print('the value of A is {:f}(+-1){:g}'.format(r,e))"
   ]
  },
  {
   "cell_type": "code",
   "execution_count": 37,
   "metadata": {},
   "outputs": [
    {
     "name": "stdout",
     "output_type": "stream",
     "text": [
      "the value of A is 124.408773(+-1)1.38121e-12\n"
     ]
    }
   ],
   "source": [
    "from scipy.integrate import quad\n",
    "def f(x):\n",
    "    return (x-1/3)*(x**4-3)**(1/2)\n",
    "r, e = quad(f, 3, 5)\n",
    "print('the value of A is {:f}(+-1){:g}'.format(r,e))"
   ]
  },
  {
   "cell_type": "markdown",
   "metadata": {},
   "source": [
    "# Exercise 18\n",
    "\n",
    "1. Write code to solve the following system of ordinary differential equations using the Python function odeint.\n",
    "\n",
    "$$\n",
    "\\begin{cases}\n",
    "\\dfrac{dx_1}{dt}& = & -\\dfrac{1}{2}x_1\\\\\\\\\n",
    "\\dfrac{dx_2}{dt}& = & \\dfrac{1}{2}x_1-\\dfrac{1}{4}x_2\\\\\\\\\n",
    "\\dfrac{dx_3}{dt}& = & \\dfrac{1}{4}x_2-\\dfrac{1}{6}x_3\n",
    "\\end{cases}, \\text{ on } [0,4]\n",
    "$$\n",
    "\n",
    "Subject to the initial conditions $x_1(0) = 1, x_2(0) = 1, x_3(0) = 1$.\n",
    "\n",
    "\n",
    "<font color = red><b>Correct. But the instruction is to solve the system. Not plotting it.</b></font>"
   ]
  },
  {
   "cell_type": "code",
   "execution_count": 8,
   "metadata": {},
   "outputs": [
    {
     "data": {
      "image/png": "[encoded data removed]",
      "text/plain": [
       "<Figure size 432x288 with 1 Axes>"
      ]
     },
     "metadata": {
      "needs_background": "light"
     },
     "output_type": "display_data"
    }
   ],
   "source": [
    "import numpy as np\n",
    "from scipy.integrate import odeint\n",
    "import matplotlib.pyplot as plt\n",
    "\n",
    "# function that returns dz/dt\n",
    "def model(z,t,u):\n",
    "    x = z[0]\n",
    "    y = z[1]\n",
    "    x3 = z[2]\n",
    "    dxdt = -1/2 *x\n",
    "    dydt = 1/2*x-1/4 *y\n",
    "    dx3dt = 1/4 *x-1/6*y\n",
    "    dzdt = [dxdt,dydt,dx3dt]\n",
    "    return dzdt\n",
    "\n",
    "# initial condition\n",
    "z0 = [1,1,1]\n",
    "\n",
    "# number of time points\n",
    "n = 401\n",
    "\n",
    "# time points\n",
    "t = np.linspace(0,4,n)\n",
    "\n",
    "# step input\n",
    "u = np.zeros(n)\n",
    "# change to 2.0 at time = 5.0\n",
    "u[51:] = 2.0\n",
    "\n",
    "# store solution\n",
    "x = np.empty_like(t)\n",
    "y = np.empty_like(t)\n",
    "x3 = np.empty_like(t)\n",
    "# record initial conditions\n",
    "x[0] = z0[0]\n",
    "y[0] = z0[1]\n",
    "x3[0] = z0[2]\n",
    "\n",
    "# solve ODE\n",
    "for i in range(1,n):\n",
    "    # span for next time step\n",
    "    tspan = [t[i-1],t[i]]\n",
    "    # solve for next step\n",
    "    z = odeint(model,z0,tspan,args=(u[i],))\n",
    "    # store solution for plotting\n",
    "    x[i] = z[1][0]\n",
    "    y[i] = z[1][1]\n",
    "    x3[i] = z[1][2]\n",
    "    # next initial condition\n",
    "    z0 = z[1]\n",
    "\n",
    "# plot results\n",
    "#plt.plot(t,u,'g:',label='u(t)')\n",
    "plt.plot(t,x,'b-',label='x1(t)')\n",
    "plt.plot(t,y,'r--',label='x2(t)')\n",
    "plt.plot(t,x3,'y--', label='x3(t)')\n",
    "plt.ylabel('values')\n",
    "plt.xlabel('time')\n",
    "plt.legend(loc='best')\n",
    "plt.show()"
   ]
  },
  {
   "cell_type": "markdown",
   "metadata": {},
   "source": [
    "2. The exact solution of the above system of ODEs is given by\n",
    "\n",
    "$$\n",
    "\\begin{cases}\n",
    "x_1(t)& = & e^{-t/2}\\\\\n",
    "x_2(t)& = & -2e^{-t/2}+3e^{-t/4}\\\\\n",
    "x_3(t)& = & \\dfrac{3}{2}e^{-t/2} - 9e^{-t/4} + \\dfrac{17}{2}e^{-t/6}\n",
    "\\end{cases}\n",
    "$$\n",
    "\n",
    "Use $Subplot$ to plot side by side\n",
    "\n",
    "- each exact and approximate solution in the same window\n",
    "- and their absolute error vs the time \n",
    "\n",
    "\n",
    "<font color = red><b>You did not do the absolute error vs time. Do some exercises on how to manipulate plt, to avoid empty graph.</b></font>"
   ]
  },
  {
   "cell_type": "code",
   "execution_count": 79,
   "metadata": {},
   "outputs": [
    {
     "data": {
      "text/plain": [
       "[<matplotlib.lines.Line2D at 0x7fb2a67b3e80>]"
      ]
     },
     "execution_count": 79,
     "metadata": {},
     "output_type": "execute_result"
    },
    {
     "data": {
      "image/png": "[encoded data removed]",
      "text/plain": [
       "<Figure size 432x288 with 4 Axes>"
      ]
     },
     "metadata": {
      "needs_background": "light"
     },
     "output_type": "display_data"
    }
   ],
   "source": [
    "import matplotlib.pyplot as plt\n",
    "import numpy as np\n",
    "from math import exp\n",
    "\n",
    "x=0\n",
    "y=0\n",
    "x1 = np.linspace(0, 10, 1000)\n",
    "figure, axes = plt.subplots(nrows=2, ncols=2)\n",
    "axes[0, 0].plot(x1, np.exp(-1*x1/2))\n",
    "axes[0, 1].plot(x1, np.exp(-1*x1/2)*(-2)+np.exp(-1*x1/4)*3)\n",
    "axes[1, 0].plot(x1, np.exp(-1*x1/2)*(3/2)+np.exp(-1*x1/4)*9+np.exp(-1*x1/6)*17/2)"
   ]
  },
  {
   "cell_type": "code",
   "execution_count": null,
   "metadata": {},
   "outputs": [],
   "source": []
  },
  {
   "cell_type": "code",
   "execution_count": null,
   "metadata": {},
   "outputs": [],
   "source": []
  }
 ],
 "metadata": {
  "kernelspec": {
   "display_name": "Python 3",
   "language": "python",
   "name": "python3"
  },
  "language_info": {
   "codemirror_mode": {
    "name": "ipython",
    "version": 3
   },
   "file_extension": ".py",
   "mimetype": "text/x-python",
   "name": "python",
   "nbconvert_exporter": "python",
   "pygments_lexer": "ipython3",
   "version": "3.9.2"
  }
 },
 "nbformat": 4,
 "nbformat_minor": 4
}
