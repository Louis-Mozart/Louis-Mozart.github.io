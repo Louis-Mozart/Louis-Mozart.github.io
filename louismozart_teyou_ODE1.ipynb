{
 "cells": [
  {
   "cell_type": "markdown",
   "id": "academic-treaty",
   "metadata": {},
   "source": [
    "### Exercise 7 : (Entirely in Jupyter notebook) Let us consider the initial value problem\n",
    " \n",
    "\ty\"+5y'-6y=0  y(0)=2,  y'(0)=3    (7)\n",
    " #### 1. Find the exact solution, $ y $, of equation (7)"
   ]
  },
  {
   "cell_type": "markdown",
   "id": "vocational-television",
   "metadata": {},
   "source": [
    " equation (7) is a second order ODE with constant coefficient and without second member. his caracteristique equation is given by:\n",
    " \\begin{align*}\n",
    " \tr^{2}+5r-6=0\n",
    " \\end{align*}\n",
    " let solve this equation:\n",
    " \\begin{align*}\n",
    " \tr^{2}+5r-6=0&\\implies (r-1)(r+6)=0\\\\&\\implies r=-6 \\quad ou\\quad r=-1\n",
    " \\end{align*}\n",
    " We have two real solutions which mean that the general solution of equation (7)}is:\n",
    " \\begin{align*}\n",
    " \ty(x)=Ae^{x}+Be^{-6x}; \\qquad A, B\\in\\mathbb{R}\n",
    " \\end{align*}\n",
    " Now to find $A$ and $B$, we have:\n",
    " \\begin{align*}\n",
    " \t\\begin{cases}\n",
    " \t\ty(0)=2\\\\\n",
    " \t\ty'(0)=3\t\n",
    " \t\\end{cases}\n",
    " \\end{align*}\n",
    " And $y'(x)=Ae^{x}-6Be^{-6x}$ ie $y'(0)=A-6B$ this give the system:\n",
    " \\begin{align*}\n",
    " \t\\begin{cases}\n",
    " \t\tA-6B=3\\\\A+B=2\n",
    " \t\\end{cases}\n",
    " \\end{align*}\n",
    " Solving this give:$\\begin{cases}\n",
    " \tA=\\dfrac{15}{7}\\\\B=\\dfrac{-1}{7}\n",
    " \\end{cases}$\\\\\n",
    " The Solution of (7) is then \\begin{align*}\n",
    " \ty(x)=\\dfrac{15}{7}e^{x}+\\dfrac{-1}{7}e^{-6x}\n",
    " \\end{align*} \n",
    "  "
   ]
  },
  {
   "cell_type": "markdown",
   "id": "lyric-macedonia",
   "metadata": {},
   "source": [
    "### Compare graphically on the interval [0, 1], your exact solution against both numericalsolutions obtained with\n",
    "##### a.Python in-built function odeint,\n",
    "##### b.your own python function based on the fourth order Runge-Kutta method (RK4), and a space step size $h = 10^{-2}$\n"
   ]
  },
  {
   "cell_type": "markdown",
   "id": "attached-privilege",
   "metadata": {},
   "source": [
    " Let $u=y$ and $v=y'$ then equation (7) is equivalent to the following system:\n",
    "\t$ \\begin{cases}\n",
    "\t \\dfrac{dv}{dx}=6u-5v\\\\\n",
    "\t \\dfrac{du}{dx}=v\n",
    "\t\\end{cases}\\qquad u(0)=2\\quad v(0)=3$"
   ]
  },
  {
   "cell_type": "markdown",
   "id": "regulated-firmware",
   "metadata": {},
   "source": [
    "### let plot the solutions (numerical and exact) using Python in-built function odeint,"
   ]
  },
  {
   "cell_type": "code",
   "execution_count": 34,
   "id": "incorporate-destination",
   "metadata": {},
   "outputs": [
    {
     "data": {
      "text/plain": [
       "[<matplotlib.lines.Line2D at 0x7f2958b50370>]"
      ]
     },
     "execution_count": 34,
     "metadata": {},
     "output_type": "execute_result"
    },
    {
     "data": {
      "image/png": "[encoded data removed]",
      "text/plain": [
       "<Figure size 432x288 with 1 Axes>"
      ]
     },
     "metadata": {
      "needs_background": "light"
     },
     "output_type": "display_data"
    }
   ],
   "source": [
    "import numpy as np\n",
    "from scipy.integrate import odeint\n",
    "import matplotlib.pyplot as plt\n",
    "\n",
    "\n",
    "\n",
    "# function that returns dz/dt\n",
    "def model(z,x):\n",
    "    u,v = z\n",
    "    dvdx = 6*u-5*v\n",
    "    dudx = v\n",
    "    return dvdx,dudx\n",
    "\n",
    "# initial condition\n",
    "z0 = [3,2]\n",
    "\n",
    "# time points\n",
    "a = 0\n",
    "b = 1\n",
    "N = 100\n",
    "x = np.linspace(a,b,N+1)\n",
    "\n",
    "# solve ODE\n",
    "z = odeint(model,z0,x)\n",
    "y=15/7*np.exp(x)-1/7*np.exp(-6*x)\n",
    "v = z[:,0]\n",
    "u = z[:,1]\n",
    "#plt.subplot(2,1,1)\n",
    "plt.plot(x,u,'r-');\n",
    "#plt.title('numerical solution')\n",
    "#plt.subplot(2,1,2)\n",
    "#plt.title('exact solution')\n",
    "plt.plot(x,y)"
   ]
  },
  {
   "cell_type": "markdown",
   "id": "earlier-wagon",
   "metadata": {},
   "source": [
    " ### Now we use RK4"
   ]
  },
  {
   "cell_type": "code",
   "execution_count": 32,
   "id": "musical-translation",
   "metadata": {},
   "outputs": [
    {
     "ename": "TypeError",
     "evalue": "'int' object is not subscriptable",
     "output_type": "error",
     "traceback": [
      "\u001b[0;31m---------------------------------------------------------------------------\u001b[0m",
      "\u001b[0;31mTypeError\u001b[0m                                 Traceback (most recent call last)",
      "\u001b[0;32m<ipython-input-32-a59e0a54a05b>\u001b[0m in \u001b[0;36m<module>\u001b[0;34m\u001b[0m\n\u001b[1;32m     10\u001b[0m \u001b[0;34m\u001b[0m\u001b[0m\n\u001b[1;32m     11\u001b[0m \u001b[0;34m\u001b[0m\u001b[0m\n\u001b[0;32m---> 12\u001b[0;31m \u001b[0mf\u001b[0m\u001b[0;34m(\u001b[0m\u001b[0;36m9\u001b[0m\u001b[0;34m,\u001b[0m\u001b[0;36m3\u001b[0m\u001b[0;34m)\u001b[0m\u001b[0;34m\u001b[0m\u001b[0;34m\u001b[0m\u001b[0m\n\u001b[0m\u001b[1;32m     13\u001b[0m \u001b[0;34m\u001b[0m\u001b[0m\n\u001b[1;32m     14\u001b[0m \u001b[0;31m# h=1/100  # h=10^{-2}\u001b[0m\u001b[0;34m\u001b[0m\u001b[0;34m\u001b[0m\u001b[0;34m\u001b[0m\u001b[0m\n",
      "\u001b[0;32m<ipython-input-32-a59e0a54a05b>\u001b[0m in \u001b[0;36mf\u001b[0;34m(l, t)\u001b[0m\n\u001b[1;32m      2\u001b[0m \u001b[0mv0\u001b[0m\u001b[0;34m=\u001b[0m\u001b[0;36m3\u001b[0m\u001b[0;34m\u001b[0m\u001b[0;34m\u001b[0m\u001b[0m\n\u001b[1;32m      3\u001b[0m \u001b[0;32mdef\u001b[0m \u001b[0mf\u001b[0m\u001b[0;34m(\u001b[0m\u001b[0ml\u001b[0m\u001b[0;34m,\u001b[0m\u001b[0mt\u001b[0m\u001b[0;34m)\u001b[0m\u001b[0;34m:\u001b[0m\u001b[0;34m\u001b[0m\u001b[0;34m\u001b[0m\u001b[0m\n\u001b[0;32m----> 4\u001b[0;31m     \u001b[0mu1\u001b[0m\u001b[0;34m=\u001b[0m\u001b[0ml\u001b[0m\u001b[0;34m[\u001b[0m\u001b[0;36m0\u001b[0m\u001b[0;34m]\u001b[0m\u001b[0;34m\u001b[0m\u001b[0;34m\u001b[0m\u001b[0m\n\u001b[0m\u001b[1;32m      5\u001b[0m     \u001b[0mu2\u001b[0m\u001b[0;34m=\u001b[0m\u001b[0ml\u001b[0m\u001b[0;34m[\u001b[0m\u001b[0;36m1\u001b[0m\u001b[0;34m]\u001b[0m\u001b[0;34m\u001b[0m\u001b[0;34m\u001b[0m\u001b[0m\n\u001b[1;32m      6\u001b[0m     \u001b[0mdu1dt\u001b[0m\u001b[0;34m=\u001b[0m\u001b[0mu2\u001b[0m\u001b[0;34m\u001b[0m\u001b[0;34m\u001b[0m\u001b[0m\n",
      "\u001b[0;31mTypeError\u001b[0m: 'int' object is not subscriptable"
     ]
    }
   ],
   "source": [
    "u0=2\n",
    "v0=3\n",
    "def f(l,t):\n",
    "    u1=l[0]\n",
    "    u2=l[1]\n",
    "    du1dt=u2\n",
    "    du2dt=-5*u2+6*u1\n",
    "    return np.array([du1dt,du2dt])\n",
    "\n",
    "\n",
    "\n",
    "\n",
    "\n",
    "h=1/100  # h=10^{-2}\n",
    "t=np.linspace(a,b,N+1)\n",
    "z=np.zeros((N+1,2))\n",
    "z[1]=[v0,u0]\n",
    "for k in range(N):\n",
    "    k1=f(t[k],z[k])\n",
    "    k2=f(t[k]+h/2,z[k]+h/2*k1)\n",
    "    k3=f(t[k]+h/2,z[k]+h/2*k2)\n",
    "    k4=f(t[k]+h,z[k])+h*k3\n",
    "    z[k+1]=z[k]+h/6*(k1+2*k2+2*k3+k4)\n",
    "\n",
    "#plt.subplot(2,1,1)\n",
    "plt.plot(t,z,'r-');\n",
    "#plt.title('RK4 solution')\n",
    "#plt.subplot(2,1,2)\n",
    "#plt.title('exact solution')\n",
    "plt.plot(x,y); \n"
   ]
  },
  {
   "cell_type": "code",
   "execution_count": 29,
   "id": "appreciated-athletics",
   "metadata": {},
   "outputs": [
    {
     "ename": "IndexError",
     "evalue": "invalid index to scalar variable.",
     "output_type": "error",
     "traceback": [
      "\u001b[0;31m---------------------------------------------------------------------------\u001b[0m",
      "\u001b[0;31mIndexError\u001b[0m                                Traceback (most recent call last)",
      "\u001b[0;32m<ipython-input-29-62eb75f40c15>\u001b[0m in \u001b[0;36m<module>\u001b[0;34m\u001b[0m\n\u001b[1;32m     13\u001b[0m \u001b[0mz\u001b[0m\u001b[0;34m[\u001b[0m\u001b[0;36m1\u001b[0m\u001b[0;34m,\u001b[0m\u001b[0;34m:\u001b[0m\u001b[0;34m]\u001b[0m\u001b[0;34m=\u001b[0m\u001b[0;34m[\u001b[0m\u001b[0mv0\u001b[0m\u001b[0;34m,\u001b[0m\u001b[0mu0\u001b[0m\u001b[0;34m]\u001b[0m\u001b[0;34m\u001b[0m\u001b[0;34m\u001b[0m\u001b[0m\n\u001b[1;32m     14\u001b[0m \u001b[0;32mfor\u001b[0m \u001b[0mk\u001b[0m \u001b[0;32min\u001b[0m \u001b[0mrange\u001b[0m\u001b[0;34m(\u001b[0m\u001b[0mN\u001b[0m\u001b[0;34m)\u001b[0m\u001b[0;34m:\u001b[0m\u001b[0;34m\u001b[0m\u001b[0;34m\u001b[0m\u001b[0m\n\u001b[0;32m---> 15\u001b[0;31m     \u001b[0mk1\u001b[0m\u001b[0;34m=\u001b[0m\u001b[0mf\u001b[0m\u001b[0;34m(\u001b[0m\u001b[0mt\u001b[0m\u001b[0;34m[\u001b[0m\u001b[0mk\u001b[0m\u001b[0;34m]\u001b[0m\u001b[0;34m,\u001b[0m\u001b[0mz\u001b[0m\u001b[0;34m[\u001b[0m\u001b[0mk\u001b[0m\u001b[0;34m,\u001b[0m\u001b[0;34m:\u001b[0m\u001b[0;34m]\u001b[0m\u001b[0;34m)\u001b[0m\u001b[0;34m\u001b[0m\u001b[0;34m\u001b[0m\u001b[0m\n\u001b[0m\u001b[1;32m     16\u001b[0m     \u001b[0mk2\u001b[0m\u001b[0;34m=\u001b[0m\u001b[0mf\u001b[0m\u001b[0;34m(\u001b[0m\u001b[0mt\u001b[0m\u001b[0;34m[\u001b[0m\u001b[0mk\u001b[0m\u001b[0;34m]\u001b[0m\u001b[0;34m+\u001b[0m\u001b[0mh\u001b[0m\u001b[0;34m/\u001b[0m\u001b[0;36m2\u001b[0m\u001b[0;34m,\u001b[0m\u001b[0mz\u001b[0m\u001b[0;34m[\u001b[0m\u001b[0mk\u001b[0m\u001b[0;34m,\u001b[0m\u001b[0;34m:\u001b[0m\u001b[0;34m]\u001b[0m\u001b[0;34m+\u001b[0m\u001b[0mh\u001b[0m\u001b[0;34m/\u001b[0m\u001b[0;36m2\u001b[0m\u001b[0;34m*\u001b[0m\u001b[0mk1\u001b[0m\u001b[0;34m)\u001b[0m\u001b[0;34m\u001b[0m\u001b[0;34m\u001b[0m\u001b[0m\n\u001b[1;32m     17\u001b[0m     \u001b[0mk3\u001b[0m\u001b[0;34m=\u001b[0m\u001b[0mf\u001b[0m\u001b[0;34m(\u001b[0m\u001b[0mt\u001b[0m\u001b[0;34m[\u001b[0m\u001b[0mk\u001b[0m\u001b[0;34m]\u001b[0m\u001b[0;34m+\u001b[0m\u001b[0mh\u001b[0m\u001b[0;34m/\u001b[0m\u001b[0;36m2\u001b[0m\u001b[0;34m,\u001b[0m\u001b[0mz\u001b[0m\u001b[0;34m[\u001b[0m\u001b[0mk\u001b[0m\u001b[0;34m,\u001b[0m\u001b[0;34m:\u001b[0m\u001b[0;34m]\u001b[0m\u001b[0;34m+\u001b[0m\u001b[0mh\u001b[0m\u001b[0;34m/\u001b[0m\u001b[0;36m2\u001b[0m\u001b[0;34m*\u001b[0m\u001b[0mk2\u001b[0m\u001b[0;34m)\u001b[0m\u001b[0;34m\u001b[0m\u001b[0;34m\u001b[0m\u001b[0m\n",
      "\u001b[0;32m<ipython-input-29-62eb75f40c15>\u001b[0m in \u001b[0;36mf\u001b[0;34m(l, t)\u001b[0m\n\u001b[1;32m      2\u001b[0m \u001b[0mv0\u001b[0m\u001b[0;34m=\u001b[0m\u001b[0;36m3\u001b[0m\u001b[0;34m\u001b[0m\u001b[0;34m\u001b[0m\u001b[0m\n\u001b[1;32m      3\u001b[0m \u001b[0;32mdef\u001b[0m \u001b[0mf\u001b[0m\u001b[0;34m(\u001b[0m\u001b[0ml\u001b[0m\u001b[0;34m,\u001b[0m\u001b[0mt\u001b[0m\u001b[0;34m)\u001b[0m\u001b[0;34m:\u001b[0m\u001b[0;34m\u001b[0m\u001b[0;34m\u001b[0m\u001b[0m\n\u001b[0;32m----> 4\u001b[0;31m     \u001b[0mu1\u001b[0m\u001b[0;34m=\u001b[0m\u001b[0ml\u001b[0m\u001b[0;34m[\u001b[0m\u001b[0;36m0\u001b[0m\u001b[0;34m]\u001b[0m\u001b[0;34m\u001b[0m\u001b[0;34m\u001b[0m\u001b[0m\n\u001b[0m\u001b[1;32m      5\u001b[0m     \u001b[0mu2\u001b[0m\u001b[0;34m=\u001b[0m\u001b[0ml\u001b[0m\u001b[0;34m[\u001b[0m\u001b[0;36m1\u001b[0m\u001b[0;34m]\u001b[0m\u001b[0;34m\u001b[0m\u001b[0;34m\u001b[0m\u001b[0m\n\u001b[1;32m      6\u001b[0m     \u001b[0mdu1dt\u001b[0m\u001b[0;34m=\u001b[0m\u001b[0mu2\u001b[0m\u001b[0;34m\u001b[0m\u001b[0;34m\u001b[0m\u001b[0m\n",
      "\u001b[0;31mIndexError\u001b[0m: invalid index to scalar variable."
     ]
    }
   ],
   "source": [
    "u0=2\n",
    "v0=3\n",
    "def f(l,t):\n",
    "    u1=l[0]\n",
    "    u2=l[1]\n",
    "    du1dt=u2\n",
    "    du2dt=-5*u2+6*u1\n",
    "    return np.array([du1dt,du2dt])\n",
    "\n",
    "h=1/100  # h=10^{-2}\n",
    "t=np.linspace(a,b,N+1)\n",
    "z=np.zeros((N+1,2))\n",
    "z[1,:]=[v0,u0]\n",
    "for k in range(N):\n",
    "    k1=f(t[k],z[k,:])     \n",
    "    k2=f(t[k]+h/2,z[k,:]+h/2*k1)\n",
    "    k3=f(t[k]+h/2,z[k,:]+h/2*k2)\n",
    "    k4=f(t[k]+h,z[k,:])+h*k3\n",
    "    z[k+1,:]=z[k,:]+h/6*(k1+2*k2+2*k3+k4)\n",
    "    \n",
    "#plt.subplot(2,1,1)\n",
    "plt.plot(t,z,'r-');\n",
    "#plt.title('RK4 solution')\n",
    "#plt.subplot(2,1,2)\n",
    "#plt.title('exact solution')\n",
    "plt.plot(x,y); \n"
   ]
  },
  {
   "cell_type": "markdown",
   "id": "ancient-membrane",
   "metadata": {},
   "source": [
    "### Order of convergence"
   ]
  },
  {
   "cell_type": "code",
   "execution_count": 121,
   "id": "statistical-complaint",
   "metadata": {},
   "outputs": [
    {
     "data": {
      "image/png": "[encoded data removed]",
      "text/plain": [
       "<Figure size 432x288 with 1 Axes>"
      ]
     },
     "metadata": {
      "needs_background": "light"
     },
     "output_type": "display_data"
    }
   ],
   "source": [
    "H=[1/10,1/100,1/1000,1/10000,1/100000]\n",
    "errk4=abs(y.reshape(-1,1)-z)\n",
    "erod=abs(y.reshape(-1,1)-u.reshape(-1,1))\n",
    "plt.plot(t,erod,'--');\n",
    "plt.plot(t,errk4);"
   ]
  },
  {
   "cell_type": "code",
   "execution_count": null,
   "id": "historical-advertiser",
   "metadata": {},
   "outputs": [],
   "source": []
  }
 ],
 "metadata": {
  "kernelspec": {
   "display_name": "Python 3",
   "language": "python",
   "name": "python3"
  },
  "language_info": {
   "codemirror_mode": {
    "name": "ipython",
    "version": 3
   },
   "file_extension": ".py",
   "mimetype": "text/x-python",
   "name": "python",
   "nbconvert_exporter": "python",
   "pygments_lexer": "ipython3",
   "version": "3.9.2"
  }
 },
 "nbformat": 4,
 "nbformat_minor": 5
}
