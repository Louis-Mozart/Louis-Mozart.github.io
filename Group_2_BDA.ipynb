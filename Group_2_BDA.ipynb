{
 "cells": [
  {
   "cell_type": "markdown",
   "metadata": {},
   "source": [
    "# Mobility Data Analysis\n",
    "1. Scoping\n",
    "2.  Preprocress the data\n",
    "3. Explolatory Data Analysis (EDA)\n",
    "4. Generate user trips and other user attributes\n",
    "5. Perfom analysis of user data to generate individual level metrics\n",
    "6. Generate aggregate metrics such as OD"
   ]
  },
  {
   "cell_type": "markdown",
   "metadata": {},
   "source": [
    "# Project Scoping"
   ]
  },
  {
   "cell_type": "code",
   "execution_count": null,
   "metadata": {},
   "outputs": [],
   "source": [
    "\"\"\"Your source code looks good but your interpretation are not clear. Please check the proposed \n",
    "solutions from the lecturer to get more knowledge.\n",
    "\n",
    "You were supposed to write your group members names \n",
    "\"\"\""
   ]
  },
  {
   "cell_type": "code",
   "execution_count": 40,
   "metadata": {},
   "outputs": [
    {
     "name": "stdout",
     "output_type": "stream",
     "text": [
      "╒══════════════════════════════════════════════════════════════════════════════╤═════════════════════════════════╕\n",
      "│ Exact metric definition                                                      │ Metric name                     │\n",
      "╞══════════════════════════════════════════════════════════════════════════════╪═════════════════════════════════╡\n",
      "│ For each individual, the mean number of trips they take everyday             │ Average number of trips per day │\n",
      "├──────────────────────────────────────────────────────────────────────────────┼─────────────────────────────────┤\n",
      "│ for each individu, we compute the number of unique locations visited per day │ Average location per days       │\n",
      "├──────────────────────────────────────────────────────────────────────────────┼─────────────────────────────────┤\n",
      "│ it is the maximum distance a user travelled                                  │ Radius of gyration              │\n",
      "├──────────────────────────────────────────────────────────────────────────────┼─────────────────────────────────┤\n",
      "│ number of days a user was activive                                           │ Usage days                      │\n",
      "╘══════════════════════════════════════════════════════════════════════════════╧═════════════════════════════════╛\n"
     ]
    }
   ],
   "source": [
    "# import module\n",
    "from tabulate import tabulate\n",
    "  \n",
    "# assign data\n",
    "mydata = [{\"Average number of trips per day\", \"For each individual, the mean number of trips they take everyday\"}, \n",
    "          {\"Average location per days\", \"for each individu, we compute the number of unique locations visited per day\"}, \n",
    "          {\"Radius of gyration\", \"it is the maximum distance a user travelled\"}, \n",
    "          {\"Usage days\", \"number of days a user was activive\"}]\n",
    "  \n",
    "# create header\n",
    "head = [\"Exact metric definition\", \"Metric name\"]\n",
    "\n",
    "  \n",
    "# display table\n",
    "print(tabulate(mydata, headers=head, tablefmt=\"fancy_grid\"))"
   ]
  },
  {
   "cell_type": "markdown",
   "metadata": {},
   "source": [
    "# Expected Output\n",
    "\n",
    "- **Barplot** \n",
    "- **Scatterplot**\n",
    "- **Distribution plot** to see the distribution of variable\n",
    "- **Heatmap**\n",
    "- **Correlation matrix** to see relation between variables\n",
    "- **Data frame**\n",
    "- **Spark dataframe**\n",
    "- **Statistics table** which shown the different statistics of the movements of users\n",
    "- **Number of days** we return the number of activities days of users"
   ]
  },
  {
   "cell_type": "markdown",
   "metadata": {},
   "source": [
    "# Instructions\n",
    "1. Please fill out all the places with \"YOUR CODE HERE\" with your code.\n",
    "2. Fill in with your functions, in places where I ask you to do so.\n",
    "3. Please answer all non-code questions where "
   ]
  },
  {
   "cell_type": "markdown",
   "metadata": {},
   "source": [
    "#  Python setup\n",
    "Heree, we import all the required Python packages. In order to use, \n",
    "any other module which wasnt ```pip``` installed, such as ```mob_data_utils```,\n",
    "you  can do the following:\n",
    "```sys.append(full_path_to_module)```"
   ]
  },
  {
   "cell_type": "code",
   "execution_count": 6,
   "metadata": {
    "code_folding": []
   },
   "outputs": [],
   "source": [
    "# utility libraries\n",
    "import os\n",
    "from pathlib import Path\n",
    "from functools import wraps\n",
    "import time\n",
    "from datetime import datetime\n",
    "import random\n",
    "\n",
    "# data processing libraries\n",
    "import pandas as pd\n",
    "import numpy as np\n",
    "import matplotlib.pyplot as plt\n",
    "# Apache Spark Modules\n",
    "from pyspark.sql import SparkSession\n",
    "from pyspark import SparkContext\n",
    "from pyspark.sql.functions import col,udf\n",
    "from pyspark.sql.types import *\n",
    "from statistics import * \n",
    "\n",
    "# plotting library\n",
    "import seaborn as sns\n",
    "sns.set_style(\"white\")\n",
    "sns.set_context(\"poster\", font_scale=1.25, rc={\"lines.linewidth\":1.25, \"lines.markersize\":8})\n",
    "\n",
    "# local libraries (e.g., mob_data_utils)\n",
    "# since mob_data_utils.py is in this dir\n",
    "import mob_data_utils as ut\n",
    "import geopandas\n",
    "import warnings\n",
    "warnings.filterwarnings(\"ignore\")"
   ]
  },
  {
   "cell_type": "markdown",
   "metadata": {},
   "source": [
    "# Setup working directories\n",
    "Its also important to setup commonly used diretories such as where you will be saving data"
   ]
  },
  {
   "cell_type": "code",
   "execution_count": 2,
   "metadata": {},
   "outputs": [],
   "source": [
    "# We can use CAPS for these variables since they are constants\n",
    "BASE_DIR = Path.cwd().parent\n",
    "DATA_DIR = BASE_DIR.joinpath('data')\n",
    "OUTPUTS_DIR = BASE_DIR.joinpath('outputs')"
   ]
  },
  {
   "cell_type": "code",
   "execution_count": 3,
   "metadata": {},
   "outputs": [],
   "source": [
    "# Setup global parameters and variables\n",
    "MISC_PROCESSING_PARAMS = {'distance_threshold': 2, 'min_unique_locs': 2,'datetime_col': 'datetime',\n",
    "                        'userid': 'user_id','x': 'lon', 'y': 'lat'}"
   ]
  },
  {
   "cell_type": "code",
   "execution_count": 4,
   "metadata": {},
   "outputs": [
    {
     "data": {
      "text/plain": [
       "'lon'"
      ]
     },
     "execution_count": 4,
     "metadata": {},
     "output_type": "execute_result"
    }
   ],
   "source": [
    "MISC_PROCESSING_PARAMS.get('x')"
   ]
  },
  {
   "cell_type": "code",
   "execution_count": 5,
   "metadata": {},
   "outputs": [
    {
     "data": {
      "text/plain": [
       "'user_id'"
      ]
     },
     "execution_count": 5,
     "metadata": {},
     "output_type": "execute_result"
    }
   ],
   "source": [
    "MISC_PROCESSING_PARAMS.get('userid')"
   ]
  },
  {
   "cell_type": "markdown",
   "metadata": {},
   "source": [
    "# Data preprocessing.\n",
    "Often, after all the data has been  acquired, thee next step is to do some preprocessing on the raw data. \n",
    "The objectives of this task will vary depending on the data analysis goals but some of them include following:\n",
    "- **Sanitize the data:** this data cleaning has to be done carefully to avoid introducing errors but its often a necessary step. It can involve dropping some unnecessary variables/columns. Renaming some columns to something which makes more sense. Dropping some observations. For instance, in this analysis where location and time-stamp is important, dropping all observations with no time-stamp and no location is required.\n",
    "- **Create new variables:**. If necessary, this is also the time transform some variables from a format which is not convinient for your analysis. For instance, converting string time variables to datetime aware variables.\n",
    "- **Combine datasets:** If you have more than one dataset, during preprocessing, you can also combine several datasets into one. For instance, we have the CDR transations which have no location details. We bring in the location details from another file.\n",
    "- **Filtering based on columns and observations:** This can be done through any of the stages mentioned above but its worth mentioning that often, you may drop some columns which arent useful for your analysis. Also, you may drop some observations based on some conditions depending on your analysis needs.\n",
    "\n",
    "Unlike in other data collection domains such as surveys where you can have standard data processing steps, in the data science space where your dataset can be anything, there are no hard and fast rule for preprocessing and data cleaning. It will be a case by case basis depending on your analysis goals. Also, preprocessing isnt necessarily a linear process: depending on what results you get downstream, you can go back and modify the preprocesisng steps. In this project, we have the ```preprocess_cdrs_using_spark``` which takes raw cdrs and saves to a CSV a processed dataset. Alternatively, we can return a Spark DataFrame."
   ]
  },
  {
   "cell_type": "code",
   "execution_count": 6,
   "metadata": {
    "code_folding": [
     0
    ]
   },
   "outputs": [],
   "source": [
    "def rename_sdf(df, mapper=None):\n",
    "    ''' Rename column names of a dataframe\n",
    "        mapper: a dict mapping from the old column names to new names\n",
    "        Usage:\n",
    "            df.rename({'old_col_name': 'new_col_name', 'old_col_name2': 'new_col_name2'})\n",
    "            df.rename(old_col_name=new_col_name)\n",
    "    '''\n",
    "    for before, after in mapper.items():\n",
    "        df = df.withColumnRenamed(before, after)\n",
    "    \n",
    "    return df"
   ]
  },
  {
   "cell_type": "code",
   "execution_count": 7,
   "metadata": {
    "code_folding": []
   },
   "outputs": [],
   "source": [
    "# ADD YOUR PROCESS FUNCTION HERE\n",
    "def preprocess_cdrs_using_spark(file_or_folder=None, number_of_users_to_sample=None,\n",
    "                                output_csv=None, date_format='%Y%m%d%H%M%S',\n",
    "                                debug_mode=True, loc_file=None, save_to_csv=False,\n",
    "                                userid_col=\"user_id\"):\n",
    "    \"\"\"\n",
    "    In this function, we perfom some basic preprocessing such as below:\n",
    "    1. rename columns\n",
    "    2. change some data types\n",
    "    3. Add location details\n",
    "    Eventually, we will sample the data to use for our analysis\n",
    "    :param data_folder:\n",
    "    :param output_csv_for_sample_users:\n",
    "    :return:\n",
    "    \"\"\"\n",
    "\n",
    "    # ==============================\n",
    "    # LOAD DATA\n",
    "    # ==============================\n",
    "    # create SparkSession\n",
    "    spark = SparkSession.builder \\\n",
    "    .master(\"local[*]\") \\\n",
    "    .appName(\"Assignement Of Louis\") \\\n",
    "    .getOrCreate() \n",
    "    # read data with spark and ensure you set header to True\n",
    "    df = spark.read.csv(file_or_folder ,header=True)\n",
    "    # repartition to speed up\n",
    "    df = df.repartition(10)\n",
    "\n",
    "    # if just testing/debugging, pick only a small subset of the dataset\n",
    "    # for instance, 0.01 percent of the data\n",
    "    # by using the sample function of spark\n",
    "    if debug_mode:\n",
    "        dfs = df.sample(fraction = 0.1) \n",
    "        df = dfs\n",
    "\n",
    "    # ==================================================\n",
    "    # RENAME, DROP COLUMNS, ADD DATETIME AND DROP NULLS\n",
    "    # ===================================================\n",
    "    # rename columns to remove space the names\n",
    "    # replace space with underscore\n",
    "    cols_to_rename = {}\n",
    "    for c in df.columns:\n",
    "        if \" \" in c:\n",
    "            cols_to_rename[c] = c.replace(\" \", \"_\")\n",
    "\n",
    "    #  now call the rename_sdf function\n",
    "    # using df and the dictionary above\n",
    "    df = rename_sdf(df, mapper=cols_to_rename)\n",
    "\n",
    "    # this approach is also okay but you are hardcoding the column names\n",
    "    # so, lets avoid hardcoding at all times\n",
    "    #     df = (df.withColumnRenamed(\"cdr datetime\", \"cdrDatetime\")\n",
    "    #         .withColumnRenamed(\"last calling cellid\", \"cellId\")\n",
    "    #         .withColumnRenamed(\"call duration\", \"cellDuration\"))\n",
    "\n",
    "    # change the column \"last_calling_cellid\" to just cell_id\n",
    "    df = df.withColumnRenamed(\"last_calling_cellid\",\"cell_id\") \n",
    "    # drop the cdr_type and call_duration because we dont really need them\n",
    "    df = df.drop(\"cdr type\",\"call_duration\") \n",
    "    # lets make sure we don't have any values in the user_id\n",
    "    # and cdr_datetime columns\n",
    "    # use spark filter() function and isNotNull() in a nested\n",
    "    # fashion to achieve this\n",
    "    df = df.filter(df['user_id'].isNotNull()) \n",
    "    df = df.filter(df.cdr_datetime.isNotNull())\n",
    "\n",
    "    # Use Spark UDF to add date and datetime\n",
    "    add_datetime = udf(lambda x: datetime.strptime(x, date_format), TimestampType())\n",
    "    add_date = udf(lambda x: datetime.strptime(x, date_format), DateType())\n",
    "\n",
    "\n",
    "    # create timestamp and date column\n",
    "    df = df.withColumn('datetime', add_datetime(col('cdr_datetime')))\n",
    "    df = df.withColumn('date', add_date(col('cdr_datetime'))) \n",
    "\n",
    "    # ==================================================\n",
    "    # ADD LOCATION THROUGH JOIN\n",
    "    # ===================================================\n",
    "    # Lets merge with location details using cellId from CDRs and also\n",
    "    # cellID on the other\n",
    "    # read pandas dataframe of location details\n",
    "    dfLoc = pd.read_csv(loc_file)\n",
    "    # remove duplicates from the cell_id column to make sure we only\n",
    "    # unique cell_ids.Use the drop_duplicates() in pandas\n",
    "    dfLoc = dfLoc.drop_duplicates(subset='cell_id')\n",
    "    # create spark dataframe from the pandas dataframe\n",
    "    # using the function createDataFrame from the SparkSession object\n",
    "    # and the pandas DataFrame created above\n",
    "    sdfLoc = spark.createDataFrame(dfLoc)\n",
    "\n",
    "    # join the cdrs dataframe with the location dataframe\n",
    "    # When using the join function, make sure you choose the option which allows\n",
    "    # to keep all records on the cdrs side which match with records on the right.\n",
    "    # please use \"inner\"\n",
    "    # best option here. Check the docs for details:\n",
    "    # https://spark.apache.org/docs/latest/api/python/reference/api/pyspark.sql.DataFrame\n",
    "    df = df.join(sdfLoc,on='cell_id',how = \"inner\")\n",
    "\n",
    "    # Drop all records which didn't find a match in the location file because we cant do this analysis\n",
    "    # without location. There are several ways to do this. For instance, you can drop all rows where\n",
    "    # use spark filter and condition set to cell_id isNotNull()\n",
    "    df = df.filter(df.cell_id.isNotNull()) \n",
    "    # ==================================================\n",
    "    # SAMPLE USERS\n",
    "    # ===================================================\n",
    "    # first, create a list of unique user user_ids\n",
    "    # using the distinct() function on the userid_col\n",
    "    all_users =  df.select(userid_col).distinct().collect() \n",
    "\n",
    "    # randomly select the required number of users\n",
    "    # using the random.choices() function\n",
    "    random_userid_list = [i[userid_col] for i in random.choices(all_users, k=number_of_users_to_sample)]\n",
    "\n",
    "    # Now, for each of the selected users, leets get their data\n",
    "    # select only our random user data using spark filter\n",
    "    # use df.filter(). Inside it, use the isin() function on the\n",
    "    # userid column\n",
    "    dfu = df.filter(df['user_id'].isin(random_userid_list))\n",
    "\n",
    "    # save to CSV if necessary\n",
    "    if save_to_csv:\n",
    "        dfu.coalesce(1).write.csv(path=output_csv, header=True)\n",
    "    else:\n",
    "        return dfu\n"
   ]
  },
  {
   "cell_type": "code",
   "execution_count": 52,
   "metadata": {},
   "outputs": [],
   "source": [
    "# Use DATA_DIR and joinpath as its been used above to create\n",
    "# full path for simulated_cdrs and loc file\n",
    "loc_file =  \"/home/user/Desktop/big data analytic/simulated_locs.csv\"\n",
    "cdrs_dir =  \"/home/user/Desktop/big data analytic/simulated_cdrs\"\n",
    "num_users = 1000\n",
    "debug = True\n",
    "\n",
    "# call preprocess_cdrs_using_spark here\n",
    "# use cache() at the end of the like this preprocess_cdrs_using_spark.cache()\n",
    "# Learn about what cache does using spark here:\n",
    "# https://spark.apache.org/docs/latest/api/python/reference/api/pyspark.sql.DataFrame.cache.html#pyspark.sql.DataFrame.cache\n",
    "dfu = preprocess_cdrs_using_spark(file_or_folder=str(cdrs_dir), number_of_users_to_sample=num_users,\n",
    "                                date_format='%Y%m%d%H%M%S',debug_mode=False, \n",
    "                                  loc_file=loc_file, save_to_csv=False).cache()"
   ]
  },
  {
   "cell_type": "code",
   "execution_count": 53,
   "metadata": {},
   "outputs": [
    {
     "name": "stdout",
     "output_type": "stream",
     "text": [
      "+-------+----------------+--------------+-------------------+-------------------+----------+-------+------------------+------------------+\n",
      "|cell_id|        cdr_type|  cdr_datetime|            user_id|           datetime|      date|site_id|               lat|               lon|\n",
      "+-------+----------------+--------------+-------------------+-------------------+----------+-------+------------------+------------------+\n",
      "|34821.0|    MoCallRecord|20180709082443|7261062279775109855|2018-07-09 08:24:43|2018-07-09|   S224|         -8.528478|         26.743777|\n",
      "|34821.0|    MoCallRecord|20180706093149|7261062279775109855|2018-07-06 09:31:49|2018-07-06|   S224|         -8.528478|         26.743777|\n",
      "|34821.0|OutGatewayRecord|20180706143359|7261062279775109855|2018-07-06 14:33:59|2018-07-06|   S224|         -8.528478|         26.743777|\n",
      "|34821.0|    MoCallRecord|20180712164613|7261062279775109855|2018-07-12 16:46:13|2018-07-12|   S224|         -8.528478|         26.743777|\n",
      "|34821.0|    MoCallRecord|20180706143359|7261062279775109855|2018-07-06 14:33:59|2018-07-06|   S224|         -8.528478|         26.743777|\n",
      "|34821.0|    MoCallRecord|20180712164209|7261062279775109855|2018-07-12 16:42:09|2018-07-12|   S224|         -8.528478|         26.743777|\n",
      "|34821.0|    MoCallRecord|20180712161555|7261062279775109855|2018-07-12 16:15:55|2018-07-12|   S224|         -8.528478|         26.743777|\n",
      "|34821.0|    MoCallRecord|20180712161939|7261062279775109855|2018-07-12 16:19:39|2018-07-12|   S224|         -8.528478|         26.743777|\n",
      "|34821.0|    MoCallRecord|20180710104659|7261062279775109855|2018-07-10 10:46:59|2018-07-10|   S224|         -8.528478|         26.743777|\n",
      "|34821.0|    MoCallRecord|20180709143732|7261062279775109855|2018-07-09 14:37:32|2018-07-09|   S224|         -8.528478|         26.743777|\n",
      "|34821.0|    MoCallRecord|20180706143215|7261062279775109855|2018-07-06 14:32:15|2018-07-06|   S224|         -8.528478|         26.743777|\n",
      "|34821.0|    MoCallRecord|20180709165925|7261062279775109855|2018-07-09 16:59:25|2018-07-09|   S224|         -8.528478|         26.743777|\n",
      "|14361.0|    MoCallRecord|20180704232859|2687653510006079318|2018-07-04 23:28:59|2018-07-04|   S258|-8.538153999999999|26.743633000000003|\n",
      "|14361.0|    MoCallRecord|20180710102850|5971295292071109327|2018-07-10 10:28:50|2018-07-10|   S258|-8.538153999999999|26.743633000000003|\n",
      "|14361.0|    MoCallRecord|20180708182715|1218527985218154304|2018-07-08 18:27:15|2018-07-08|   S258|-8.538153999999999|26.743633000000003|\n",
      "|14361.0|    MoCallRecord|20180704180420|1908313866676533161|2018-07-04 18:04:20|2018-07-04|   S258|-8.538153999999999|26.743633000000003|\n",
      "|34825.0|    MoCallRecord|20180709132504| 774268289284542505|2018-07-09 13:25:04|2018-07-09|   S224|         -8.528478|         26.743777|\n",
      "|34453.0|    MoCallRecord|20180711094124|3301019651295783473|2018-07-11 09:41:24|2018-07-11|   S231|          -8.66928|           26.9279|\n",
      "|34453.0|IncGatewayRecord|20180705224129|4162813547032976463|2018-07-05 22:41:29|2018-07-05|   S231|          -8.66928|           26.9279|\n",
      "|34453.0|    MoCallRecord|20180630121105|2001827514766988393|2018-06-30 12:11:05|2018-06-30|   S231|          -8.66928|           26.9279|\n",
      "+-------+----------------+--------------+-------------------+-------------------+----------+-------+------------------+------------------+\n",
      "only showing top 20 rows\n",
      "\n"
     ]
    }
   ],
   "source": [
    "dfu.show()"
   ]
  },
  {
   "cell_type": "markdown",
   "metadata": {},
   "source": [
    "# Explolatory Data Analysis (EDA)\n",
    "Whether the end result of your project is to produce a statistical report or \n",
    "to build a prediction model to be put in production, EDA is an essential stage in any data science project. EDA can be defined as \n",
    "the process of performing initial investigations on data so as to discover patterns,to spot anomalies,\n",
    "to test hypothesis and to check assumptions with the help of summary statistics and graphical representations.\n",
    "It is a good practice to understand the data first and try to gather as many insights from it. \n",
    "EDA is all about making sense of data before using the data for the intended use (e.g., build ML models, perfom statisitcal analysis). \n",
    "\n",
    "Again, there arent hard and fast rules on how to perfom EDA but some of the specific quesitons you would like to answer are as folloes:\n",
    "- For each variable in the data, whats its distribution? Is it skewed? Whats its data type? Is it an approapriate  data type fopr my analysis. Are there any outliers?\n",
    "- Whats the relationship between variables?\n",
    "\n",
    "In this project, we will use the ```explore_data``` and explore what functions SPark has for basic EDA."
   ]
  },
  {
   "cell_type": "code",
   "execution_count": 115,
   "metadata": {},
   "outputs": [],
   "source": [
    "# ADD YOUR EXPLORE DATA FUNC HERE\n",
    "def explore_data_with_spark(df=None, output_plot_file=None, output_heatmap=None):\n",
    "    \"\"\"\n",
    "    Lets do a quick exploration of the data by generating the following:\n",
    "    1. Number of days in the data\n",
    "    2. User call count stats\n",
    "    3. Weekday and hour calling patterns\n",
    "    \"\"\"\n",
    "    # =====================================\n",
    "    # CALCULATE THE NUMBER OF DAYS IN DATA\n",
    "    # =====================================\n",
    "\n",
    "    # use relevant spark function to generate\n",
    "    # a list of unique dates, recall that the date\n",
    "    # column is 'date\n",
    "    dates_rows = df.select('date').distinct().collect() \n",
    "    # sort the dates using sorted() function\n",
    "    sorted_dates = sorted(dates_rows)  \n",
    "    # use list indexing to get the first element and last\n",
    "    # element from the sorted list, substract them to get\n",
    "    # time difference\n",
    "    diff = sorted_dates[-1]['date']-sorted_dates[0]['date']\n",
    "    # use days function to get the number of days\n",
    "    num_days = diff.days\n",
    "    # =====================================\n",
    "    # GENERATE WEEKDAY AND HOUR CALL COUNT\n",
    "    # =====================================\n",
    "\n",
    "    # define UDF to calculate hour and weekday\n",
    "    # for weekday use weekday() function while\n",
    "    # for hour, use hour()\n",
    "    add_hr = udf(lambda x :x.hour)              # Define Spark udf to get hour from the datetime column\n",
    "    add_wkday = udf(lambda x: x.weekday())         # Define Spark udf to get hour from the datetime column\n",
    "    # create a dictionary with keys as the weekday integers while the values\n",
    "    # are the weekday name\n",
    "    day_dict = {'0':'Monday', '1':'Tuesday', '2':'Wednesday', '3':'Thursday', '4':'Friday', '5':'Saturday','6':'Sunday'}\n",
    "\n",
    "    # add hour column, lets call it 'hr\n",
    "    # also add weekday column, we call it 'wkday'\n",
    "    df = df.withColumn('hr',add_hr(col('datetime')))\n",
    "\n",
    "    df = df.withColumn('wkday',add_wkday(col('date')))\n",
    "\n",
    "    # create pandas DataFrame from Spark DataFrame above using toPandas()\n",
    "    pdf =  df.groupBy('wkday','hr').count().toPandas()\n",
    "    # use the Pandas.Series.map() function on the \"wkday\" column to convert\n",
    "    # wkday as numbers to week day names and create  new column for weekday name\n",
    "    # Lets call that column 'weekDay'\n",
    "    pdf['weekDay']=pdf['wkday'].map(lambda x: day_dict[x])\n",
    "    # drop the \"wkday\" column now\n",
    "    pdf = pdf.drop(\"wkday\", axis = 1)\n",
    "    pdf = pdf.pivot(index='weekDay', columns='hr', values='count')\n",
    "\n",
    "    # create and save heatmap\n",
    "    # use plt.figure() to create figure with your chosen size\n",
    "    plt.figure(figsize = (7,7))\n",
    "    # use sns.heatmap() function to create heatmap using the Pandas DataFrame, pdf\n",
    "    sns.heatmap(pdf)\n",
    "    # save the figure to file\n",
    "    plt.savefig(output_heatmap)\n",
    "\n",
    "    # =====================================\n",
    "    # NUMBER OF CALLS FOR EACH USER\n",
    "    # =====================================\n",
    "    # Use Spark groupBy function to group user and count number of events\n",
    "    # convert resulting spark dataframe to pandas in the samee line of code\n",
    "    df_grp_user =  df.groupBy('user_id').count().toPandas()\n",
    "\n",
    "    # create a distribution plot of user call count using\n",
    "    # seaborn distplot() function and save the figure\n",
    "    # first, use plt.figure() to create new figure environment\n",
    "    # Next, create the plot and then finally save it\n",
    "    plt.figure(figsize= (5,5))\n",
    "    sns.distplot(df_grp_user)                                                        # A refaire\n",
    "    plt.savefig(output_plot_file)\n",
    "    plt.show()\n",
    "\n",
    "    # report average number calls per day for each user\n",
    "    # first use spark groupBy on user_id and day, then\n",
    "    # convert that object to pandas dataframe using toPandas()\n",
    "    # function\n",
    "    df_grp_day = df.groupby('user_id','date').count().toPandas()\n",
    "\n",
    "    # get mean and median\n",
    "    mean =  df_grp_day['count'].mean()\n",
    "    median = df_grp_day['count'].median()\n",
    "\n",
    "    # return results like this mean, median, number of days\n",
    "    return mean, median, df_grp_day['date'].nunique()"
   ]
  },
  {
   "cell_type": "code",
   "execution_count": 116,
   "metadata": {},
   "outputs": [
    {
     "data": {
      "image/png": "[encoded data removed]",
      "text/plain": [
       "<Figure size 504x504 with 2 Axes>"
      ]
     },
     "metadata": {},
     "output_type": "display_data"
    },
    {
     "data": {
      "image/png": "[encoded data removed]",
      "text/plain": [
       "<Figure size 360x360 with 1 Axes>"
      ]
     },
     "metadata": {},
     "output_type": "display_data"
    },
    {
     "data": {
      "text/plain": [
       "(2.9798657718120807, 2.0, 15)"
      ]
     },
     "execution_count": 116,
     "metadata": {},
     "output_type": "execute_result"
    }
   ],
   "source": [
    "explore_data_with_spark(df=dfu, output_plot_file='p.png', output_heatmap='c.png')"
   ]
  },
  {
   "cell_type": "markdown",
   "metadata": {},
   "source": [
    "## Project Task"
   ]
  },
  {
   "cell_type": "markdown",
   "metadata": {},
   "source": [
    "### Generate more summary statistics\n",
    "Please complete the function below."
   ]
  },
  {
   "cell_type": "code",
   "execution_count": 110,
   "metadata": {
    "code_folding": [
     0
    ]
   },
   "outputs": [],
   "source": [
    "def summary_stats_for_user_events(spark_df, out_stats):\n",
    "    \"\"\"\n",
    "    In this function, the goal is to take a big Spark\n",
    "    DataFrame, group users and count each users events, \n",
    "    convert to pandas DataFrame and generate summary stats\n",
    "    :param: spark_df: preprocessed spark dataframe with data for multiple users\n",
    "    :param: out_stats: CSV file path to save  the summary stats\n",
    "    \"\"\"\n",
    "    # group user and count number of events\n",
    "    # convert resulting spark dataframe to pandas\n",
    "    pdf = spark_df.groupBy('user_id').count().toPandas()\n",
    "    # change column \"count\" to num_events,remember that pdf is a pandas DataFrame\n",
    "    pdf.rename(columns={\"count\": \"num_events\"},inplace=True)\n",
    "    \n",
    "    # generate summary stats using pandas describe() function\n",
    "    # use property T to transpose the describe results and convert them\n",
    "    # into a DataFrame like this: pd.DataFrame(transposed describe results).reset_index()\n",
    "    # Dont forget to rese_index()\n",
    "    pdf_sum_stats = pd.DataFrame(pdf.describe()).reset_index()   #not true                     #pd.DataFrame().reset_index()\n",
    "    \n",
    "    # remove the first row which has value \"count\"\n",
    "    # you can use list indexing to achieve this\n",
    "    pdf_sum_stats = pdf_sum_stats.iloc[1:]\n",
    "    \n",
    "    # Rename the column index into something informative. For instance, \"Stat\"\n",
    "    pdf_sum_stats.rename(columns={\"index\": \"stat\"},inplace=True)\n",
    "    \n",
    "    # Rename the percentiles in numbers to something better\n",
    "    # first, declare a dict with old and new names\n",
    "    # next, update the Stats column using the pd.Series.map() function\n",
    "    dict_ = {'mean':'mean','std':'std','min':'min','25%':'first quartile','50%':'median','75%':'third quartile','max':'max'} \n",
    "    pdf_sum_stats['stat']=pdf_sum_stats['stat'].map(lambda x: dict_[x]) \n",
    "    \n",
    "    print('='*60)\n",
    "    print('this is the top 10 rows of the dataframe statics table')\n",
    "    print('='*60)\n",
    "    print()\n",
    "    print(pdf_sum_stats)\n",
    "    # Now  save the summary stats to CSV\n",
    "    pdf_sum_stats.to_csv(out_stats, index=False)"
   ]
  },
  {
   "cell_type": "code",
   "execution_count": 111,
   "metadata": {},
   "outputs": [
    {
     "name": "stdout",
     "output_type": "stream",
     "text": [
      "============================================================\n",
      "this is the top 10 rows of the dataframe statics table\n",
      "============================================================\n",
      "\n",
      "             stat  num_events\n",
      "1            mean   11.544000\n",
      "2             std   21.601127\n",
      "3             min    1.000000\n",
      "4  first quartile    1.000000\n",
      "5          median    4.000000\n",
      "6  third quartile   12.000000\n",
      "7             max  270.000000\n"
     ]
    }
   ],
   "source": [
    "df0 = summary_stats_for_user_events(dfu, 'out_stats.csv')\n",
    "df0"
   ]
  },
  {
   "cell_type": "code",
   "execution_count": null,
   "metadata": {},
   "outputs": [],
   "source": [
    "# CALL YOUR summary_stats_for_user_events FUNCTION HERE, \n",
    "# REMEMBER THAT IT REQUIRES THE PREPROCESSED DF FROM \n",
    "# preprocess_cdrs_using_spark"
   ]
  },
  {
   "cell_type": "markdown",
   "metadata": {},
   "source": [
    "###  Interpreting EDA results and applying them in downstreat work\n",
    "Please answer the question below. You should answer in this same notebook.\n",
    "\n",
    "**EDA-Question-1**: Given the distribution of number of events per user. When it comes to characterizing user mobility patterns such as number  of trips. Do you think we should utilize all users regardless of number of events?\n",
    "\n",
    "A. Yes, we can use all users regardless of number of events.\n",
    "\n",
    "B. No, we should filter out some users\n",
    "\n",
    "**Your answer:**\n",
    "\n",
    "**EDA-Question-2**: If you answered B, please answer the following questions on filtering?\n",
    "1. How do determine threshold for filtering?\n",
    "2. Which users do you filter out? "
   ]
  },
  {
   "cell_type": "markdown",
   "metadata": {},
   "source": [
    "######  We see on the plot below that we don't have any event for some of the users so, we should filter out those users who doesn't have any event"
   ]
  },
  {
   "cell_type": "code",
   "execution_count": 109,
   "metadata": {},
   "outputs": [
    {
     "data": {
      "text/plain": [
       "<Figure size 504x1080 with 0 Axes>"
      ]
     },
     "metadata": {},
     "output_type": "display_data"
    },
    {
     "data": {
      "image/png": "[encoded data removed]",
      "text/plain": [
       "<Figure size 360x360 with 1 Axes>"
      ]
     },
     "metadata": {},
     "output_type": "display_data"
    }
   ],
   "source": [
    "x = df0['num_events']\n",
    "plt.figure(figsize= (7,15))\n",
    "sns.displot(x);"
   ]
  },
  {
   "cell_type": "markdown",
   "metadata": {},
   "source": [
    "# Generate individual based mobility patterns and attributes\n",
    "As we noted in the project  instructions, the focus of this analysis is to understand mobility patterns \n",
    "on individual users. Although, generating trips  and understanding their distribution is crucial for this project, due to time constraints, we will start with simple mobility metrics. Namely:\n",
    "- **Radius of gyration(Rg):**  For a single day, Rg can be defined in simple terms as the maximum distance a user travels. We can then compute ```avg_Rg``` based on all Rg from the user's data. This metric ```avg_Rg``` is what we will compute.\n",
    "- **Number of unique locations visited everyday:** As the name suggests, this is simply, the count of unique locations an individual visits everyday. Given multiple days data, we will compute the ```avg_locs_per_day```\n",
    "\n",
    "In addition to the mobility metric above, we will report the ```number of days``` a user was activive which will help us understand how much we should trust user data. \n",
    "\n",
    "For this task, we will utilize functions in the ```mob_data_utils``` module which were already created to generate  the required metrics above. You can import ```mob_data_utils``` like this to use my code: \n",
    "```import mob_data_utils as ut```"
   ]
  },
  {
   "cell_type": "markdown",
   "metadata": {},
   "source": [
    "## Define functions to generate user attributes"
   ]
  },
  {
   "cell_type": "code",
   "execution_count": 58,
   "metadata": {
    "code_folding": [
     0
    ]
   },
   "outputs": [],
   "source": [
    "def get_basic_user_mob_attributes(df):\n",
    "        \"\"\"\n",
    "        In this funciton, we generate some basic user attributes \n",
    "        to help further explore the data and also report on \n",
    "        individual mobility metrics.\n",
    "        :param df: Pandas DataFrame of single user data\n",
    "        :return:\n",
    "        \"\"\"\n",
    "        # get, datecol, x(lon), y(lat) from the MISC_PROCESSING_PARAMS variable\n",
    "        datetimecol = MISC_PROCESSING_PARAMS.get('datetime_col')\n",
    "        x = MISC_PROCESSING_PARAMS.get('x')\n",
    "        y = MISC_PROCESSING_PARAMS.get('y')\n",
    "        \n",
    "        day_dict = {'0':'Monday', '1':'Tuesday', '2':'Wednesday', '3':'Thursday', '4':'Friday', '5':'Saturday','6':'Sunday'}       \n",
    "             \n",
    "        \n",
    "        # use if condition to \n",
    "        if  'date' not in df.columns:\n",
    "            # add date column in case its not  there\n",
    "            # use the datetimecol to achieve this\n",
    "            df['date'] = df['datetime_col'].map(lambda x: day_dict[x]) #not true\n",
    "        \n",
    "        # get a list of all  days/dates in ascending order\n",
    "        # first, sort the dates and then get only unique dates\n",
    "        dates = np.unique(sorted(df['date'])) # not true\n",
    "        # this dictionary will keep, for each, a count of unique locations visited\n",
    "        # initialize this dict with dates as keys and values set to 0\n",
    "        # you can use list comprehension idea though this is a dictionary\n",
    "        # Hint, create a list  of unique dates when initializing this dict\n",
    "        unique_locs_by_day =  dict.fromkeys(dates,0) #not true\n",
    "        \n",
    "        # create a dictionary just like above but this one will keep\n",
    "        # maximum distance travelled for each day\n",
    "        dates_dist = {i:j for i,j in zip(dates, [0]*len(dates))}  #{k: 0 for k in list(df['date'].unique())}\n",
    "        \n",
    "        # Loop through the dates_dist dictionary\n",
    "        for i,j in dates_dist.items(): \n",
    "            # Filter the input df so that we only get data for this date\n",
    "            dfd = df[df['date']==i]                                               #df[df['date'].isin([i])]\n",
    "\n",
    "            # get number of unique locations for this day\n",
    "            uniq_xy = ut.va_generate_unique_locs(df=dfd, x=x, y=y)\n",
    "            # add to the unique_locs_by_day dict, this date based on how\n",
    "            # you initialized your loop, the value is the number of\n",
    "            # unique locations visited\n",
    "            unique_locs_by_day[i]=j+len(uniq_xy)\n",
    "\n",
    "\n",
    "            # distances travel\n",
    "            if len(uniq_xy) > 1:\n",
    "                dist_mtx = ut.va_distance_matrix(uniq_xy)\n",
    "                # From the distance matrix above, get only columns with \"to\"\n",
    "                # in it, use list comprehension with if condition\n",
    "                \n",
    "                req_cols = list([i for i in dist_mtx.columns if 'to' in i ])[0]\n",
    "                \n",
    "                # get max value from the distance matrix above\n",
    "                # first, subset the dist_mtx DataDrame by selecting only req_cols\n",
    "                # then, get values from the resulting DataFrame which you should\n",
    "                # pass into np.max() function\n",
    "                # put the resulting max value into the dates_dist dict with this \n",
    "                # date as key\n",
    "                # this can be achieved in a single line of code or multiple lines\n",
    "                dist_mtx = np.round(np.max(dist_mtx[req_cols]),2)\n",
    "                dates_dist[i] = dist_mtx\n",
    "            else:\n",
    "                # if number of unique locations is less than or equal to 1\n",
    "                # then set the value in the dates_dist dict accordingly\n",
    "                 dates_dist[i]= 0\n",
    "    \n",
    "        return  dates_dist, unique_locs_by_day,len(dates)\n",
    "        "
   ]
  },
  {
   "cell_type": "code",
   "execution_count": 59,
   "metadata": {},
   "outputs": [
    {
     "data": {
      "text/plain": [
       "({datetime.date(2018, 6, 29): 236.8,\n",
       "  datetime.date(2018, 6, 30): 208.28,\n",
       "  datetime.date(2018, 7, 1): 328.4,\n",
       "  datetime.date(2018, 7, 2): 328.4,\n",
       "  datetime.date(2018, 7, 3): 212.8,\n",
       "  datetime.date(2018, 7, 4): 233.31,\n",
       "  datetime.date(2018, 7, 5): 212.8,\n",
       "  datetime.date(2018, 7, 6): 234.82,\n",
       "  datetime.date(2018, 7, 7): 212.8,\n",
       "  datetime.date(2018, 7, 8): 233.31,\n",
       "  datetime.date(2018, 7, 9): 186.26,\n",
       "  datetime.date(2018, 7, 10): 234.82,\n",
       "  datetime.date(2018, 7, 11): 212.8,\n",
       "  datetime.date(2018, 7, 12): 186.26,\n",
       "  datetime.date(2018, 7, 13): 212.89},\n",
       " {datetime.date(2018, 6, 29): 58,\n",
       "  datetime.date(2018, 6, 30): 67,\n",
       "  datetime.date(2018, 7, 1): 69,\n",
       "  datetime.date(2018, 7, 2): 71,\n",
       "  datetime.date(2018, 7, 3): 71,\n",
       "  datetime.date(2018, 7, 4): 68,\n",
       "  datetime.date(2018, 7, 5): 66,\n",
       "  datetime.date(2018, 7, 6): 68,\n",
       "  datetime.date(2018, 7, 7): 70,\n",
       "  datetime.date(2018, 7, 8): 72,\n",
       "  datetime.date(2018, 7, 9): 69,\n",
       "  datetime.date(2018, 7, 10): 71,\n",
       "  datetime.date(2018, 7, 11): 68,\n",
       "  datetime.date(2018, 7, 12): 72,\n",
       "  datetime.date(2018, 7, 13): 48},\n",
       " 15)"
      ]
     },
     "execution_count": 59,
     "metadata": {},
     "output_type": "execute_result"
    }
   ],
   "source": [
    "get_basic_user_mob_attributes(dfu.toPandas())"
   ]
  },
  {
   "cell_type": "code",
   "execution_count": 60,
   "metadata": {},
   "outputs": [],
   "source": [
    "link = '/home/user/Desktop/big data analytic/simulated_locs.csv'\n",
    "link2 = '/home/user/Desktop/big data analytic/yellow_tripdata_2021-01.csv'"
   ]
  },
  {
   "cell_type": "code",
   "execution_count": 61,
   "metadata": {},
   "outputs": [],
   "source": [
    "import mob_data_utils as ut"
   ]
  },
  {
   "cell_type": "code",
   "execution_count": 76,
   "metadata": {
    "code_folding": [
     0
    ]
   },
   "outputs": [],
   "source": [
    "def generate_basic_user_attributes_with_pandas(df, outcsv, num_events_threshold=None):\n",
    "    \"\"\"\n",
    "        In this funciton, we generate some basic user attributes \n",
    "        to help further explore the data and also report on \n",
    "        individual mobility metrics.\n",
    "        :param df: Pandas DataFrame with multiple user data\n",
    "        :return:\n",
    "        \"\"\"\n",
    "    # get userid col name from  MISC_PROCESSING_PARAMS\n",
    "    userid = MISC_PROCESSING_PARAMS.get('userid') #not true\n",
    "    # generate a list of unique userid's\n",
    "    user_list = list(df[userid].unique())\n",
    "    # initialize an empty list to hold user  data\n",
    "    user_data = []\n",
    "    \n",
    "    # Loop through all users and generate their attributes\n",
    "    for user in user_list:\n",
    "        \n",
    "        # Filter the input df so that we only get data for this user\n",
    "        df_user =  df[df[userid]==user]                                                   #  YOUR CODE\n",
    "        \n",
    "        if num_events_threshold:\n",
    "            if df_user.shape[0] < num_events_threshold:\n",
    "                continue\n",
    "            else:\n",
    "                # call the get_basic_user_mob_attributes function here\n",
    "                a,b,c = get_basic_user_mob_attributes(df_user)\n",
    "        else:\n",
    "             # call the get_basic_user_mob_attributes function here\n",
    "            a,b,c = get_basic_user_mob_attributes(df_user)\n",
    "        \n",
    "        # get the attributes\n",
    "        # create a dictionary with the following keys: 'userid', 'usage_days', 'mean_locs_day'\n",
    "        # use appropriate numpy functions to compute  mean as required and set them as values\n",
    "        # in the dict\n",
    "        user_att =  {'userid':user,'usage_days':len(a.keys()),'mean_locs_day':(mean(list(b.values()))),\n",
    "                     'Radius of gyration(Rg)':max(list(a.values())),'avd_Rg':mean(list(a.values()))}\n",
    "        # add user_att to the user_data list\n",
    "        user_data.append(user_att)\n",
    "    \n",
    "    # create DataFrame using user_data and save it to file (2 lines of code)\n",
    "    dataFrame = pd.DataFrame(user_data)\n",
    "    dataFrame.to_csv(outcsv, index=False)\n",
    "    return dataFrame"
   ]
  },
  {
   "cell_type": "code",
   "execution_count": 87,
   "metadata": {},
   "outputs": [
    {
     "data": {
      "text/html": [
       "<div>\n",
       "<style scoped>\n",
       "    .dataframe tbody tr th:only-of-type {\n",
       "        vertical-align: middle;\n",
       "    }\n",
       "\n",
       "    .dataframe tbody tr th {\n",
       "        vertical-align: top;\n",
       "    }\n",
       "\n",
       "    .dataframe thead th {\n",
       "        text-align: right;\n",
       "    }\n",
       "</style>\n",
       "<table border=\"1\" class=\"dataframe\">\n",
       "  <thead>\n",
       "    <tr style=\"text-align: right;\">\n",
       "      <th></th>\n",
       "      <th>userid</th>\n",
       "      <th>usage_days</th>\n",
       "      <th>mean_locs_day</th>\n",
       "      <th>Radius of gyration(Rg)</th>\n",
       "      <th>avd_Rg</th>\n",
       "    </tr>\n",
       "  </thead>\n",
       "  <tbody>\n",
       "    <tr>\n",
       "      <th>0</th>\n",
       "      <td>7261062279775109855</td>\n",
       "      <td>9</td>\n",
       "      <td>1.888889</td>\n",
       "      <td>22.02</td>\n",
       "      <td>3.736667</td>\n",
       "    </tr>\n",
       "    <tr>\n",
       "      <th>1</th>\n",
       "      <td>2687653510006079318</td>\n",
       "      <td>7</td>\n",
       "      <td>1.285714</td>\n",
       "      <td>2.23</td>\n",
       "      <td>0.545714</td>\n",
       "    </tr>\n",
       "    <tr>\n",
       "      <th>2</th>\n",
       "      <td>5971295292071109327</td>\n",
       "      <td>11</td>\n",
       "      <td>1.909091</td>\n",
       "      <td>2.74</td>\n",
       "      <td>0.942727</td>\n",
       "    </tr>\n",
       "    <tr>\n",
       "      <th>3</th>\n",
       "      <td>1218527985218154304</td>\n",
       "      <td>2</td>\n",
       "      <td>1.000000</td>\n",
       "      <td>0.00</td>\n",
       "      <td>0.000000</td>\n",
       "    </tr>\n",
       "    <tr>\n",
       "      <th>4</th>\n",
       "      <td>1908313866676533161</td>\n",
       "      <td>12</td>\n",
       "      <td>1.666667</td>\n",
       "      <td>8.09</td>\n",
       "      <td>1.921667</td>\n",
       "    </tr>\n",
       "    <tr>\n",
       "      <th>...</th>\n",
       "      <td>...</td>\n",
       "      <td>...</td>\n",
       "      <td>...</td>\n",
       "      <td>...</td>\n",
       "      <td>...</td>\n",
       "    </tr>\n",
       "    <tr>\n",
       "      <th>730</th>\n",
       "      <td>1953131665943264093</td>\n",
       "      <td>3</td>\n",
       "      <td>1.000000</td>\n",
       "      <td>0.00</td>\n",
       "      <td>0.000000</td>\n",
       "    </tr>\n",
       "    <tr>\n",
       "      <th>731</th>\n",
       "      <td>1221632098301211317</td>\n",
       "      <td>1</td>\n",
       "      <td>1.000000</td>\n",
       "      <td>0.00</td>\n",
       "      <td>0.000000</td>\n",
       "    </tr>\n",
       "    <tr>\n",
       "      <th>732</th>\n",
       "      <td>4467554764147785754</td>\n",
       "      <td>1</td>\n",
       "      <td>1.000000</td>\n",
       "      <td>0.00</td>\n",
       "      <td>0.000000</td>\n",
       "    </tr>\n",
       "    <tr>\n",
       "      <th>733</th>\n",
       "      <td>9170332955633665019</td>\n",
       "      <td>7</td>\n",
       "      <td>1.000000</td>\n",
       "      <td>0.00</td>\n",
       "      <td>0.000000</td>\n",
       "    </tr>\n",
       "    <tr>\n",
       "      <th>734</th>\n",
       "      <td>5103291766416601716</td>\n",
       "      <td>2</td>\n",
       "      <td>1.000000</td>\n",
       "      <td>0.00</td>\n",
       "      <td>0.000000</td>\n",
       "    </tr>\n",
       "  </tbody>\n",
       "</table>\n",
       "<p>735 rows × 5 columns</p>\n",
       "</div>"
      ],
      "text/plain": [
       "                  userid  usage_days  mean_locs_day  Radius of gyration(Rg)  \\\n",
       "0    7261062279775109855           9       1.888889                   22.02   \n",
       "1    2687653510006079318           7       1.285714                    2.23   \n",
       "2    5971295292071109327          11       1.909091                    2.74   \n",
       "3    1218527985218154304           2       1.000000                    0.00   \n",
       "4    1908313866676533161          12       1.666667                    8.09   \n",
       "..                   ...         ...            ...                     ...   \n",
       "730  1953131665943264093           3       1.000000                    0.00   \n",
       "731  1221632098301211317           1       1.000000                    0.00   \n",
       "732  4467554764147785754           1       1.000000                    0.00   \n",
       "733  9170332955633665019           7       1.000000                    0.00   \n",
       "734  5103291766416601716           2       1.000000                    0.00   \n",
       "\n",
       "       avd_Rg  \n",
       "0    3.736667  \n",
       "1    0.545714  \n",
       "2    0.942727  \n",
       "3    0.000000  \n",
       "4    1.921667  \n",
       "..        ...  \n",
       "730  0.000000  \n",
       "731  0.000000  \n",
       "732  0.000000  \n",
       "733  0.000000  \n",
       "734  0.000000  \n",
       "\n",
       "[735 rows x 5 columns]"
      ]
     },
     "execution_count": 87,
     "metadata": {},
     "output_type": "execute_result"
    }
   ],
   "source": [
    "# CALL YOUR generate_basic_user_attributes_with_pandas() FUNCTION HERE, \n",
    "# FIRST, CONVERT THE DF FROM preprocess_cdrs_using_spark() TO PANDAS # should read csv file first, joinpath..\n",
    "df = generate_basic_user_attributes_with_pandas(dfu.toPandas(), 'outcsv.csv', num_events_threshold=2)"
   ]
  },
  {
   "cell_type": "markdown",
   "metadata": {},
   "source": [
    "## Create outputs from the CSV file of user attributes"
   ]
  },
  {
   "cell_type": "code",
   "execution_count": 104,
   "metadata": {},
   "outputs": [
    {
     "data": {
      "text/html": [
       "<div>\n",
       "<style scoped>\n",
       "    .dataframe tbody tr th:only-of-type {\n",
       "        vertical-align: middle;\n",
       "    }\n",
       "\n",
       "    .dataframe tbody tr th {\n",
       "        vertical-align: top;\n",
       "    }\n",
       "\n",
       "    .dataframe thead th {\n",
       "        text-align: right;\n",
       "    }\n",
       "</style>\n",
       "<table border=\"1\" class=\"dataframe\">\n",
       "  <thead>\n",
       "    <tr style=\"text-align: right;\">\n",
       "      <th></th>\n",
       "      <th>userid</th>\n",
       "      <th>usage_days</th>\n",
       "      <th>mean_locs_day</th>\n",
       "      <th>Radius of gyration(Rg)</th>\n",
       "      <th>avd_Rg</th>\n",
       "    </tr>\n",
       "  </thead>\n",
       "  <tbody>\n",
       "    <tr>\n",
       "      <th>0</th>\n",
       "      <td>7261062279775109855</td>\n",
       "      <td>9</td>\n",
       "      <td>1.888889</td>\n",
       "      <td>22.02</td>\n",
       "      <td>3.736667</td>\n",
       "    </tr>\n",
       "    <tr>\n",
       "      <th>1</th>\n",
       "      <td>2687653510006079318</td>\n",
       "      <td>7</td>\n",
       "      <td>1.285714</td>\n",
       "      <td>2.23</td>\n",
       "      <td>0.545714</td>\n",
       "    </tr>\n",
       "    <tr>\n",
       "      <th>2</th>\n",
       "      <td>5971295292071109327</td>\n",
       "      <td>11</td>\n",
       "      <td>1.909091</td>\n",
       "      <td>2.74</td>\n",
       "      <td>0.942727</td>\n",
       "    </tr>\n",
       "    <tr>\n",
       "      <th>3</th>\n",
       "      <td>1218527985218154304</td>\n",
       "      <td>2</td>\n",
       "      <td>1.000000</td>\n",
       "      <td>0.00</td>\n",
       "      <td>0.000000</td>\n",
       "    </tr>\n",
       "    <tr>\n",
       "      <th>4</th>\n",
       "      <td>1908313866676533161</td>\n",
       "      <td>12</td>\n",
       "      <td>1.666667</td>\n",
       "      <td>8.09</td>\n",
       "      <td>1.921667</td>\n",
       "    </tr>\n",
       "    <tr>\n",
       "      <th>...</th>\n",
       "      <td>...</td>\n",
       "      <td>...</td>\n",
       "      <td>...</td>\n",
       "      <td>...</td>\n",
       "      <td>...</td>\n",
       "    </tr>\n",
       "    <tr>\n",
       "      <th>730</th>\n",
       "      <td>1953131665943264093</td>\n",
       "      <td>3</td>\n",
       "      <td>1.000000</td>\n",
       "      <td>0.00</td>\n",
       "      <td>0.000000</td>\n",
       "    </tr>\n",
       "    <tr>\n",
       "      <th>731</th>\n",
       "      <td>1221632098301211317</td>\n",
       "      <td>1</td>\n",
       "      <td>1.000000</td>\n",
       "      <td>0.00</td>\n",
       "      <td>0.000000</td>\n",
       "    </tr>\n",
       "    <tr>\n",
       "      <th>732</th>\n",
       "      <td>4467554764147785754</td>\n",
       "      <td>1</td>\n",
       "      <td>1.000000</td>\n",
       "      <td>0.00</td>\n",
       "      <td>0.000000</td>\n",
       "    </tr>\n",
       "    <tr>\n",
       "      <th>733</th>\n",
       "      <td>9170332955633665019</td>\n",
       "      <td>7</td>\n",
       "      <td>1.000000</td>\n",
       "      <td>0.00</td>\n",
       "      <td>0.000000</td>\n",
       "    </tr>\n",
       "    <tr>\n",
       "      <th>734</th>\n",
       "      <td>5103291766416601716</td>\n",
       "      <td>2</td>\n",
       "      <td>1.000000</td>\n",
       "      <td>0.00</td>\n",
       "      <td>0.000000</td>\n",
       "    </tr>\n",
       "  </tbody>\n",
       "</table>\n",
       "<p>735 rows × 5 columns</p>\n",
       "</div>"
      ],
      "text/plain": [
       "                  userid  usage_days  mean_locs_day  Radius of gyration(Rg)  \\\n",
       "0    7261062279775109855           9       1.888889                   22.02   \n",
       "1    2687653510006079318           7       1.285714                    2.23   \n",
       "2    5971295292071109327          11       1.909091                    2.74   \n",
       "3    1218527985218154304           2       1.000000                    0.00   \n",
       "4    1908313866676533161          12       1.666667                    8.09   \n",
       "..                   ...         ...            ...                     ...   \n",
       "730  1953131665943264093           3       1.000000                    0.00   \n",
       "731  1221632098301211317           1       1.000000                    0.00   \n",
       "732  4467554764147785754           1       1.000000                    0.00   \n",
       "733  9170332955633665019           7       1.000000                    0.00   \n",
       "734  5103291766416601716           2       1.000000                    0.00   \n",
       "\n",
       "       avd_Rg  \n",
       "0    3.736667  \n",
       "1    0.545714  \n",
       "2    0.942727  \n",
       "3    0.000000  \n",
       "4    1.921667  \n",
       "..        ...  \n",
       "730  0.000000  \n",
       "731  0.000000  \n",
       "732  0.000000  \n",
       "733  0.000000  \n",
       "734  0.000000  \n",
       "\n",
       "[735 rows x 5 columns]"
      ]
     },
     "execution_count": 104,
     "metadata": {},
     "output_type": "execute_result"
    }
   ],
   "source": [
    "df"
   ]
  },
  {
   "cell_type": "markdown",
   "metadata": {},
   "source": [
    "### QUESTION-PART1: DEFINE A FUNCTION WITH FOLLOWING PROPERTIES:\n",
    "- **Function name:** generate_outputs_from_csv()\n",
    "- **Inputs:** csv file which you save from generate_basic_user_attributes_with_pandas function above\n",
    "- **Inside the function:** use any plotting library (e.g., seaborn as we have used in this course) to generate a distribution plot of ```Radius of gyration(Rg)```.  Make sure your function shows the plot inline when it runs.\n",
    "- **Function output:** The function doesnt have to return anything\n",
    "\n",
    "### QUESTION-PART2: INTERPRET THE RESULTS\n",
    "Write a few sentences to interpret the plot ```Radius of gyration(Rg)``` that you generated. Based on how it looks, do you think its normally distributed? "
   ]
  },
  {
   "cell_type": "code",
   "execution_count": 88,
   "metadata": {},
   "outputs": [],
   "source": [
    "def generate_outputs_from_csv(outcsv):\n",
    "    \n",
    "    df = pd.read_csv(outcsv)\n",
    "    x = df['Radius of gyration(Rg)']\n",
    "    \n",
    "    plt.figure(figsize= (7,15))\n",
    "    sns.distplot(x)\n",
    "    plt.show();# A refaire"
   ]
  },
  {
   "cell_type": "code",
   "execution_count": 89,
   "metadata": {},
   "outputs": [
    {
     "data": {
      "image/png": "[encoded data removed]",
      "text/plain": [
       "<Figure size 504x1080 with 1 Axes>"
      ]
     },
     "metadata": {},
     "output_type": "display_data"
    }
   ],
   "source": [
    "generate_outputs_from_csv('outcsv.csv')"
   ]
  },
  {
   "cell_type": "markdown",
   "metadata": {},
   "source": [
    "## Interpretation\n",
    "\n",
    "\n",
    "######  We observe from the plot above that the maximum distance made by the users can follow a normal distribution"
   ]
  },
  {
   "cell_type": "markdown",
   "metadata": {},
   "source": [
    "### QUESTION: EXPLORE RELATIONSHIP BETWEEN ```avg_Rg``` and ```avg_locs_per_day```\n",
    "Using the CSV that you saved above, perfom analyis (you dont have to use a function)\n",
    "- Use a relevant plot to show relationship between the two variables\n",
    "- Report the correlation coefficient between the two variables\n",
    "- Write a few sentences to interpret the results"
   ]
  },
  {
   "cell_type": "code",
   "execution_count": 91,
   "metadata": {},
   "outputs": [
    {
     "data": {
      "image/png": "[encoded data removed]",
      "text/plain": [
       "<Figure size 504x504 with 1 Axes>"
      ]
     },
     "metadata": {},
     "output_type": "display_data"
    }
   ],
   "source": [
    "x = df['mean_locs_day']\n",
    "y = df['avd_Rg']\n",
    "plt.figure(figsize= (7,7))\n",
    "#plt.plot(x,y)\n",
    "sns.scatterplot(x,y)\n",
    "plt.show()"
   ]
  },
  {
   "cell_type": "markdown",
   "metadata": {},
   "source": [
    "# correlation coefficients"
   ]
  },
  {
   "cell_type": "code",
   "execution_count": 103,
   "metadata": {},
   "outputs": [
    {
     "data": {
      "text/plain": [
       "array([[1.        , 0.41867642],\n",
       "       [0.41867642, 1.        ]])"
      ]
     },
     "execution_count": 103,
     "metadata": {},
     "output_type": "execute_result"
    }
   ],
   "source": [
    "r = np.corrcoef(x, y)\n",
    "r"
   ]
  },
  {
   "cell_type": "markdown",
   "metadata": {},
   "source": [
    "# interpretation of the results"
   ]
  },
  {
   "cell_type": "markdown",
   "metadata": {},
   "source": [
    "#### We observe from the scatterplot of the two variables above that there is not a good linear relationship between the two variables and this is confirmed by the table of correlation above where we can see that the correlation coefficient between the average radius and the average location per day is ```0.41867642``` which is not close to one"
   ]
  }
 ],
 "metadata": {
  "kernelspec": {
   "display_name": "Python 3",
   "language": "python",
   "name": "python3"
  },
  "language_info": {
   "codemirror_mode": {
    "name": "ipython",
    "version": 3
   },
   "file_extension": ".py",
   "mimetype": "text/x-python",
   "name": "python",
   "nbconvert_exporter": "python",
   "pygments_lexer": "ipython3",
   "version": "3.9.2"
  },
  "toc": {
   "base_numbering": 1,
   "nav_menu": {},
   "number_sections": true,
   "sideBar": true,
   "skip_h1_title": false,
   "title_cell": "Table of Contents",
   "title_sidebar": "Contents",
   "toc_cell": false,
   "toc_position": {},
   "toc_section_display": true,
   "toc_window_display": false
  }
 },
 "nbformat": 4,
 "nbformat_minor": 2
}
