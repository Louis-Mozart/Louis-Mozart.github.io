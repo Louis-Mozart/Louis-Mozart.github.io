{
 "cells": [
  {
   "cell_type": "markdown",
   "id": "hydraulic-cholesterol",
   "metadata": {},
   "source": [
    "## Question 4.  \n",
    "\n",
    "<b style='color:red;'>The structure of the code is correct. You were asked to find the $\\infty$- norm.</b>"
   ]
  },
  {
   "cell_type": "markdown",
   "id": "false-removal",
   "metadata": {},
   "source": [
    "#### Let find the $\\infty$-norm condition of teh coefficients of the system of the normal equation $$X^{T}X\\begin{pmatrix}\n",
    "\tm\\\\\n",
    "\tb\n",
    "\\end{pmatrix}=X^{T}Y$$\n",
    "We have $\\forall i\\in\\{1,2,\\dots,7\\},$\n",
    "\\begin{align*}\n",
    "\t mx_{i}+b=y_{i}&\\implies \\begin{cases}\n",
    "\t\tmx_{1}+b=y_{1}\\\\\n",
    "\t\tmx_{2}+b=y_{2}\\\\\n",
    "\t\t\\qquad\t\\vdots\\\\\n",
    "\t\tmx_{7}+b=y_{7}\n",
    "\t\\end{cases}\\\\\n",
    "&\\implies\\begin{pmatrix}\n",
    "\tx_{1}&1\\\\\n",
    "\tx_{2}&1\\\\\n",
    "\t\\vdots&\\vdots\\\\\n",
    "\tx_{7}&1\n",
    "\\end{pmatrix}\\begin{pmatrix}\n",
    "m\\\\\n",
    "b\n",
    "\\end{pmatrix}=\\begin{pmatrix}\n",
    "y_{1}\\\\\n",
    "\\vdots\\\\\n",
    "y_{2}\\\\\n",
    "y_{7}\\\\\n",
    "\\end{pmatrix} \\end{align*} \n",
    "We deduce $X=\\begin{pmatrix}\n",
    "\tx_{1}&1\\\\\n",
    "\tx_{2}&1\\\\\n",
    "\t\\vdots&\\vdots\\\\\n",
    "\tx_{7}&1\n",
    "\\end{pmatrix}$ and $Y=\\begin{pmatrix}\n",
    "y_{1}\\\\\n",
    "y_{2}\\\\\n",
    "\\vdots\\\\\n",
    "y_{7}\n",
    "\\end{pmatrix}$\n",
    "\\begin{align*}\n",
    "\tX^{T}X\\begin{pmatrix}\n",
    "\t\tm\\\\\n",
    "\t\tb\n",
    "\t\\end{pmatrix}=X^{T}Y&\\implies\\begin{pmatrix}\n",
    "\tx_{1}&x_{2}&\\dots&x_{7}\\\\\n",
    "\t1&1&\\dots& 1\\\\\n",
    "\t\\end{pmatrix}\\begin{pmatrix}\n",
    "x_{1}&1\\\\\n",
    "x_{2}&1\\\\\n",
    "\\vdots&\\vdots\\\\\n",
    "x_{7}&1\n",
    "\\end{pmatrix}\\begin{pmatrix}\n",
    "m\\\\\n",
    "b\n",
    "\\end{pmatrix}=\\begin{pmatrix}\n",
    "x_{1}&x_{2}&\\dots&x_{7}\\\\\n",
    "1&1&\\dots& 1\\\\\n",
    "\\end{pmatrix}\\begin{pmatrix}\n",
    "y_{1}\\\\\n",
    "y_{2}\\\\\n",
    "\\vdots\\\\\n",
    "y_{7}\n",
    "\\end{pmatrix}\\\\\n",
    "&\\implies \\begin{pmatrix}\n",
    "\tx_{1}^{2}+\\dots+x_{7}^{2}&\tx_{1}^{}+\\dots+x_{7}^{}\\\\\n",
    "\tx_{1}^{}+\\dots+x_{7}^{}&1+\\dots+1\n",
    "\\end{pmatrix}\\begin{pmatrix}\n",
    "m\\\\\n",
    "b\n",
    "\\end{pmatrix}=\\begin{pmatrix}\n",
    "x_{1}y_{1}+\\dots+x_{7}y_{7}\\\\\n",
    "y_{1}+\\dots+y_{7}\n",
    "\\end{pmatrix}\n",
    "\\end{align*}\n",
    "Let $A=\\begin{pmatrix}\n",
    "\tx_{1}^{2}+\\dots+x_{7}^{2}&\tx_{1}^{}+\\dots+x_{7}^{}\\\\\n",
    "\tx_{1}^{}+\\dots+x_{7}^{}&1+\\dots+1\n",
    "\\end{pmatrix}$ the $\\infty$-norm condition is the $\\infty$-norm condition of $A$ \n"
   ]
  },
  {
   "cell_type": "code",
   "execution_count": 8,
   "id": "unnecessary-thesis",
   "metadata": {},
   "outputs": [],
   "source": [
    "import numpy as np\n",
    "from matplotlib import pyplot as plt\n",
    "from scipy.optimize import *"
   ]
  },
  {
   "cell_type": "code",
   "execution_count": 2,
   "id": "golden-round",
   "metadata": {},
   "outputs": [],
   "source": [
    "Xi=np.array([1.001,1.002,1.003,1.004,1.005,1.006,1.007])\n",
    "yi=np.array([3.665,3.789,3.891,4.022,4.233,5.200,5.329])\n",
    "I=np.ones(7)"
   ]
  },
  {
   "cell_type": "code",
   "execution_count": 3,
   "id": "subtle-rocket",
   "metadata": {},
   "outputs": [
    {
     "data": {
      "text/plain": [
       "array([[7.05614, 7.028  ],\n",
       "       [7.028  , 7.     ]])"
      ]
     },
     "execution_count": 3,
     "metadata": {},
     "output_type": "execute_result"
    }
   ],
   "source": [
    "A=np.zeros((2,2))\n",
    "A[0,0],A[0,1],A[1,0],A[1,1]=sum(Xi**2),sum(Xi),sum(Xi),sum(I)\n",
    "\n",
    "#A=np.array([[sum(Xi**2)],[sum(Xi)],[sum(Xi)],[sum(I)]])\n",
    "A"
   ]
  },
  {
   "cell_type": "markdown",
   "id": "artificial-crack",
   "metadata": {},
   "source": [
    "### Conditionnal number"
   ]
  },
  {
   "cell_type": "code",
   "execution_count": 6,
   "id": "convenient-carry",
   "metadata": {},
   "outputs": [
    {
     "name": "stdout",
     "output_type": "stream",
     "text": [
      "The conditionnal number of the system is 1008034.0799851977\n"
     ]
    }
   ],
   "source": [
    "print('The conditionnal number of the system is',np.linalg.cond(A))"
   ]
  },
  {
   "cell_type": "markdown",
   "id": "optional-shepherd",
   "metadata": {},
   "source": [
    "### interpretation: \n",
    "The conditionnal number of the system is very big mean that the system is ill-conditionned"
   ]
  },
  {
   "cell_type": "markdown",
   "id": "great-apparatus",
   "metadata": {},
   "source": [
    "## Question 5"
   ]
  },
  {
   "cell_type": "markdown",
   "id": "iraqi-strip",
   "metadata": {},
   "source": [
    "### Use python to determine the orbital parameter"
   ]
  },
  {
   "cell_type": "markdown",
   "id": "contemporary-screen",
   "metadata": {},
   "source": [
    "We have for all $i\\in\\{1,2,\\dots,10\\}$  $ay_{i}^{2}+bx_{i}y_{i}+cx_{i}+dy_{i}+e=x_{i}^{2}$ ie :\n",
    "\\begin{align}\n",
    "\t\\begin{pmatrix}\n",
    "\t\ty_{1}^{2}&x_{1}y_{1}&x_{1}&y_{1}&1\\\\\n",
    "\t\ty_{2}^{2}&x_{2}y_{2}&x_{2}&y_{2}&1\\\\\n",
    "\t\t\\vdots&\\vdots&\\vdots&\\vdots&\\vdots\\\\\n",
    "\t\ty_{10}^{2}&x_{10}y_{10}&x_{10}&y_{10}&1\n",
    "\t\\end{pmatrix}\\begin{pmatrix}\n",
    "\ta\\\\\n",
    "\tb\\\\\n",
    "\tc\\\\\n",
    "\td\\\\\n",
    "\te\n",
    "\\end{pmatrix}=\\begin{pmatrix}\n",
    "x_{1}^{2}\\\\\n",
    "x_{2}^{2}\\\\\n",
    "\\vdots\\\\\n",
    "x_{10}^{2}\n",
    "\\end{pmatrix}\n",
    "\\end{align}\n",
    "Let $A=\\begin{pmatrix}\n",
    "\ty_{1}^{2}&x_{1}y_{1}&x_{1}&y_{1}&1\\\\\n",
    "\ty_{2}^{2}&x_{2}y_{2}&x_{2}&y_{2}&1\\\\\n",
    "\t\\vdots&\\vdots&\\vdots&\\vdots&\\vdots\\\\\n",
    "\ty_{10}^{2}&x_{10}y_{10}&x_{10}&y_{10}&1\n",
    "\\end{pmatrix}$ Since $A$ is not a square matrix, we can multiply equation (3) by the transpose of $A$ and take the inverse of $A^{T}A$ to have the parameters ie \n",
    "\\begin{align*}\n",
    "\tA^{T}A\\begin{pmatrix}\n",
    "\t\ta\\\\\n",
    "\t\tb\\\\\n",
    "\t\tc\\\\\n",
    "\t\td\\\\\n",
    "\t\te\n",
    "\t\\end{pmatrix}=\\begin{pmatrix}\n",
    "\tx_{1}^{2}\\\\\n",
    "\tx_{2}^{2}\\\\\n",
    "\t\\vdots\\\\\n",
    "\tx_{10}^{2}\n",
    "\\end{pmatrix}\\implies \\begin{pmatrix}\n",
    "a\\\\\n",
    "b\\\\\n",
    "c\\\\\n",
    "d\\\\\n",
    "e\n",
    "\\end{pmatrix}=(A^{T}A)^{-1}A^{T}\\begin{pmatrix}\n",
    "x_{1}^{2}\\\\\n",
    "x_{2}^{2}\\\\\n",
    "\\vdots\\\\\n",
    "x_{10}^{2}\n",
    "\\end{pmatrix}\n",
    "\\end{align*}"
   ]
  },
  {
   "cell_type": "markdown",
   "id": "secure-charter",
   "metadata": {},
   "source": [
    "### printing the coefficient\n",
    "\n",
    "\n",
    "<b style='color:red;'>The structure of the code and output of the orbital parameters are correct.</b>"
   ]
  },
  {
   "cell_type": "code",
   "execution_count": 9,
   "id": "whole-cookie",
   "metadata": {},
   "outputs": [],
   "source": [
    "xi=np.array([1.02,0.95,0.87,0.77,0.67,0.56,0.44,0.30,0.16,0.01])\n",
    "yi=np.array([0.39, 0.32 ,0.27, 0.22, 0.18, 0.15 ,0.13, 0.12, 0.13 ,0.15])"
   ]
  },
  {
   "cell_type": "code",
   "execution_count": 10,
   "id": "protecting-romantic",
   "metadata": {},
   "outputs": [
    {
     "data": {
      "text/plain": [
       "array([[0.1521, 0.3978, 1.02  , 0.39  , 1.    ],\n",
       "       [0.1024, 0.304 , 0.95  , 0.32  , 1.    ],\n",
       "       [0.0729, 0.2349, 0.87  , 0.27  , 1.    ],\n",
       "       [0.0484, 0.1694, 0.77  , 0.22  , 1.    ],\n",
       "       [0.0324, 0.1206, 0.67  , 0.18  , 1.    ],\n",
       "       [0.0225, 0.084 , 0.56  , 0.15  , 1.    ],\n",
       "       [0.0169, 0.0572, 0.44  , 0.13  , 1.    ],\n",
       "       [0.0144, 0.036 , 0.3   , 0.12  , 1.    ],\n",
       "       [0.0169, 0.0208, 0.16  , 0.13  , 1.    ],\n",
       "       [0.0225, 0.0015, 0.01  , 0.15  , 1.    ]])"
      ]
     },
     "execution_count": 10,
     "metadata": {},
     "output_type": "execute_result"
    }
   ],
   "source": [
    "A=np.array([yi**2,xi*yi,xi,yi,np.ones(10)]).T\n",
    "A"
   ]
  },
  {
   "cell_type": "code",
   "execution_count": 11,
   "id": "thermal-original",
   "metadata": {},
   "outputs": [
    {
     "name": "stdout",
     "output_type": "stream",
     "text": [
      "[-2.63562548  0.14364618  0.55144696  3.22294034 -0.43289427]\n"
     ]
    }
   ],
   "source": [
    "coef=np.linalg.inv(A.T@A)@A.T@(xi**2)\n",
    "print(coef)"
   ]
  },
  {
   "cell_type": "markdown",
   "id": "configured-cause",
   "metadata": {},
   "source": [
    "### ploting of the resulting and the given data"
   ]
  },
  {
   "cell_type": "code",
   "execution_count": 15,
   "id": "electrical-doctor",
   "metadata": {},
   "outputs": [],
   "source": [
    "def F(y,x,p):\n",
    "    a,b,c,d,e=p\n",
    "    return a*y**2+b*x*y+c*x+d*y-x**2+e\n",
    "t=np.linspace(0,1,40)\n",
    "q=coef.T\n",
    "z=[fsolve(F,0,args=(i,q)) for i in t]\n"
   ]
  },
  {
   "cell_type": "code",
   "execution_count": 16,
   "id": "dietary-cancellation",
   "metadata": {},
   "outputs": [
    {
     "data": {
      "image/png": "[encoded data removed]",
      "text/plain": [
       "<Figure size 432x288 with 1 Axes>"
      ]
     },
     "metadata": {
      "needs_background": "light"
     },
     "output_type": "display_data"
    }
   ],
   "source": [
    "plt.plot(t,z,color='b',lw='6')\n",
    "plt.plot(xi,yi, 'r--',lw='5')\n",
    "plt.legend(['given data','elliptical orbit'])\n",
    "plt.show()"
   ]
  },
  {
   "cell_type": "markdown",
   "id": "similar-reader",
   "metadata": {},
   "source": [
    "### 2. This least squares problem is nearly rank- deficient. To see what ef-fect this has on the solution, perturb the input by adding to each data point a random number uniformly distributed on the interval [−0.005,0.005] and solve the least squares problem with perturbed data. What effect does this difference has on the plot of the orbits ? Ca you explain this behavior.\n",
    "\n",
    "\n",
    "\n",
    "\n",
    "<b style='color:red;'>The pertubation added to the input data is correct. But the plot is not as expected, check again the strategy used.</b>"
   ]
  },
  {
   "cell_type": "code",
   "execution_count": 10,
   "id": "approximate-decrease",
   "metadata": {},
   "outputs": [],
   "source": [
    "import random"
   ]
  },
  {
   "cell_type": "code",
   "execution_count": 29,
   "id": "waiting-cambridge",
   "metadata": {},
   "outputs": [],
   "source": [
    "x=np.zeros(len(xi))\n",
    "for i in range(len(xi)):\n",
    "    x[i]=xi[i]+random.uniform(-0.005,0.005) \n",
    "    "
   ]
  },
  {
   "cell_type": "code",
   "execution_count": 32,
   "id": "pregnant-devil",
   "metadata": {},
   "outputs": [],
   "source": [
    "q=coef.T\n",
    "T=list(x)\n",
    "z1=[fsolve(F,0,args=(i,q)) for i in T]"
   ]
  },
  {
   "cell_type": "code",
   "execution_count": 33,
   "id": "authorized-distance",
   "metadata": {},
   "outputs": [
    {
     "data": {
      "text/plain": [
       "[array([0.39003906]),\n",
       " array([0.32677984]),\n",
       " array([0.27072941]),\n",
       " array([0.21664325]),\n",
       " array([0.1789049]),\n",
       " array([0.14983222]),\n",
       " array([0.13036778]),\n",
       " array([0.1213942]),\n",
       " array([0.12733398]),\n",
       " array([0.15043457])]"
      ]
     },
     "execution_count": 33,
     "metadata": {},
     "output_type": "execute_result"
    }
   ],
   "source": [
    "z1"
   ]
  },
  {
   "cell_type": "code",
   "execution_count": 34,
   "id": "experimental-deadline",
   "metadata": {},
   "outputs": [
    {
     "data": {
      "text/plain": [
       "[<matplotlib.lines.Line2D at 0x7f8df004c7c0>]"
      ]
     },
     "execution_count": 34,
     "metadata": {},
     "output_type": "execute_result"
    },
    {
     "data": {
      "image/png": "[encoded data removed]",
      "text/plain": [
       "<Figure size 432x288 with 1 Axes>"
      ]
     },
     "metadata": {
      "needs_background": "light"
     },
     "output_type": "display_data"
    }
   ],
   "source": [
    "t=np.linspace(0,1,40)\n",
    "plt.plot(z1,x)\n",
    "plt.plot(t,z)"
   ]
  },
  {
   "cell_type": "markdown",
   "id": "moving-importance",
   "metadata": {},
   "source": [
    " ### we can see that a small pertubation in the input gives a big change in the output. This behavior come from the fact that the system is not well conditioned because we have:"
   ]
  },
  {
   "cell_type": "code",
   "execution_count": 36,
   "id": "confidential-wrist",
   "metadata": {},
   "outputs": [
    {
     "name": "stdout",
     "output_type": "stream",
     "text": [
      "The conditional number of the system is 473935.10331647756\n"
     ]
    }
   ],
   "source": [
    "print('The conditional number of the system is',np.linalg.cond(A.T@A))"
   ]
  },
  {
   "cell_type": "markdown",
   "id": "sexual-state",
   "metadata": {},
   "source": [
    "Who is very big ie the system is ill conditioned"
   ]
  },
  {
   "cell_type": "code",
   "execution_count": null,
   "id": "supreme-alberta",
   "metadata": {},
   "outputs": [],
   "source": []
  }
 ],
 "metadata": {
  "kernelspec": {
   "display_name": "Python 3",
   "language": "python",
   "name": "python3"
  },
  "language_info": {
   "codemirror_mode": {
    "name": "ipython",
    "version": 3
   },
   "file_extension": ".py",
   "mimetype": "text/x-python",
   "name": "python",
   "nbconvert_exporter": "python",
   "pygments_lexer": "ipython3",
   "version": "3.9.2"
  }
 },
 "nbformat": 4,
 "nbformat_minor": 5
}
